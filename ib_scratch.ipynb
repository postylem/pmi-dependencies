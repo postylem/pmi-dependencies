{
 "cells": [
  {
   "cell_type": "markdown",
   "metadata": {},
   "source": [
    "### General structure\n",
    "1. Project to bottleneck representation\n",
    "```python\n",
    "Z = bottleneck(h) \n",
    "```\n",
    "\n",
    "2. split into means and log-covariances\n",
    "```python\n",
    "mus, logsigs = torch.chunk(Z, 2, dim=2)\n",
    "```\n",
    "\n",
    "3. $KL(q(z | x) || p(z)) >= I(x, z)$\n",
    "   where $p = N(0,I^d)$\n",
    "```python\n",
    "kld = -0.5 * (1 + logsigs - mus.pow(2) - logsigs.exp()).sum(2).mean(1).mean(0)\n",
    "``` \n",
    "get logits for p(y|z) = Wz using z ~ q(z | x)\n",
    "```python\n",
    "sample = mus + torch.randn_like(logsigs) * torch.exp(0.5 * logsigs)\n",
    "logits = w_pos(sample)\n",
    "```\n",
    "4. compute cross entropy using the sample $\\mathbb E_{q(z | x)} [ - \\log p(y | z) ] \\cong I(Z;Y)$\n",
    "```python\n",
    "loss = cross_entropy(logits, pos_ids)\n",
    "```\n",
    "\n",
    "5. get full IB loss\n",
    "```python\n",
    "ib_loss = loss + beta * kld\n",
    "```"
   ]
  },
  {
   "cell_type": "code",
   "execution_count": 37,
   "metadata": {},
   "outputs": [],
   "source": [
    "import torch"
   ]
  },
  {
   "cell_type": "code",
   "execution_count": 77,
   "metadata": {},
   "outputs": [
    {
     "name": "stdout",
     "output_type": "stream",
     "text": [
      "Z:\n",
      "tensor([[[2., 1., 0., 2., 2., 1.],\n",
      "         [1., 0., 0., 1., 1., 2.],\n",
      "         [2., 2., 2., 2., 2., 0.],\n",
      "         [1., 2., 0., 1., 2., 2.]],\n",
      "\n",
      "        [[2., 0., 0., 2., 1., 1.],\n",
      "         [0., 0., 1., 1., 0., 2.],\n",
      "         [0., 2., 0., 1., 2., 1.],\n",
      "         [1., 1., 0., 1., 2., 0.]]])\n",
      "kld:\n",
      "tensor([[ 7.2482,  3.4128, 10.3891,  7.2482],\n",
      "        [ 4.9128,  3.0537,  4.9128,  3.5537]])\n"
     ]
    }
   ],
   "source": [
    "# pretend Z is the output of the encoder layer (Z = W_enc(H) = q(z|h))\n",
    "batchsize, maxsentlen, embeddingsize = 2,4,3\n",
    "Z = torch.randint(3,(batchsize, maxsentlen, 2*embeddingsize)).type(torch.float32)\n",
    "print(\"Z:\",Z,sep='\\n')\n",
    "mus,logsigs = torch.chunk(Z, 2, dim=2)\n",
    "# print(f\"mus:\\n{mus}\\nlogsigs:\\n{logsigs}\")\n",
    "# KLD(q(z | x) || p(z)) \n",
    "kld = 0.5 * (mus.pow(2) + logsigs.exp() - logsigs - 1).sum(2)#.mean(1).mean(0)\n",
    "print(\"kld:\",kld,sep='\\n')\n",
    "sample = mus + torch.randn_like(logsigs) * torch.exp(0.5 * logsigs)"
   ]
  },
  {
   "cell_type": "code",
   "execution_count": 78,
   "metadata": {
    "scrolled": true
   },
   "outputs": [
    {
     "data": {
      "text/plain": [
       "True"
      ]
     },
     "execution_count": 78,
     "metadata": {},
     "output_type": "execute_result"
    }
   ],
   "source": [
    "(kld.size(0), kld.size(1)) == (batchsize, maxsentlen)"
   ]
  },
  {
   "cell_type": "code",
   "execution_count": 87,
   "metadata": {},
   "outputs": [
    {
     "name": "stdout",
     "output_type": "stream",
     "text": [
      "tensor([[1.3333, 0.8333, 1.6667, 1.3333],\n",
      "        [1.0000, 0.6667, 1.0000, 0.8333]])\n",
      "tensor([[ True,  True,  True,  True],\n",
      "        [False,  True, False,  True]])\n",
      "tensor([1.2917, 0.7500])\n"
     ]
    },
    {
     "data": {
      "text/plain": [
       "tensor(2.0417)"
      ]
     },
     "execution_count": 87,
     "metadata": {},
     "output_type": "execute_result"
    }
   ],
   "source": [
    "X = Z.mean(2)\n",
    "print(X)\n",
    "mask = X != 1\n",
    "print(mask)\n",
    "k=((X*mask).sum(dim=1)/mask.sum(dim=1))\n",
    "print(k)\n",
    "k.sum(0)"
   ]
  },
  {
   "cell_type": "code",
   "execution_count": 90,
   "metadata": {},
   "outputs": [
    {
     "data": {
      "text/plain": [
       "tensor([[[-0.0252,  0.0208,  0.0599],\n",
       "         [-1.0442,  0.8686, -0.9354],\n",
       "         [ 1.1752, -0.5884,  1.1747],\n",
       "         [ 0.4924,  1.1959, -0.2932]],\n",
       "\n",
       "        [[ 0.3948, -2.2222, -2.2528],\n",
       "         [ 2.7600,  1.2516, -0.3316],\n",
       "         [ 1.1209, -0.3118, -1.6234],\n",
       "         [ 0.6532, -0.4413, -0.5855]]])"
      ]
     },
     "execution_count": 90,
     "metadata": {},
     "output_type": "execute_result"
    }
   ],
   "source": [
    "torch.randn_like(logsigs)"
   ]
  },
  {
   "cell_type": "code",
   "execution_count": 1,
   "metadata": {},
   "outputs": [],
   "source": [
    "IB_TRAIN_OPTS = dict(\n",
    "        algorithm='adam',\n",
    "        hyperparams=dict(lr=1e-3, weight_decay=0.00001, momentum=0.9)\n",
    "        )"
   ]
  },
  {
   "cell_type": "code",
   "execution_count": 2,
   "metadata": {},
   "outputs": [],
   "source": [
    "import yaml"
   ]
  },
  {
   "cell_type": "code",
   "execution_count": 3,
   "metadata": {},
   "outputs": [
    {
     "name": "stdout",
     "output_type": "stream",
     "text": [
      "algorithm: adam\n",
      "hyperparams:\n",
      "  lr: 0.001\n",
      "  momentum: 0.9\n",
      "  weight_decay: 1.0e-05\n",
      "\n"
     ]
    }
   ],
   "source": [
    "print(yaml.dump(IB_TRAIN_OPTS))"
   ]
  },
  {
   "cell_type": "code",
   "execution_count": 22,
   "metadata": {},
   "outputs": [],
   "source": [
    "with open(\"test2\", \"w\") as f:\n",
    "    yaml.dump(IB_TRAIN_OPTS, f)"
   ]
  },
  {
   "cell_type": "code",
   "execution_count": 14,
   "metadata": {},
   "outputs": [],
   "source": [
    "with open(\"test\", \"r\") as f:\n",
    "    d = yaml.safe_load(f)"
   ]
  },
  {
   "cell_type": "code",
   "execution_count": 19,
   "metadata": {},
   "outputs": [
    {
     "data": {
      "text/plain": [
       "1e-05"
      ]
     },
     "execution_count": 19,
     "metadata": {},
     "output_type": "execute_result"
    }
   ],
   "source": [
    "d['hyperparams']['weight_decay']"
   ]
  },
  {
   "cell_type": "code",
   "execution_count": 20,
   "metadata": {},
   "outputs": [],
   "source": [
    "d['dev']=22"
   ]
  },
  {
   "cell_type": "code",
   "execution_count": 35,
   "metadata": {},
   "outputs": [],
   "source": [
    "d.update(x)"
   ]
  },
  {
   "cell_type": "code",
   "execution_count": 34,
   "metadata": {},
   "outputs": [],
   "source": []
  },
  {
   "cell_type": "code",
   "execution_count": null,
   "metadata": {},
   "outputs": [],
   "source": []
  }
 ],
 "metadata": {
  "kernelspec": {
   "display_name": "Python [conda env:pmienv] *",
   "language": "python",
   "name": "conda-env-pmienv-py"
  },
  "language_info": {
   "codemirror_mode": {
    "name": "ipython",
    "version": 3
   },
   "file_extension": ".py",
   "mimetype": "text/x-python",
   "name": "python",
   "nbconvert_exporter": "python",
   "pygments_lexer": "ipython3",
   "version": "3.7.7"
  }
 },
 "nbformat": 4,
 "nbformat_minor": 4
}
