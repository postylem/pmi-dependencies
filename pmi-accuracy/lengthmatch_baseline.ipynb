{
  "cells": [
    {
      "cell_type": "code",
      "source": [
        "import random\n",
        "\n",
        "import pandas as pd\n",
        "import numpy as np\n",
        "import networkx as nx\n",
        "\n",
        "from tqdm.notebook import tqdm\n",
        "from argparse import ArgumentParser\n",
        "from collections import namedtuple\n",
        "from ast import literal_eval\n",
        "\n",
        "import main  # to use functions accessing data\n",
        "\n",
        "# Columns of CONLL file\n",
        "CONLL_COLS = ['index',\n",
        "              'sentence',\n",
        "              'lemma_sentence',\n",
        "              'upos_sentence',\n",
        "              'xpos_sentence',\n",
        "              'morph',\n",
        "              'head_indices',\n",
        "              'governance_relations',\n",
        "              'secondary_relations',\n",
        "              'extra_info']\n",
        "ObservationClass = namedtuple(\"Observation\", CONLL_COLS)"
      ],
      "outputs": [],
      "execution_count": 6,
      "metadata": {}
    },
    {
      "cell_type": "code",
      "source": [
        "OBSERVATIONS = main.load_conll_dataset(\"../ptb3-wsj-data/ptb3-wsj-dev.conllx\",\n",
        "                                       ObservationClass)\n",
        "EDGES_DF = pd.read_csv(\"../results-azure/bert-large-cased_pad60_2020-04-09-13-57/scores_bert-large-cased_pad60_2020-04-09-13-57.csv\")"
      ],
      "outputs": [],
      "execution_count": null,
      "metadata": {
        "collapsed": true,
        "jupyter": {
          "source_hidden": false,
          "outputs_hidden": false
        },
        "nteract": {
          "transient": {
            "deleting": false
          }
        }
      }
    },
    {
      "cell_type": "code",
      "source": [
        "EXCLUDED_PUNCTUATION = [\"\", \"'\", \"''\", \",\", \".\", \";\", \"!\", \"?\", \":\", \"``\", \"-LRB-\", \"-RRB-\"]\n",
        "\n",
        "def is_edge_to_ignore(edge, observation):\n",
        "    is_d_punct = bool(observation.sentence[edge[1]-1] in EXCLUDED_PUNCTUATION)\n",
        "    is_h_root = bool(edge[0] == 0)\n",
        "    return is_d_punct or is_h_root\n",
        "\n",
        "def score_observation(predicted_edges, observation, convert_from_0index=False):\n",
        "    # get gold edges (1-indexed)\n",
        "    gold_edges_list = list(zip(list(map(int, observation.head_indices)),\n",
        "                               list(map(int, observation.index)),\n",
        "                               observation.governance_relations))\n",
        "    gold_edge_to_label = {(e[0], e[1]): e[2] for e in gold_edges_list\n",
        "                          if not is_edge_to_ignore(e, observation)}\n",
        "    # just the unlabeled edges\n",
        "    gold_edges_set = {tuple(sorted(e)) for e in gold_edge_to_label.keys()}\n",
        "\n",
        "    # note converting to 1-indexing\n",
        "    k = 1 if convert_from_0index else 0\n",
        "    predicted_edges_set = {tuple(sorted((x[0]+k, x[1]+k))) for x in predicted_edges}\n",
        "\n",
        "    correct_edges = list(gold_edges_set.intersection(predicted_edges_set))\n",
        "    incorrect_edges = list(predicted_edges_set.difference(gold_edges_set))\n",
        "    num_correct = len(correct_edges)\n",
        "    num_total = len(gold_edges_set)\n",
        "    uuas = num_correct/float(num_total) if num_total != 0 else np.NaN\n",
        "    return uuas"
      ],
      "outputs": [],
      "execution_count": 924,
      "metadata": {}
    },
    {
      "cell_type": "code",
      "source": [
        "def Lk(ls):\n",
        "    \"\"\"Given a length sequence ls,\n",
        "    Returns \n",
        "        L: the length sequence (sorted)\n",
        "        k: a list of the counts of each length in L\"\"\"\n",
        "    L = sorted(ls)\n",
        "    k = [L.count(n) for n in range(L[-1]+1)]\n",
        "    return L,k\n",
        "\n",
        "def lengthmatch(observation):\n",
        "    '''get gold edge set and length sequence'''\n",
        "    # get gold edges (1-indexed)\n",
        "    gold_edges_list = list(zip(list(map(int, observation.head_indices)),\n",
        "                               list(map(int, observation.index)),\n",
        "                               observation.governance_relations))\n",
        "    gold_edge_to_label = {(e[0], e[1]): e[2] for e in gold_edges_list\n",
        "                          if not is_edge_to_ignore(e, observation)}\n",
        "    # just the unlabeled edges\n",
        "    gold_edges_set = {tuple(sorted(e)) for e in gold_edge_to_label.keys()}\n",
        "    lens = [e[1]-e[0] for e in gold_edges_set]\n",
        "    return lens, gold_edges_set"
      ],
      "outputs": [],
      "execution_count": null,
      "metadata": {}
    },
    {
      "cell_type": "code",
      "source": [
        "# obs = OBSERVATIONS[13]\n",
        "\n",
        "# lens, ges = lengthmatch(obs)\n",
        "# print(lens)\n",
        "# print(ges)\n",
        "\n",
        "# G=nx.Graph()\n",
        "# G.add_edges_from(ges)\n",
        "# # G.remove_edges_from(ges)\n",
        "# print(sorted(G.edges()))\n",
        "# bool((2,1) in G.edges())\n",
        "# print(\"Is a tree?\",nx.is_forest(G))\n",
        "# score_observation(G.edges(),obs)"
      ],
      "outputs": [],
      "execution_count": null,
      "metadata": {}
    },
    {
      "cell_type": "code",
      "source": [
        "def generate_lengthmatch(observation, make_tree=True, iterations=100):\n",
        "    '''\n",
        "    generate length-matched baseline of observation\n",
        "    after algorithm described in\n",
        "    https://cs.stackexchange.com/questions/116193\n",
        "    '''\n",
        "    lens, ges = lengthmatch(observation)\n",
        "    print(f\"len {len(observation[0])}\", end=\". \")\n",
        "    # initialize a graph with the right number of nodes\n",
        "    for iteration in range(iterations):\n",
        "\n",
        "        T=nx.Graph()\n",
        "        T.add_edges_from(ges)\n",
        "        T.remove_edges_from(ges)\n",
        "        L,k = Lk(lens)\n",
        "        \n",
        "        # for each edge length\n",
        "        for l in set(L):\n",
        "            V=T.nodes()\n",
        "            E=T.edges()\n",
        "\n",
        "            # generate set P of possible new edges of len l\n",
        "            eplus = set(tuple(sorted((u,u+l))) for u in V if u+l in V and (u,u+l) not in E)\n",
        "            eminus= set(tuple(sorted((u,u-l))) for u in V if u-l in V and (u,u-l) not in E)\n",
        "            P = eplus.union(eminus)\n",
        "            if len(P)==0:\n",
        "                raise ValueError(\"ERROR: no possible edges\")\n",
        "            # sampling k[l] edges of length l from P\n",
        "            additional_edges = random.sample(P,k[l])\n",
        "            T.add_edges_from(additional_edges)\n",
        "\n",
        "            if make_tree and not nx.is_forest(T):\n",
        "                break\n",
        "                \n",
        "        if (make_tree and nx.is_tree(T)) or not make_tree:\n",
        "            if make_tree: \n",
        "                print(f\"success after {iteration} iterations\")\n",
        "            return score_observation(T.edges(),observation)\n",
        "    print(f\"FAILED (reached max iterations {iterations})\")\n",
        "    return np.NaN\n",
        "        \n",
        "# generate_lengthmatch(OBSERVATIONS[65],make_tree=True)"
      ],
      "outputs": [],
      "execution_count": null,
      "metadata": {}
    },
    {
      "cell_type": "code",
      "source": [
        "scores=[]\n",
        "countobs=0\n",
        "for i, obs in enumerate(tqdm(OBSERVATIONS)):\n",
        "    print(str(i).ljust(4),end=\"\")\n",
        "    if 14 <= len(obs[0]) <= 35:\n",
        "        countobs +=1\n",
        "        scores.append(generate_lengthmatch(obs, iterations=15000))\n",
        "    else:\n",
        "        print(f\"len {len(obs[0])}\",\"(too long)\")\n",
        "failurecount = scores.count(np.NaN)"
      ],
      "outputs": [],
      "execution_count": null,
      "metadata": {}
    },
    {
      "cell_type": "markdown",
      "source": [
        "with $14 \\leq |s| \\leq35$, and 1000 iterations for rejection sampling: \n",
        "> mean avg = 0.387, n=828 (Failure rate: 343/1171)"
      ],
      "metadata": {}
    },
    {
      "cell_type": "code",
      "source": [
        "print(np.nanmean(scores), f\", n={countobs-failurecount} (Failure rate: {failurecount}/{countobs})\")"
      ],
      "outputs": [],
      "execution_count": null,
      "metadata": {}
    },
    {
      "cell_type": "markdown",
      "source": [
        "For comparison, we can also get the score of the CPMI trees:"
      ],
      "metadata": {
        "nteract": {
          "transient": {
            "deleting": false
          }
        }
      }
    },
    {
      "cell_type": "code",
      "source": [
        "gold_edges = [literal_eval(EDGES_DF.at[i, \"gold_edges\"]) for i,row in EDGES_DF.iterrows()]\n",
        "cpmi_edges = [literal_eval(EDGES_DF.at[i, \"projective.edges.sum\"]) for i,row in EDGES_DF.iterrows()]\n",
        "\n",
        "cpmi_scores = [score_observation(cpmi_edges[i],OBSERVATIONS[i],convert_from_0index=True) \n",
        "          for i,_ in enumerate(OBSERVATIONS)]\n",
        "np.nanmean(cpmi_scores)"
      ],
      "outputs": [
        {
          "output_type": "execute_result",
          "execution_count": 925,
          "data": {
            "text/plain": [
              "0.48217553684114794"
            ]
          },
          "metadata": {}
        }
      ],
      "execution_count": 925,
      "metadata": {}
    }
  ],
  "metadata": {
    "kernelspec": {
      "display_name": "Python [conda env:pmienv] *",
      "language": "python",
      "name": "conda-env-pmienv-py"
    },
    "language_info": {
      "codemirror_mode": {
        "name": "ipython",
        "version": 3
      },
      "file_extension": ".py",
      "mimetype": "text/x-python",
      "name": "python",
      "nbconvert_exporter": "python",
      "pygments_lexer": "ipython3",
      "version": "3.7.7"
    },
    "nteract": {
      "version": "0.23.3"
    }
  },
  "nbformat": 4,
  "nbformat_minor": 4
}