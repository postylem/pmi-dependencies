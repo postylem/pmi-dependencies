{
 "cells": [
  {
   "cell_type": "code",
   "execution_count": 11,
   "metadata": {},
   "outputs": [],
   "source": [
    "import numpy as np\n",
    "from scipy.stats import entropy"
   ]
  },
  {
   "cell_type": "markdown",
   "metadata": {},
   "source": [
    "We want to look at the 'peakiness' of the distribution of PMI values for a given word.  Given a PMI matrix, where each row corresponds the the PMI of a given word with all the other words in the sentence, define peakiness as a function of a row of PMI values:\n",
    "$$\\text{peakiness}(\\text{row}) = 1- \\frac{S(\\text{row}) }{ \\log_2(\\text{sentence length}) }$$\n",
    "where $$S(\\text{row}) = -\\sum_{i \\in \\hat{\\text{row}}} i \\log_2(i),$$ the entropy of the row, normalized, treated as a probability vector."
   ]
  },
  {
   "cell_type": "code",
   "execution_count": 139,
   "metadata": {},
   "outputs": [
    {
     "name": "stdout",
     "output_type": "stream",
     "text": [
      "[1, 0, 0, 0] 1.0\n",
      "[0, 1, 1, 1] 0.20751874963942196\n",
      "[1, 1, 1, 1] 0.0\n"
     ]
    }
   ],
   "source": [
    "# examples\n",
    "def peakiness(vec):\n",
    "    return 1 - entropy(vec, base=2)/np.log2(len(vec))\n",
    "examples = ([1,0,0,0],[0,1,1,1],[1,1,1,1])\n",
    "for row in examples:\n",
    "    print(row, peakiness(row))"
   ]
  },
  {
   "cell_type": "code",
   "execution_count": 150,
   "metadata": {},
   "outputs": [
    {
     "name": "stdout",
     "output_type": "stream",
     "text": [
      "We 're about to see if advertising works .\n",
      "0.5184355844078246\n",
      "0.2486014563695923\n",
      "0.15419496887546558\n",
      "0.3623848885319584\n",
      "0.29113989940705765\n",
      "0.2479175793387406\n",
      "0.18143920109804623\n",
      "0.2830238145592764\n",
      "0.21864999485332337\n",
      "\n",
      "Odds and Ends\n",
      "0.02699802995067968\n",
      "0.016740503786128125\n",
      "0.0825769775345\n",
      "\n"
     ]
    }
   ],
   "source": [
    "# example\n",
    "RESULTS_DIR = \"results/distilbert-base-cased(2)_pad10_2020-06-30-12-38/\" \n",
    "npz = np.load(RESULTS_DIR + 'pmi_matrices.npz')\n",
    "\n",
    "for sentence, matrix in npz.items():\n",
    "    print(sentence)\n",
    "    matrix = matrix + np.transpose(matrix) # symmetrize\n",
    "    for i, row in enumerate(matrix):\n",
    "        row -= min(row) # shift to remove negative values\n",
    "        row = row[np.arange(len(row))!=i] # remove diagonal\n",
    "        print(peakiness(row))\n",
    "    print()"
   ]
  }
 ],
 "metadata": {
  "kernelspec": {
   "display_name": "Python [conda env:pmienv] *",
   "language": "python",
   "name": "conda-env-pmienv-py"
  },
  "language_info": {
   "codemirror_mode": {
    "name": "ipython",
    "version": 3
   },
   "file_extension": ".py",
   "mimetype": "text/x-python",
   "name": "python",
   "nbconvert_exporter": "python",
   "pygments_lexer": "ipython3",
   "version": "3.7.7"
  }
 },
 "nbformat": 4,
 "nbformat_minor": 4
}
