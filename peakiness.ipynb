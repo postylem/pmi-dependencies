{
 "cells": [
  {
   "cell_type": "code",
   "execution_count": 356,
   "metadata": {},
   "outputs": [],
   "source": [
    "from math import log,e,sqrt\n",
    "import os\n",
    "from IPython.display import display, Math\n",
    "import matplotlib.pyplot as plt\n",
    "import numpy as np\n",
    "import pandas as pd\n",
    "import glob"
   ]
  },
  {
   "cell_type": "markdown",
   "metadata": {},
   "source": [
    "# Measuring peakiness"
   ]
  },
  {
   "cell_type": "markdown",
   "metadata": {},
   "source": [
    "We want to look at the 'peakiness' of the distribution of PMI values for a given word.  Given a PMI matrix, where each row corresponds the the PMI of a given word with all the other words in the sentence, define peakiness as a function of a row of PMI values. $\\text{peakiness}: \\mathbb R^d \\to \\mathbb{R}[0,1]$"
   ]
  },
  {
   "cell_type": "markdown",
   "metadata": {},
   "source": [
    "\n",
    "## Entropy-peakiness\n",
    "One intuitive measure is to make a length-dependent version of (inverse) entropy:\n",
    "$$\n",
    "\\text{peakiness}(v) \n",
    "= 1 - \\frac{S(v) }{ \\log(d) }\n",
    "$$\n",
    "where \n",
    "$$\n",
    "S(v) = -\\sum_{i \\in v} \n",
    "\\frac i {\\sum_{j \\in v} j} \\log(\\frac i {\\sum_{j \\in v} j}),\n",
    "$$\n",
    "the entropy of the row, normalized, treated as a probability vector."
   ]
  },
  {
   "cell_type": "code",
   "execution_count": 393,
   "metadata": {},
   "outputs": [],
   "source": [
    "def entropy(vec, base=None):\n",
    "    \"\"\" Computes entropy of unnormalized vector of floats. \"\"\"\n",
    "    total = sum(vec)\n",
    "    probs = [i / total for i in vec]\n",
    "    entropy = 0.\n",
    "    base = e if base is None else base\n",
    "    for p in probs:\n",
    "        if p < 0:\n",
    "            ent_p = np.inf\n",
    "        elif p == 0:\n",
    "            ent_p = 0.\n",
    "        else:\n",
    "            ent_p = p * log(p, base)\n",
    "        entropy -= ent_p\n",
    "\n",
    "    return entropy"
   ]
  },
  {
   "cell_type": "code",
   "execution_count": 399,
   "metadata": {},
   "outputs": [
    {
     "data": {
      "text/latex": [
       "$\\displaystyle \\text{peakiness_entropy}: V \\to \\mathbb{R}[0,1]$"
      ],
      "text/plain": [
       "<IPython.core.display.Math object>"
      ]
     },
     "metadata": {},
     "output_type": "display_data"
    },
    {
     "data": {
      "text/latex": [
       "$\\displaystyle [1, 0, 0, 0] \\mapsto 1.0$"
      ],
      "text/plain": [
       "<IPython.core.display.Math object>"
      ]
     },
     "metadata": {},
     "output_type": "display_data"
    },
    {
     "data": {
      "text/latex": [
       "$\\displaystyle [0, 0, 1, 1] \\mapsto 0.5$"
      ],
      "text/plain": [
       "<IPython.core.display.Math object>"
      ]
     },
     "metadata": {},
     "output_type": "display_data"
    },
    {
     "data": {
      "text/latex": [
       "$\\displaystyle [0, 1, 1, 2] \\mapsto 0.25$"
      ],
      "text/plain": [
       "<IPython.core.display.Math object>"
      ]
     },
     "metadata": {},
     "output_type": "display_data"
    },
    {
     "data": {
      "text/latex": [
       "$\\displaystyle [1, 1, 1, 1] \\mapsto 0.0$"
      ],
      "text/plain": [
       "<IPython.core.display.Math object>"
      ]
     },
     "metadata": {},
     "output_type": "display_data"
    },
    {
     "data": {
      "text/latex": [
       "$\\displaystyle [1, 1, 1, -1] \\mapsto inf$"
      ],
      "text/plain": [
       "<IPython.core.display.Math object>"
      ]
     },
     "metadata": {},
     "output_type": "display_data"
    },
    {
     "data": {
      "text/latex": [
       "$\\displaystyle [1] \\mapsto nan$"
      ],
      "text/plain": [
       "<IPython.core.display.Math object>"
      ]
     },
     "metadata": {},
     "output_type": "display_data"
    },
    {
     "data": {
      "text/latex": [
       "$\\displaystyle [0, 1, 1] \\mapsto 0.3690702464285426$"
      ],
      "text/plain": [
       "<IPython.core.display.Math object>"
      ]
     },
     "metadata": {},
     "output_type": "display_data"
    },
    {
     "data": {
      "text/latex": [
       "$\\displaystyle [0, 1, 1, 0, 0] \\mapsto 0.5693234419266069$"
      ],
      "text/plain": [
       "<IPython.core.display.Math object>"
      ]
     },
     "metadata": {},
     "output_type": "display_data"
    },
    {
     "data": {
      "text/latex": [
       "$\\displaystyle [0, 1, 1, 0, 0, 0, 0, 0, 0] \\mapsto 0.6845351232142713$"
      ],
      "text/plain": [
       "<IPython.core.display.Math object>"
      ]
     },
     "metadata": {},
     "output_type": "display_data"
    }
   ],
   "source": [
    "# examples\n",
    "def peakiness_entropy(vec, absolute=False):\n",
    "    if len(vec) == 1:\n",
    "        return np.nan\n",
    "    if absolute:\n",
    "        vec = [abs(x) for x in vec]\n",
    "    return 1 - entropy(vec) / log(len(vec))\n",
    "\n",
    "examples = ([1,0,0,0],[0,0,1,1],[0,1,1,2],[1,1,1,1],\n",
    "            [1,1,1,-1],[1],\n",
    "            [0,1,1],[0,1,1,0,0],[0,1,1,0,0,0,0,0,0])\n",
    "\n",
    "display(Math(r\"\\text{peakiness_entropy}: V \\to \\mathbb{R}[0,1]\"))\n",
    "for pmi_vec in examples:\n",
    "    display(Math(rf\"{pmi_vec} \\mapsto {peakiness_entropy(pmi_vec)}\"))"
   ]
  },
  {
   "cell_type": "markdown",
   "metadata": {},
   "source": [
    "One issue, however, if we are going to treat a sequence of PMI scores as a probability vector, is that PMI may be negative.  An intuitive way to do this still eludes me.  Shifting the values by the minimum value will not preserve the intuitive peakiness (for instance, taking $[0,0,0,-2]$ to $[2,2,2,0]$ becomes much 'flatter' than it should).  Taking the absolute value is better, but also doesn't seem right, since the distinction between positive and negative is meaningful (in taking $[0,0,1,-1]$ to $[0,0,1,1]$, we lose the information that the penultimate position has the maximum PMI).\n",
    "\n",
    "So, with absolute value:"
   ]
  },
  {
   "cell_type": "code",
   "execution_count": 400,
   "metadata": {},
   "outputs": [
    {
     "data": {
      "text/latex": [
       "$\\displaystyle \\text{peakiness_entropy_abs}: V \\to \\mathbb{R}[0,1]$"
      ],
      "text/plain": [
       "<IPython.core.display.Math object>"
      ]
     },
     "metadata": {},
     "output_type": "display_data"
    },
    {
     "data": {
      "text/latex": [
       "$\\displaystyle [1, 0, 0, 0] \\mapsto 1.0$"
      ],
      "text/plain": [
       "<IPython.core.display.Math object>"
      ]
     },
     "metadata": {},
     "output_type": "display_data"
    },
    {
     "data": {
      "text/latex": [
       "$\\displaystyle [0, 0, 1, 1] \\mapsto 0.5$"
      ],
      "text/plain": [
       "<IPython.core.display.Math object>"
      ]
     },
     "metadata": {},
     "output_type": "display_data"
    },
    {
     "data": {
      "text/latex": [
       "$\\displaystyle [0, 1, 1, 2] \\mapsto 0.25$"
      ],
      "text/plain": [
       "<IPython.core.display.Math object>"
      ]
     },
     "metadata": {},
     "output_type": "display_data"
    },
    {
     "data": {
      "text/latex": [
       "$\\displaystyle [1, 1, 1, 1] \\mapsto 0.0$"
      ],
      "text/plain": [
       "<IPython.core.display.Math object>"
      ]
     },
     "metadata": {},
     "output_type": "display_data"
    },
    {
     "data": {
      "text/latex": [
       "$\\displaystyle [1, 1, 1, -1] \\mapsto 0.0$"
      ],
      "text/plain": [
       "<IPython.core.display.Math object>"
      ]
     },
     "metadata": {},
     "output_type": "display_data"
    },
    {
     "data": {
      "text/latex": [
       "$\\displaystyle [1] \\mapsto nan$"
      ],
      "text/plain": [
       "<IPython.core.display.Math object>"
      ]
     },
     "metadata": {},
     "output_type": "display_data"
    },
    {
     "data": {
      "text/latex": [
       "$\\displaystyle [0, 1, 1] \\mapsto 0.3690702464285426$"
      ],
      "text/plain": [
       "<IPython.core.display.Math object>"
      ]
     },
     "metadata": {},
     "output_type": "display_data"
    },
    {
     "data": {
      "text/latex": [
       "$\\displaystyle [0, 1, 1, 0, 0] \\mapsto 0.5693234419266069$"
      ],
      "text/plain": [
       "<IPython.core.display.Math object>"
      ]
     },
     "metadata": {},
     "output_type": "display_data"
    },
    {
     "data": {
      "text/latex": [
       "$\\displaystyle [0, 1, 1, 0, 0, 0, 0, 0, 0] \\mapsto 0.6845351232142713$"
      ],
      "text/plain": [
       "<IPython.core.display.Math object>"
      ]
     },
     "metadata": {},
     "output_type": "display_data"
    }
   ],
   "source": [
    "# examples with abs\n",
    "display(Math(r\"\\text{peakiness_entropy_abs}: V \\to \\mathbb{R}[0,1]\"))\n",
    "for pmi_vec in examples:\n",
    "    display(Math(rf\"{pmi_vec} \\mapsto {peakiness_entropy(pmi_vec, absolute=True)}\"))"
   ]
  },
  {
   "cell_type": "markdown",
   "metadata": {},
   "source": [
    "\n",
    "## Sparseness\n",
    "\n",
    "Another option, is 'sparseness' defined as a relationship between the $L_1$ and $L_2$ norms of a vector, $\\text{sparseness}: \\mathbb R^d \\to \\mathbb R[0,1]$.\n",
    "\n",
    "$$\n",
    "\\text{sparseness}(v) \n",
    "= \\left({\\sqrt{d} - \\frac{\\|v\\|_{L_1}}{\\|v\\|_{L_2}} }\\right)\n",
    "/\\left({\\sqrt{d}-1}\\right)\n",
    "$$\n",
    "from [Hoyer 2004](http://www.jmlr.org/papers/volume5/hoyer04a/hoyer04a.pdf) (§3.1)"
   ]
  },
  {
   "cell_type": "code",
   "execution_count": 401,
   "metadata": {},
   "outputs": [],
   "source": [
    "def peakiness_sparseness(vec):\n",
    "    d = len(vec)\n",
    "    if d == 1:\n",
    "        return np.nan\n",
    "    abs_total = sum(abs(x) for x in vec)\n",
    "    l2 = sqrt(sum(x**2 for x in vec))\n",
    "    numerator = sqrt(d) - abs_total / l2\n",
    "    return numerator / (sqrt(d) - 1)"
   ]
  },
  {
   "cell_type": "code",
   "execution_count": 402,
   "metadata": {},
   "outputs": [
    {
     "data": {
      "text/latex": [
       "$\\displaystyle \\text{peakiness_sparseness}: V \\to \\mathbb{R}[0,1]$"
      ],
      "text/plain": [
       "<IPython.core.display.Math object>"
      ]
     },
     "metadata": {},
     "output_type": "display_data"
    },
    {
     "data": {
      "text/latex": [
       "$\\displaystyle [1, 0, 0, 0] \\mapsto 1.0$"
      ],
      "text/plain": [
       "<IPython.core.display.Math object>"
      ]
     },
     "metadata": {},
     "output_type": "display_data"
    },
    {
     "data": {
      "text/latex": [
       "$\\displaystyle [0, 0, 1, 1] \\mapsto 0.5857864376269051$"
      ],
      "text/plain": [
       "<IPython.core.display.Math object>"
      ]
     },
     "metadata": {},
     "output_type": "display_data"
    },
    {
     "data": {
      "text/latex": [
       "$\\displaystyle [0, 1, 1, 2] \\mapsto 0.3670068381445477$"
      ],
      "text/plain": [
       "<IPython.core.display.Math object>"
      ]
     },
     "metadata": {},
     "output_type": "display_data"
    },
    {
     "data": {
      "text/latex": [
       "$\\displaystyle [1, 1, 1, 1] \\mapsto 0.0$"
      ],
      "text/plain": [
       "<IPython.core.display.Math object>"
      ]
     },
     "metadata": {},
     "output_type": "display_data"
    },
    {
     "data": {
      "text/latex": [
       "$\\displaystyle [1, 1, 1, -1] \\mapsto 0.0$"
      ],
      "text/plain": [
       "<IPython.core.display.Math object>"
      ]
     },
     "metadata": {},
     "output_type": "display_data"
    },
    {
     "data": {
      "text/latex": [
       "$\\displaystyle [1] \\mapsto nan$"
      ],
      "text/plain": [
       "<IPython.core.display.Math object>"
      ]
     },
     "metadata": {},
     "output_type": "display_data"
    },
    {
     "data": {
      "text/latex": [
       "$\\displaystyle [0, 1, 1] \\mapsto 0.4341737512063022$"
      ],
      "text/plain": [
       "<IPython.core.display.Math object>"
      ]
     },
     "metadata": {},
     "output_type": "display_data"
    },
    {
     "data": {
      "text/latex": [
       "$\\displaystyle [0, 1, 1, 0, 0] \\mapsto 0.664894188739579$"
      ],
      "text/plain": [
       "<IPython.core.display.Math object>"
      ]
     },
     "metadata": {},
     "output_type": "display_data"
    },
    {
     "data": {
      "text/latex": [
       "$\\displaystyle [0, 1, 1, 0, 0, 0, 0, 0, 0] \\mapsto 0.7928932188134525$"
      ],
      "text/plain": [
       "<IPython.core.display.Math object>"
      ]
     },
     "metadata": {},
     "output_type": "display_data"
    }
   ],
   "source": [
    "# examples\n",
    "\n",
    "display(Math(r\"\\text{peakiness_sparseness}: V \\to \\mathbb{R}[0,1]\"))\n",
    "for pmi_vec in examples:\n",
    "    display(Math(rf\"{pmi_vec} \\mapsto {peakiness_sparseness(pmi_vec)}\"))"
   ]
  },
  {
   "cell_type": "code",
   "execution_count": 403,
   "metadata": {},
   "outputs": [
    {
     "data": {
      "image/png": "[encoded data removed]",
      "text/plain": [
       "<Figure size 432x288 with 1 Axes>"
      ]
     },
     "metadata": {
      "needs_background": "light"
     },
     "output_type": "display_data"
    }
   ],
   "source": [
    "# comparing two measures\n",
    "\n",
    "pairs = []\n",
    "for i in range(500):\n",
    "    # get a fake pmi matrix: \n",
    "    # a random square matrix size 5 to 30, populated with values in [-7,7]\n",
    "    d = np.random.randint(25)+5\n",
    "    pmis = 14 * np.random.sample((d,d)) - 7\n",
    "    pmis = pmis + np.transpose(pmis) # symmetrize\n",
    "    peakiness1 = np.apply_along_axis(peakiness_sparseness, axis=1, arr=pmis)\n",
    "    peakiness2 = np.apply_along_axis(peakiness_entropy_abs, axis=1, arr=pmis)\n",
    "    pairs += list(zip(peakiness1,peakiness2))\n",
    "\n",
    "plt.scatter(*zip(*pairs),alpha = 0.2)\n",
    "plt.xlabel('peakiness_sparseness')\n",
    "plt.ylabel('peakiness_entropy_abs')\n",
    "plt.show()"
   ]
  },
  {
   "cell_type": "markdown",
   "metadata": {},
   "source": [
    "The for vectors in the middle range, 'entropy_abs' measure is generally a bit lower than 'sparseness', but they're probably going to be similar, pracically."
   ]
  },
  {
   "cell_type": "code",
   "execution_count": 405,
   "metadata": {},
   "outputs": [
    {
     "name": "stdout",
     "output_type": "stream",
     "text": [
      "0\tsparseness\tentropy_abs\n",
      "\t0.255949\t0.108780\tNot\n",
      "\t0.151582\t0.063596\this\n",
      "\t0.236582\t0.103348\tautograph\n",
      "\t0.320794\t0.156162\t;\n",
      "\t0.302822\t0.111962\tpower-hitter\n",
      "\t0.254262\t0.103325\tMcGwire\n",
      "\t0.475618\t0.241796\t's\n",
      "\t0.297435\t0.140226\t.\n",
      "\n",
      "1\tsparseness\tentropy_abs\n",
      "\t0.001272\t0.000538\tOdds\n",
      "\t0.018666\t0.007967\tand\n",
      "\t0.010318\t0.004384\tEnds\n",
      "\n",
      "2\tsparseness\tentropy_abs\n",
      "\t0.842950\t0.570065\tWe\n",
      "\t0.437363\t0.231653\t're\n",
      "\t0.568438\t0.318907\tabout\n",
      "\t0.828735\t0.548923\tto\n",
      "\t0.634230\t0.351251\tsee\n",
      "\t0.539717\t0.300614\tif\n",
      "\t0.785636\t0.491277\tadvertising\n",
      "\t0.713723\t0.485138\tworks\n",
      "\t0.518812\t0.323837\t.\n",
      "\n",
      "3\tsparseness\tentropy_abs\n",
      "\tnan\tnan\tFRANKFURT\n",
      "\tnan\tnan\t:\n",
      "\n",
      "4\tsparseness\tentropy_abs\n",
      "\t0.537287\t0.214588\tOther\n",
      "\t0.398413\t0.158602\tbrokerage\n",
      "\t0.610591\t0.294270\tfirms\n",
      "\t0.375637\t0.178441\t,\n",
      "\t0.339397\t0.144118\tincluding\n",
      "\t0.932650\t0.729205\tMerrill\n",
      "\t0.921605\t0.675302\tLynch\n",
      "\t0.952415\t0.787273\t&\n",
      "\t0.843990\t0.496434\tCo.\n",
      "\t0.501156\t0.244575\t,\n",
      "\t0.896107\t0.593397\twere\n",
      "\t0.691583\t0.433138\tplotting\n",
      "\t0.857996\t0.593331\tout\n",
      "\t0.793336\t0.490848\tpotential\n",
      "\t0.555274\t0.259179\tnew\n",
      "\t0.389220\t0.163954\tad\n",
      "\t0.628856\t0.341549\tstrategies\n",
      "\t0.453070\t0.244093\t.\n",
      "\n"
     ]
    }
   ],
   "source": [
    "# example\n",
    "RESULTS_DIR = \"results/bert-base-cased(5)_pad10_2020-07-26-13-04/\" \n",
    "npz = np.load(os.path.join(RESULTS_DIR, 'pmi_matrices.npz'))\n",
    "\n",
    "for sentence, matrix in npz.items():\n",
    "    sent = sentence.split(' ')\n",
    "    print(f'{sent[0]}\\tsparseness\\tentropy_abs')\n",
    "    matrix = matrix + np.transpose(matrix) # symmetrize\n",
    "    for i, row in enumerate(matrix):\n",
    "        row = row[np.arange(len(row))!=i] # remove diagonal\n",
    "        print(f'\\t{peakiness_sparseness(row):.6f}\\t{peakiness_entropy_abs(row):.6f}\\t{sent[i+1]}')\n",
    "    print()"
   ]
  },
  {
   "cell_type": "markdown",
   "metadata": {},
   "source": [
    "# Correlation with dependency accuracy"
   ]
  },
  {
   "cell_type": "markdown",
   "metadata": {},
   "source": [
    "First, does average peakiness correlate with sentence-wide accuracy?"
   ]
  },
  {
   "cell_type": "code",
   "execution_count": 412,
   "metadata": {},
   "outputs": [],
   "source": [
    "scores_path = glob.glob(RESULTS_DIR+'scores*')[0]\n",
    "scores = pd.read_csv(scores_path)\n",
    "\n",
    "av_sparseness = []\n",
    "av_entropyabs = []\n",
    "for sentence, matrix in npz.items():\n",
    "    matrix = matrix + np.transpose(matrix) # symmetrize\n",
    "    row_sparseness = []\n",
    "    row_entropyabs = []\n",
    "    for i, row in enumerate(matrix):\n",
    "        row = row[np.arange(len(row))!=i] # remove diagonal\n",
    "        row_sparseness.append(peakiness_sparseness(row))\n",
    "        row_entropyabs.append(peakiness_entropy_abs(row))\n",
    "    av_sparseness.append(np.mean(row_sparseness))\n",
    "    av_entropyabs.append(np.mean(row_entropyabs))\n",
    "    \n",
    "scores[\"av_sparseness\"] = av_sparseness\n",
    "scores[\"av_entropyabs\"] = av_entropyabs"
   ]
  },
  {
   "cell_type": "code",
   "execution_count": 413,
   "metadata": {},
   "outputs": [
    {
     "data": {
      "text/html": [
       "<div>\n",
       "<style scoped>\n",
       "    .dataframe tbody tr th:only-of-type {\n",
       "        vertical-align: middle;\n",
       "    }\n",
       "\n",
       "    .dataframe tbody tr th {\n",
       "        vertical-align: top;\n",
       "    }\n",
       "\n",
       "    .dataframe thead th {\n",
       "        text-align: right;\n",
       "    }\n",
       "</style>\n",
       "<table border=\"1\" class=\"dataframe\">\n",
       "  <thead>\n",
       "    <tr style=\"text-align: right;\">\n",
       "      <th></th>\n",
       "      <th>sentence_index</th>\n",
       "      <th>sentence_length</th>\n",
       "      <th>number_edges</th>\n",
       "      <th>gold_edges</th>\n",
       "      <th>baseline_linear</th>\n",
       "      <th>baseline_random_nonproj</th>\n",
       "      <th>baseline_random_proj</th>\n",
       "      <th>pseudo_loglik</th>\n",
       "      <th>projective.edges.sum</th>\n",
       "      <th>projective.edges.triu</th>\n",
       "      <th>...</th>\n",
       "      <th>nonproj.edges.sum</th>\n",
       "      <th>nonproj.edges.triu</th>\n",
       "      <th>nonproj.edges.tril</th>\n",
       "      <th>nonproj.edges.none</th>\n",
       "      <th>nonproj.uuas.sum</th>\n",
       "      <th>nonproj.uuas.triu</th>\n",
       "      <th>nonproj.uuas.tril</th>\n",
       "      <th>nonproj.uuas.none</th>\n",
       "      <th>av_sparseness</th>\n",
       "      <th>av_entropyabs</th>\n",
       "    </tr>\n",
       "  </thead>\n",
       "  <tbody>\n",
       "    <tr>\n",
       "      <th>0</th>\n",
       "      <td>0</td>\n",
       "      <td>8</td>\n",
       "      <td>5</td>\n",
       "      <td>[(0, 2), (1, 2), (2, 5), (4, 5), (5, 6)]</td>\n",
       "      <td>0.600000</td>\n",
       "      <td>0.400000</td>\n",
       "      <td>0.600000</td>\n",
       "      <td>-78.871540</td>\n",
       "      <td>[(0, 1), (1, 2), (2, 5), (2, 6), (4, 5)]</td>\n",
       "      <td>[(0, 6), (1, 2), (2, 4), (2, 5), (2, 6)]</td>\n",
       "      <td>...</td>\n",
       "      <td>[(2, 6), (0, 1), (1, 2), (2, 5), (4, 5)]</td>\n",
       "      <td>[(2, 6), (0, 6), (1, 2), (0, 5), (1, 4)]</td>\n",
       "      <td>[(4, 5), (2, 4), (0, 1), (1, 2), (2, 6)]</td>\n",
       "      <td>[(5, 4), (2, 6), (4, 2), (1, 0), (0, 6)]</td>\n",
       "      <td>0.600000</td>\n",
       "      <td>0.200000</td>\n",
       "      <td>0.400000</td>\n",
       "      <td>0.200000</td>\n",
       "      <td>0.286881</td>\n",
       "      <td>0.128649</td>\n",
       "    </tr>\n",
       "    <tr>\n",
       "      <th>1</th>\n",
       "      <td>1</td>\n",
       "      <td>3</td>\n",
       "      <td>2</td>\n",
       "      <td>[(0, 1), (0, 2)]</td>\n",
       "      <td>0.500000</td>\n",
       "      <td>1.000000</td>\n",
       "      <td>1.000000</td>\n",
       "      <td>-25.520242</td>\n",
       "      <td>[(0, 1), (0, 2)]</td>\n",
       "      <td>[(0, 1), (0, 2)]</td>\n",
       "      <td>...</td>\n",
       "      <td>[(0, 1), (0, 2)]</td>\n",
       "      <td>[(0, 1), (0, 2)]</td>\n",
       "      <td>[(0, 2), (1, 2)]</td>\n",
       "      <td>[(2, 0), (2, 1)]</td>\n",
       "      <td>1.000000</td>\n",
       "      <td>1.000000</td>\n",
       "      <td>0.500000</td>\n",
       "      <td>0.500000</td>\n",
       "      <td>0.010085</td>\n",
       "      <td>0.004296</td>\n",
       "    </tr>\n",
       "    <tr>\n",
       "      <th>2</th>\n",
       "      <td>2</td>\n",
       "      <td>9</td>\n",
       "      <td>7</td>\n",
       "      <td>[(0, 2), (1, 2), (2, 4), (3, 4), (4, 7), (5, 7...</td>\n",
       "      <td>0.428571</td>\n",
       "      <td>0.285714</td>\n",
       "      <td>0.142857</td>\n",
       "      <td>-32.293420</td>\n",
       "      <td>[(0, 1), (1, 5), (2, 3), (3, 4), (4, 5), (5, 7...</td>\n",
       "      <td>[(0, 1), (1, 4), (2, 3), (3, 4), (4, 5), (5, 7...</td>\n",
       "      <td>...</td>\n",
       "      <td>[(5, 7), (4, 5), (6, 7), (0, 1), (3, 4), (1, 5...</td>\n",
       "      <td>[(5, 7), (4, 5), (0, 1), (6, 7), (1, 4), (2, 3...</td>\n",
       "      <td>[(5, 7), (4, 5), (6, 7), (3, 4), (0, 1), (1, 5...</td>\n",
       "      <td>[(7, 5), (5, 4), (7, 6), (4, 3), (0, 1), (5, 1...</td>\n",
       "      <td>0.571429</td>\n",
       "      <td>0.428571</td>\n",
       "      <td>0.571429</td>\n",
       "      <td>0.571429</td>\n",
       "      <td>0.652178</td>\n",
       "      <td>0.402407</td>\n",
       "    </tr>\n",
       "    <tr>\n",
       "      <th>3</th>\n",
       "      <td>3</td>\n",
       "      <td>2</td>\n",
       "      <td>0</td>\n",
       "      <td>[]</td>\n",
       "      <td>NaN</td>\n",
       "      <td>NaN</td>\n",
       "      <td>NaN</td>\n",
       "      <td>-42.628381</td>\n",
       "      <td>[]</td>\n",
       "      <td>[]</td>\n",
       "      <td>...</td>\n",
       "      <td>[]</td>\n",
       "      <td>[]</td>\n",
       "      <td>[]</td>\n",
       "      <td>[]</td>\n",
       "      <td>NaN</td>\n",
       "      <td>NaN</td>\n",
       "      <td>NaN</td>\n",
       "      <td>NaN</td>\n",
       "      <td>NaN</td>\n",
       "      <td>NaN</td>\n",
       "    </tr>\n",
       "    <tr>\n",
       "      <th>4</th>\n",
       "      <td>4</td>\n",
       "      <td>18</td>\n",
       "      <td>14</td>\n",
       "      <td>[(0, 2), (1, 2), (2, 4), (2, 11), (4, 6), (5, ...</td>\n",
       "      <td>0.500000</td>\n",
       "      <td>0.214286</td>\n",
       "      <td>0.357143</td>\n",
       "      <td>-43.948175</td>\n",
       "      <td>[(0, 1), (1, 2), (1, 13), (4, 13), (5, 6), (5,...</td>\n",
       "      <td>[(0, 1), (1, 6), (1, 13), (2, 4), (4, 6), (5, ...</td>\n",
       "      <td>...</td>\n",
       "      <td>[(11, 12), (5, 6), (11, 13), (7, 8), (10, 11),...</td>\n",
       "      <td>[(10, 11), (5, 6), (7, 8), (11, 13), (11, 12),...</td>\n",
       "      <td>[(11, 12), (11, 13), (5, 6), (7, 8), (13, 16),...</td>\n",
       "      <td>[(12, 11), (13, 11), (10, 11), (6, 5), (7, 8),...</td>\n",
       "      <td>0.428571</td>\n",
       "      <td>0.428571</td>\n",
       "      <td>0.428571</td>\n",
       "      <td>0.357143</td>\n",
       "      <td>0.648810</td>\n",
       "      <td>0.391239</td>\n",
       "    </tr>\n",
       "  </tbody>\n",
       "</table>\n",
       "<p>5 rows × 26 columns</p>\n",
       "</div>"
      ],
      "text/plain": [
       "   sentence_index  sentence_length  number_edges  \\\n",
       "0               0                8             5   \n",
       "1               1                3             2   \n",
       "2               2                9             7   \n",
       "3               3                2             0   \n",
       "4               4               18            14   \n",
       "\n",
       "                                          gold_edges  baseline_linear  \\\n",
       "0           [(0, 2), (1, 2), (2, 5), (4, 5), (5, 6)]         0.600000   \n",
       "1                                   [(0, 1), (0, 2)]         0.500000   \n",
       "2  [(0, 2), (1, 2), (2, 4), (3, 4), (4, 7), (5, 7...         0.428571   \n",
       "3                                                 []              NaN   \n",
       "4  [(0, 2), (1, 2), (2, 4), (2, 11), (4, 6), (5, ...         0.500000   \n",
       "\n",
       "   baseline_random_nonproj  baseline_random_proj  pseudo_loglik  \\\n",
       "0                 0.400000              0.600000     -78.871540   \n",
       "1                 1.000000              1.000000     -25.520242   \n",
       "2                 0.285714              0.142857     -32.293420   \n",
       "3                      NaN                   NaN     -42.628381   \n",
       "4                 0.214286              0.357143     -43.948175   \n",
       "\n",
       "                                projective.edges.sum  \\\n",
       "0           [(0, 1), (1, 2), (2, 5), (2, 6), (4, 5)]   \n",
       "1                                   [(0, 1), (0, 2)]   \n",
       "2  [(0, 1), (1, 5), (2, 3), (3, 4), (4, 5), (5, 7...   \n",
       "3                                                 []   \n",
       "4  [(0, 1), (1, 2), (1, 13), (4, 13), (5, 6), (5,...   \n",
       "\n",
       "                               projective.edges.triu  ...  \\\n",
       "0           [(0, 6), (1, 2), (2, 4), (2, 5), (2, 6)]  ...   \n",
       "1                                   [(0, 1), (0, 2)]  ...   \n",
       "2  [(0, 1), (1, 4), (2, 3), (3, 4), (4, 5), (5, 7...  ...   \n",
       "3                                                 []  ...   \n",
       "4  [(0, 1), (1, 6), (1, 13), (2, 4), (4, 6), (5, ...  ...   \n",
       "\n",
       "                                   nonproj.edges.sum  \\\n",
       "0           [(2, 6), (0, 1), (1, 2), (2, 5), (4, 5)]   \n",
       "1                                   [(0, 1), (0, 2)]   \n",
       "2  [(5, 7), (4, 5), (6, 7), (0, 1), (3, 4), (1, 5...   \n",
       "3                                                 []   \n",
       "4  [(11, 12), (5, 6), (11, 13), (7, 8), (10, 11),...   \n",
       "\n",
       "                                  nonproj.edges.triu  \\\n",
       "0           [(2, 6), (0, 6), (1, 2), (0, 5), (1, 4)]   \n",
       "1                                   [(0, 1), (0, 2)]   \n",
       "2  [(5, 7), (4, 5), (0, 1), (6, 7), (1, 4), (2, 3...   \n",
       "3                                                 []   \n",
       "4  [(10, 11), (5, 6), (7, 8), (11, 13), (11, 12),...   \n",
       "\n",
       "                                  nonproj.edges.tril  \\\n",
       "0           [(4, 5), (2, 4), (0, 1), (1, 2), (2, 6)]   \n",
       "1                                   [(0, 2), (1, 2)]   \n",
       "2  [(5, 7), (4, 5), (6, 7), (3, 4), (0, 1), (1, 5...   \n",
       "3                                                 []   \n",
       "4  [(11, 12), (11, 13), (5, 6), (7, 8), (13, 16),...   \n",
       "\n",
       "                                  nonproj.edges.none  nonproj.uuas.sum  \\\n",
       "0           [(5, 4), (2, 6), (4, 2), (1, 0), (0, 6)]          0.600000   \n",
       "1                                   [(2, 0), (2, 1)]          1.000000   \n",
       "2  [(7, 5), (5, 4), (7, 6), (4, 3), (0, 1), (5, 1...          0.571429   \n",
       "3                                                 []               NaN   \n",
       "4  [(12, 11), (13, 11), (10, 11), (6, 5), (7, 8),...          0.428571   \n",
       "\n",
       "   nonproj.uuas.triu nonproj.uuas.tril nonproj.uuas.none av_sparseness  \\\n",
       "0           0.200000          0.400000          0.200000      0.286881   \n",
       "1           1.000000          0.500000          0.500000      0.010085   \n",
       "2           0.428571          0.571429          0.571429      0.652178   \n",
       "3                NaN               NaN               NaN           NaN   \n",
       "4           0.428571          0.428571          0.357143      0.648810   \n",
       "\n",
       "  av_entropyabs  \n",
       "0      0.128649  \n",
       "1      0.004296  \n",
       "2      0.402407  \n",
       "3           NaN  \n",
       "4      0.391239  \n",
       "\n",
       "[5 rows x 26 columns]"
      ]
     },
     "execution_count": 413,
     "metadata": {},
     "output_type": "execute_result"
    }
   ],
   "source": [
    "scores"
   ]
  },
  {
   "cell_type": "code",
   "execution_count": 420,
   "metadata": {},
   "outputs": [
    {
     "data": {
      "text/plain": [
       "<matplotlib.axes._subplots.AxesSubplot at 0x7fc0b3a4fb10>"
      ]
     },
     "execution_count": 420,
     "metadata": {},
     "output_type": "execute_result"
    },
    {
     "data": {
      "image/png": "[encoded data removed]",
      "text/plain": [
       "<Figure size 432x288 with 1 Axes>"
      ]
     },
     "metadata": {
      "needs_background": "light"
     },
     "output_type": "display_data"
    },
    {
     "data": {
      "image/png": "[encoded data removed]",
      "text/plain": [
       "<Figure size 432x288 with 1 Axes>"
      ]
     },
     "metadata": {
      "needs_background": "light"
     },
     "output_type": "display_data"
    }
   ],
   "source": [
    "scores.plot.scatter(x='projective.uuas.sum', y='av_sparseness')\n",
    "scores.plot.scatter(x='projective.uuas.sum', y='av_entropyabs')"
   ]
  },
  {
   "cell_type": "code",
   "execution_count": null,
   "metadata": {},
   "outputs": [],
   "source": []
  },
  {
   "cell_type": "code",
   "execution_count": 383,
   "metadata": {},
   "outputs": [],
   "source": [
    "wordpair_path = glob.glob(RESULTS_DIR+'wordpair*')[0]\n",
    "wordpair = pd.read_csv(wordpair_path)"
   ]
  },
  {
   "cell_type": "code",
   "execution_count": null,
   "metadata": {},
   "outputs": [],
   "source": []
  }
 ],
 "metadata": {
  "kernelspec": {
   "display_name": "Python [conda env:pmienv] *",
   "language": "python",
   "name": "conda-env-pmienv-py"
  },
  "language_info": {
   "codemirror_mode": {
    "name": "ipython",
    "version": 3
   },
   "file_extension": ".py",
   "mimetype": "text/x-python",
   "name": "python",
   "nbconvert_exporter": "python",
   "pygments_lexer": "ipython3",
   "version": "3.7.7"
  }
 },
 "nbformat": 4,
 "nbformat_minor": 4
}
