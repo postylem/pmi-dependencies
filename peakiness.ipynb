{
 "cells": [
  {
   "cell_type": "code",
   "execution_count": 576,
   "metadata": {},
   "outputs": [],
   "source": [
    "import os\n",
    "import glob\n",
    "import numpy as np\n",
    "import pandas as pd\n",
    "import seaborn as sns\n",
    "from math import log,e,sqrt\n",
    "from tqdm.notebook import tqdm\n",
    "import matplotlib.pyplot as plt\n",
    "from IPython.display import display, Math"
   ]
  },
  {
   "cell_type": "markdown",
   "metadata": {},
   "source": [
    "# Measuring peakiness"
   ]
  },
  {
   "cell_type": "markdown",
   "metadata": {},
   "source": [
    "We want to look at the 'peakiness' of the distribution of PMI values for a given word.  Given a PMI matrix, where each row corresponds the the PMI of a given word with all the other words in the sentence, define peakiness as a function of a row of PMI values. $\\text{peakiness}: \\mathbb R^d \\to \\mathbb{R}[0,1]$"
   ]
  },
  {
   "cell_type": "markdown",
   "metadata": {},
   "source": [
    "\n",
    "## Entropy-peakiness\n",
    "One intuitive measure is to make a length-dependent version of (inverse) entropy:\n",
    "$$\n",
    "\\text{peakiness}(v) \n",
    "= 1 - \\frac{S(v) }{ \\log(d) }\n",
    "$$\n",
    "where \n",
    "$$\n",
    "S(v) = -\\sum_{i \\in v} \n",
    "\\frac i {\\sum_{j \\in v} j} \\log(\\frac i {\\sum_{j \\in v} j}),\n",
    "$$\n",
    "the entropy of the row, normalized, treated as a probability vector."
   ]
  },
  {
   "cell_type": "code",
   "execution_count": 393,
   "metadata": {},
   "outputs": [],
   "source": [
    "def entropy(vec, base=None):\n",
    "    \"\"\" Computes entropy of unnormalized vector of floats. \"\"\"\n",
    "    total = sum(vec)\n",
    "    probs = [i / total for i in vec]\n",
    "    entropy = 0.\n",
    "    base = e if base is None else base\n",
    "    for p in probs:\n",
    "        if p < 0:\n",
    "            ent_p = np.inf\n",
    "        elif p == 0:\n",
    "            ent_p = 0.\n",
    "        else:\n",
    "            ent_p = p * log(p, base)\n",
    "        entropy -= ent_p\n",
    "\n",
    "    return entropy"
   ]
  },
  {
   "cell_type": "code",
   "execution_count": 655,
   "metadata": {},
   "outputs": [
    {
     "data": {
      "text/latex": [
       "$\\displaystyle \\text{peakiness_entropy}: \\mathbb{R}^d \\to \\mathbb{R}[0,1]$"
      ],
      "text/plain": [
       "<IPython.core.display.Math object>"
      ]
     },
     "metadata": {},
     "output_type": "display_data"
    },
    {
     "data": {
      "text/latex": [
       "$\\displaystyle [1, 0, 0, 0] \\mapsto 1.0$"
      ],
      "text/plain": [
       "<IPython.core.display.Math object>"
      ]
     },
     "metadata": {},
     "output_type": "display_data"
    },
    {
     "data": {
      "text/latex": [
       "$\\displaystyle [0, 0, 1, 1] \\mapsto 0.5$"
      ],
      "text/plain": [
       "<IPython.core.display.Math object>"
      ]
     },
     "metadata": {},
     "output_type": "display_data"
    },
    {
     "data": {
      "text/latex": [
       "$\\displaystyle [0, 0, 10, 10] \\mapsto 0.5$"
      ],
      "text/plain": [
       "<IPython.core.display.Math object>"
      ]
     },
     "metadata": {},
     "output_type": "display_data"
    },
    {
     "data": {
      "text/latex": [
       "$\\displaystyle [0, 1, 1, 2] \\mapsto 0.25$"
      ],
      "text/plain": [
       "<IPython.core.display.Math object>"
      ]
     },
     "metadata": {},
     "output_type": "display_data"
    },
    {
     "data": {
      "text/latex": [
       "$\\displaystyle [1, 1, 1, 1] \\mapsto 0.0$"
      ],
      "text/plain": [
       "<IPython.core.display.Math object>"
      ]
     },
     "metadata": {},
     "output_type": "display_data"
    },
    {
     "data": {
      "text/latex": [
       "$\\displaystyle [1, 1, 1, -1] \\mapsto inf$"
      ],
      "text/plain": [
       "<IPython.core.display.Math object>"
      ]
     },
     "metadata": {},
     "output_type": "display_data"
    },
    {
     "data": {
      "text/latex": [
       "$\\displaystyle [1] \\mapsto nan$"
      ],
      "text/plain": [
       "<IPython.core.display.Math object>"
      ]
     },
     "metadata": {},
     "output_type": "display_data"
    },
    {
     "data": {
      "text/latex": [
       "$\\displaystyle [0] \\mapsto nan$"
      ],
      "text/plain": [
       "<IPython.core.display.Math object>"
      ]
     },
     "metadata": {},
     "output_type": "display_data"
    },
    {
     "data": {
      "text/latex": [
       "$\\displaystyle [] \\mapsto nan$"
      ],
      "text/plain": [
       "<IPython.core.display.Math object>"
      ]
     },
     "metadata": {},
     "output_type": "display_data"
    },
    {
     "data": {
      "text/latex": [
       "$\\displaystyle [0, 1, 1] \\mapsto 0.3690702464285426$"
      ],
      "text/plain": [
       "<IPython.core.display.Math object>"
      ]
     },
     "metadata": {},
     "output_type": "display_data"
    },
    {
     "data": {
      "text/latex": [
       "$\\displaystyle [0, 1, 1, 0, 0] \\mapsto 0.5693234419266069$"
      ],
      "text/plain": [
       "<IPython.core.display.Math object>"
      ]
     },
     "metadata": {},
     "output_type": "display_data"
    },
    {
     "data": {
      "text/latex": [
       "$\\displaystyle [0, 1, 1, 0, 0, 0, 0, 0, 0] \\mapsto 0.6845351232142713$"
      ],
      "text/plain": [
       "<IPython.core.display.Math object>"
      ]
     },
     "metadata": {},
     "output_type": "display_data"
    }
   ],
   "source": [
    "# examples\n",
    "def peakiness_entropy(vec, absolute=False):\n",
    "    if len(vec) <= 1:\n",
    "        return np.nan\n",
    "    if absolute:\n",
    "        vec = [abs(x) for x in vec]\n",
    "    return 1 - entropy(vec) / log(len(vec))\n",
    "\n",
    "# show examples\n",
    "examples = ([1,0,0,0],[0,0,1,1],[0,0,10,10],[0,1,1,2],[1,1,1,1],\n",
    "            [1,1,1,-1],[1],[0],[],\n",
    "            [0,1,1],[0,1,1,0,0],[0,1,1,0,0,0,0,0,0])\n",
    "\n",
    "display(Math(r\"\\text{peakiness_entropy}: \\mathbb{R}^d \\to \\mathbb{R}[0,1]\"))\n",
    "for pmi_vec in examples:\n",
    "    display(Math(rf\"{pmi_vec} \\mapsto {peakiness_entropy(pmi_vec)}\"))"
   ]
  },
  {
   "cell_type": "markdown",
   "metadata": {},
   "source": [
    "One issue, however, if we are going to treat a sequence of PMI scores as a probability vector, is that PMI may be negative.  An intuitive way to do this still eludes me.  Shifting the values by the minimum value will not preserve the intuitive peakiness (for instance, taking $[0,0,0,-2]$ to $[2,2,2,0]$ becomes much 'flatter' than it should).  Taking the absolute value is better, but also doesn't seem right, since the distinction between positive and negative is meaningful (in taking $[0,0,1,-1]$ to $[0,0,1,1]$, we lose the information that the penultimate position has the maximum PMI).\n",
    "\n",
    "So, with absolute value:"
   ]
  },
  {
   "cell_type": "code",
   "execution_count": 656,
   "metadata": {},
   "outputs": [
    {
     "data": {
      "text/latex": [
       "$\\displaystyle \\text{peakiness_entropy_abs}: \\mathbb{R}^d \\to \\mathbb{R}[0,1]$"
      ],
      "text/plain": [
       "<IPython.core.display.Math object>"
      ]
     },
     "metadata": {},
     "output_type": "display_data"
    },
    {
     "data": {
      "text/latex": [
       "$\\displaystyle [1, 0, 0, 0] \\mapsto 1.0$"
      ],
      "text/plain": [
       "<IPython.core.display.Math object>"
      ]
     },
     "metadata": {},
     "output_type": "display_data"
    },
    {
     "data": {
      "text/latex": [
       "$\\displaystyle [0, 0, 1, 1] \\mapsto 0.5$"
      ],
      "text/plain": [
       "<IPython.core.display.Math object>"
      ]
     },
     "metadata": {},
     "output_type": "display_data"
    },
    {
     "data": {
      "text/latex": [
       "$\\displaystyle [0, 0, 10, 10] \\mapsto 0.5$"
      ],
      "text/plain": [
       "<IPython.core.display.Math object>"
      ]
     },
     "metadata": {},
     "output_type": "display_data"
    },
    {
     "data": {
      "text/latex": [
       "$\\displaystyle [0, 1, 1, 2] \\mapsto 0.25$"
      ],
      "text/plain": [
       "<IPython.core.display.Math object>"
      ]
     },
     "metadata": {},
     "output_type": "display_data"
    },
    {
     "data": {
      "text/latex": [
       "$\\displaystyle [1, 1, 1, 1] \\mapsto 0.0$"
      ],
      "text/plain": [
       "<IPython.core.display.Math object>"
      ]
     },
     "metadata": {},
     "output_type": "display_data"
    },
    {
     "data": {
      "text/latex": [
       "$\\displaystyle [1, 1, 1, -1] \\mapsto 0.0$"
      ],
      "text/plain": [
       "<IPython.core.display.Math object>"
      ]
     },
     "metadata": {},
     "output_type": "display_data"
    },
    {
     "data": {
      "text/latex": [
       "$\\displaystyle [1] \\mapsto nan$"
      ],
      "text/plain": [
       "<IPython.core.display.Math object>"
      ]
     },
     "metadata": {},
     "output_type": "display_data"
    },
    {
     "data": {
      "text/latex": [
       "$\\displaystyle [0] \\mapsto nan$"
      ],
      "text/plain": [
       "<IPython.core.display.Math object>"
      ]
     },
     "metadata": {},
     "output_type": "display_data"
    },
    {
     "data": {
      "text/latex": [
       "$\\displaystyle [] \\mapsto nan$"
      ],
      "text/plain": [
       "<IPython.core.display.Math object>"
      ]
     },
     "metadata": {},
     "output_type": "display_data"
    },
    {
     "data": {
      "text/latex": [
       "$\\displaystyle [0, 1, 1] \\mapsto 0.3690702464285426$"
      ],
      "text/plain": [
       "<IPython.core.display.Math object>"
      ]
     },
     "metadata": {},
     "output_type": "display_data"
    },
    {
     "data": {
      "text/latex": [
       "$\\displaystyle [0, 1, 1, 0, 0] \\mapsto 0.5693234419266069$"
      ],
      "text/plain": [
       "<IPython.core.display.Math object>"
      ]
     },
     "metadata": {},
     "output_type": "display_data"
    },
    {
     "data": {
      "text/latex": [
       "$\\displaystyle [0, 1, 1, 0, 0, 0, 0, 0, 0] \\mapsto 0.6845351232142713$"
      ],
      "text/plain": [
       "<IPython.core.display.Math object>"
      ]
     },
     "metadata": {},
     "output_type": "display_data"
    }
   ],
   "source": [
    "# examples with abs\n",
    "display(Math(r\"\\text{peakiness_entropy_abs}: \\mathbb{R}^d \\to \\mathbb{R}[0,1]\"))\n",
    "for pmi_vec in examples:\n",
    "    display(Math(rf\"{pmi_vec} \\mapsto {peakiness_entropy(pmi_vec, absolute=True)}\"))"
   ]
  },
  {
   "cell_type": "markdown",
   "metadata": {},
   "source": [
    "\n",
    "## Sparseness\n",
    "\n",
    "Another option, is 'sparseness' defined as a relationship between the $L_1$ and $L_2$ norms of a vector, $\\text{sparseness}: \\mathbb R^d \\to \\mathbb R[0,1]$.\n",
    "\n",
    "$$\n",
    "\\text{sparseness}(v) = \\frac\n",
    "    {\\left({\\sqrt{d} - \\dfrac{\\|v\\|_{L_1}}{\\|v\\|_{L_2}} }\\right)}\n",
    "    {\\left({\\sqrt{d}-1}\\right)}\n",
    "$$\n",
    "from [Hoyer 2004](http://www.jmlr.org/papers/volume5/hoyer04a/hoyer04a.pdf) (§3.1)"
   ]
  },
  {
   "cell_type": "code",
   "execution_count": 657,
   "metadata": {},
   "outputs": [
    {
     "data": {
      "text/latex": [
       "$\\displaystyle \\text{peakiness_sparseness}: V \\to \\mathbb{R}[0,1]$"
      ],
      "text/plain": [
       "<IPython.core.display.Math object>"
      ]
     },
     "metadata": {},
     "output_type": "display_data"
    },
    {
     "data": {
      "text/latex": [
       "$\\displaystyle [1, 0, 0, 0] \\mapsto 1.0$"
      ],
      "text/plain": [
       "<IPython.core.display.Math object>"
      ]
     },
     "metadata": {},
     "output_type": "display_data"
    },
    {
     "data": {
      "text/latex": [
       "$\\displaystyle [0, 0, 1, 1] \\mapsto 0.5857864376269051$"
      ],
      "text/plain": [
       "<IPython.core.display.Math object>"
      ]
     },
     "metadata": {},
     "output_type": "display_data"
    },
    {
     "data": {
      "text/latex": [
       "$\\displaystyle [0, 0, 10, 10] \\mapsto 0.5857864376269051$"
      ],
      "text/plain": [
       "<IPython.core.display.Math object>"
      ]
     },
     "metadata": {},
     "output_type": "display_data"
    },
    {
     "data": {
      "text/latex": [
       "$\\displaystyle [0, 1, 1, 2] \\mapsto 0.3670068381445477$"
      ],
      "text/plain": [
       "<IPython.core.display.Math object>"
      ]
     },
     "metadata": {},
     "output_type": "display_data"
    },
    {
     "data": {
      "text/latex": [
       "$\\displaystyle [1, 1, 1, 1] \\mapsto 0.0$"
      ],
      "text/plain": [
       "<IPython.core.display.Math object>"
      ]
     },
     "metadata": {},
     "output_type": "display_data"
    },
    {
     "data": {
      "text/latex": [
       "$\\displaystyle [1, 1, 1, -1] \\mapsto 0.0$"
      ],
      "text/plain": [
       "<IPython.core.display.Math object>"
      ]
     },
     "metadata": {},
     "output_type": "display_data"
    },
    {
     "data": {
      "text/latex": [
       "$\\displaystyle [1] \\mapsto nan$"
      ],
      "text/plain": [
       "<IPython.core.display.Math object>"
      ]
     },
     "metadata": {},
     "output_type": "display_data"
    },
    {
     "data": {
      "text/latex": [
       "$\\displaystyle [0] \\mapsto nan$"
      ],
      "text/plain": [
       "<IPython.core.display.Math object>"
      ]
     },
     "metadata": {},
     "output_type": "display_data"
    },
    {
     "data": {
      "text/latex": [
       "$\\displaystyle [] \\mapsto nan$"
      ],
      "text/plain": [
       "<IPython.core.display.Math object>"
      ]
     },
     "metadata": {},
     "output_type": "display_data"
    },
    {
     "data": {
      "text/latex": [
       "$\\displaystyle [0, 1, 1] \\mapsto 0.4341737512063022$"
      ],
      "text/plain": [
       "<IPython.core.display.Math object>"
      ]
     },
     "metadata": {},
     "output_type": "display_data"
    },
    {
     "data": {
      "text/latex": [
       "$\\displaystyle [0, 1, 1, 0, 0] \\mapsto 0.664894188739579$"
      ],
      "text/plain": [
       "<IPython.core.display.Math object>"
      ]
     },
     "metadata": {},
     "output_type": "display_data"
    },
    {
     "data": {
      "text/latex": [
       "$\\displaystyle [0, 1, 1, 0, 0, 0, 0, 0, 0] \\mapsto 0.7928932188134525$"
      ],
      "text/plain": [
       "<IPython.core.display.Math object>"
      ]
     },
     "metadata": {},
     "output_type": "display_data"
    }
   ],
   "source": [
    "def peakiness_sparseness(vec):\n",
    "    d = len(vec)\n",
    "    if d <= 1:\n",
    "        return np.nan\n",
    "    abs_total = sum(abs(x) for x in vec)\n",
    "    l2 = sqrt(sum(x**2 for x in vec))\n",
    "    numerator = sqrt(d) - abs_total / l2\n",
    "    return numerator / (sqrt(d) - 1)\n",
    "\n",
    "# examples\n",
    "display(Math(r\"\\text{peakiness_sparseness}: V \\to \\mathbb{R}[0,1]\"))\n",
    "for pmi_vec in examples:\n",
    "    display(Math(rf\"{pmi_vec} \\mapsto {peakiness_sparseness(pmi_vec)}\"))"
   ]
  },
  {
   "cell_type": "code",
   "execution_count": 658,
   "metadata": {},
   "outputs": [
    {
     "data": {
      "image/png": "[encoded data removed]",
      "text/plain": [
       "<Figure size 432x288 with 1 Axes>"
      ]
     },
     "metadata": {
      "needs_background": "light"
     },
     "output_type": "display_data"
    }
   ],
   "source": [
    "# comparing two measures\n",
    "\n",
    "pairs = []\n",
    "for i in range(500):\n",
    "    # get a fake pmi matrix: \n",
    "    # a random square matrix size 5 to 30, populated with values in [-7,7]\n",
    "    d = np.random.randint(25)+5\n",
    "    pmis = 14 * np.random.sample((d,d)) - 7\n",
    "    pmis = pmis + np.transpose(pmis) # symmetrize\n",
    "    peakiness1 = np.apply_along_axis(peakiness_sparseness, axis=1, arr=pmis)\n",
    "    peakiness2 = np.apply_along_axis(peakiness_entropy_abs, axis=1, arr=pmis)\n",
    "    pairs += list(zip(peakiness1,peakiness2))\n",
    "\n",
    "plt.scatter(*zip(*pairs),alpha = 0.2)\n",
    "plt.xlabel('peakiness_sparseness')\n",
    "plt.ylabel('peakiness_entropy_abs')\n",
    "plt.show()"
   ]
  },
  {
   "cell_type": "markdown",
   "metadata": {},
   "source": [
    "The for vectors in the middle range, 'entropy_abs' measure is generally a bit lower than 'sparseness', but they're probably going to be similar, pracically."
   ]
  },
  {
   "cell_type": "code",
   "execution_count": 670,
   "metadata": {
    "scrolled": true
   },
   "outputs": [
    {
     "name": "stdout",
     "output_type": "stream",
     "text": [
      "Terms\tsparseness\tentropy_abs\n",
      "\t0.419852\t0.259571\tTerms\n",
      "\t0.532268\t0.349299\twere\n",
      "\t0.618737\t0.380415\tn't\n",
      "\t0.272665\t0.192839\tdisclosed\n",
      "\t0.371175\t0.196616\t.\n",
      "\n",
      "I\tsparseness\tentropy_abs\n",
      "\t0.486586\t0.342948\tI\n",
      "\t0.307111\t0.196480\tlove\n",
      "\t0.278812\t0.173034\t'em\n",
      "\t0.470286\t0.303263\tboth\n",
      "\t0.280670\t0.195996\t.\n",
      "\n",
      "``\tsparseness\tentropy_abs\n",
      "\t0.472149\t0.253110\t``\n",
      "\t0.370721\t0.239387\tThat\n",
      "\t0.598013\t0.365140\t's\n",
      "\t0.601621\t0.400655\tbaseball\n",
      "\t0.400749\t0.228238\t.\n",
      "\n",
      "``\tsparseness\tentropy_abs\n",
      "\t0.382789\t0.230572\t``\n",
      "\t0.215119\t0.096626\tIt\n",
      "\t0.461062\t0.245591\t's\n",
      "\t0.642375\t0.484666\tvery\n",
      "\t0.421675\t0.253724\tfrustrating\n",
      "\t0.717502\t0.503182\t.\n",
      "\t0.739722\t0.458676\t''\n",
      "\n"
     ]
    }
   ],
   "source": [
    "# some examples\n",
    "RESULTS_DIR = \"results-clean/xlnet-base-cased_pad30_2020-07-04-17-13/\" \n",
    "matrices_npz = np.load(os.path.join(RESULTS_DIR, 'pmi_matrices.npz'))\n",
    "logliks_npz = np.load(os.path.join(RESULTS_DIR, 'pseudo_logliks.npz'))\n",
    "\n",
    "scores_path = glob.glob(RESULTS_DIR+'scores*.csv')[0]\n",
    "wordpair_path = glob.glob(RESULTS_DIR+'wordpair*.csv')[0]\n",
    "wordpair = pd.read_csv(wordpair_path)\n",
    "scores = pd.read_csv(scores_path)\n",
    "\n",
    "count=0\n",
    "for sentence, matrix in npz.items():\n",
    "    sent = sentence.split(' ')\n",
    "    if 4 < len(sent) < 8:\n",
    "        print(f'{sent[0]}\\tsparseness\\tentropy_abs')\n",
    "        matrix = matrix + np.transpose(matrix) # symmetrize\n",
    "        for i, row in enumerate(matrix):\n",
    "            row = row[np.arange(len(row))!=i] # remove diagonal\n",
    "            print(f'\\t{peakiness_sparseness(row):.6f}\\t{peakiness_entropy_abs(row):.6f}\\t{sent[i]}')\n",
    "        print()\n",
    "        count+=1\n",
    "        if count > 3:\n",
    "            break"
   ]
  },
  {
   "cell_type": "markdown",
   "metadata": {},
   "source": [
    "# Correlation with dependency accuracy"
   ]
  },
  {
   "cell_type": "markdown",
   "metadata": {},
   "source": [
    "## Average"
   ]
  },
  {
   "cell_type": "markdown",
   "metadata": {},
   "source": [
    "First, does average peakiness correlate with sentence-wide accuracy?"
   ]
  },
  {
   "cell_type": "code",
   "execution_count": 672,
   "metadata": {},
   "outputs": [
    {
     "data": {
      "application/vnd.jupyter.widget-view+json": {
       "model_id": "7975f74086cd4b4f845254c632c96174",
       "version_major": 2,
       "version_minor": 0
      },
      "text/plain": [
       "HBox(children=(FloatProgress(value=0.0, max=1700.0), HTML(value='')))"
      ]
     },
     "metadata": {},
     "output_type": "display_data"
    },
    {
     "name": "stdout",
     "output_type": "stream",
     "text": [
      "\n"
     ]
    }
   ],
   "source": [
    "# !run cell at bottom to get observations first\n",
    "av_sparseness = []\n",
    "av_entropyabs = []\n",
    "for i, obs in enumerate(tqdm(OBSERVATIONS)):\n",
    "    sentence = str(' '.join(obs.sentence))\n",
    "    matrix = matrices_npz[sentence]\n",
    "    pseudo_loglik = logliks_npz[sentence]\n",
    "    \n",
    "    matrix = matrix + np.transpose(matrix) # symmetrize\n",
    "    row_sparseness = []\n",
    "    row_entropyabs = []\n",
    "    peakiness1 = np.apply_along_axis(peakiness_sparseness, axis=1, arr=matrix)\n",
    "    peakiness2 = np.apply_along_axis(peakiness_entropy_abs, axis=1, arr=matrix)\n",
    "    av_sparseness.append(np.mean(peakiness1))\n",
    "    av_entropyabs.append(np.mean(peakiness2))\n",
    "\n",
    "scores[\"av_sparseness\"] = av_sparseness\n",
    "scores[\"av_entropyabs\"] = av_entropyabs"
   ]
  },
  {
   "cell_type": "code",
   "execution_count": 784,
   "metadata": {},
   "outputs": [
    {
     "data": {
      "image/png": "[encoded data removed]",
      "text/plain": [
       "<Figure size 864x288 with 2 Axes>"
      ]
     },
     "metadata": {
      "needs_background": "light"
     },
     "output_type": "display_data"
    }
   ],
   "source": [
    "scores['length'] = scores['sentence_length'].astype(float)\n",
    "fig, axs = plt.subplots(ncols=2, figsize=(12, 4))\n",
    "sns.scatterplot(x='projective.uuas.sum', y='av_sparseness',\n",
    "                 data=scores, ax=axs[0])\n",
    "sns.scatterplot(x='projective.uuas.sum', y='av_entropyabs', hue='length',\n",
    "                 data=scores, ax=axs[1])\n",
    "# fig.colorbar(fig)\n",
    "plt.show()"
   ]
  },
  {
   "cell_type": "markdown",
   "metadata": {},
   "source": [
    "It doesn't look correlated."
   ]
  },
  {
   "cell_type": "code",
   "execution_count": 783,
   "metadata": {},
   "outputs": [
    {
     "data": {
      "image/png": "[encoded data removed]",
      "text/plain": [
       "<Figure size 864x288 with 2 Axes>"
      ]
     },
     "metadata": {
      "needs_background": "light"
     },
     "output_type": "display_data"
    }
   ],
   "source": [
    "# just out of curiosity, does sparseness correlate with log likelihood?\n",
    "fig, axs = plt.subplots(ncols=2, figsize=(12, 4))\n",
    "sns.scatterplot(x='pseudo_loglik', y='av_sparseness', hue='length',\n",
    "                 data=scores, ax=axs[0])\n",
    "sns.scatterplot(x='pseudo_loglik', y='av_entropyabs', hue='length',\n",
    "                 data=scores, ax=axs[1])\n",
    "# fig.colorbar(fig)\n",
    "plt.show()"
   ]
  },
  {
   "cell_type": "markdown",
   "metadata": {},
   "source": [
    "## Per word"
   ]
  },
  {
   "cell_type": "code",
   "execution_count": 764,
   "metadata": {},
   "outputs": [],
   "source": [
    "wordpair_path = glob.glob(RESULTS_DIR+'wordpair*')[0]\n",
    "wordpair = pd.read_csv(wordpair_path)\n",
    "wordpair_gold = wordpair[wordpair.gold_edge==True]"
   ]
  },
  {
   "cell_type": "code",
   "execution_count": 774,
   "metadata": {},
   "outputs": [
    {
     "data": {
      "text/html": [
       "<div>\n",
       "<style scoped>\n",
       "    .dataframe tbody tr th:only-of-type {\n",
       "        vertical-align: middle;\n",
       "    }\n",
       "\n",
       "    .dataframe tbody tr th {\n",
       "        vertical-align: top;\n",
       "    }\n",
       "\n",
       "    .dataframe thead th {\n",
       "        text-align: right;\n",
       "    }\n",
       "</style>\n",
       "<table border=\"1\" class=\"dataframe\">\n",
       "  <thead>\n",
       "    <tr style=\"text-align: right;\">\n",
       "      <th></th>\n",
       "      <th>sentence_index</th>\n",
       "      <th>i1</th>\n",
       "      <th>i2</th>\n",
       "      <th>lin_dist</th>\n",
       "      <th>w1</th>\n",
       "      <th>w2</th>\n",
       "      <th>UPOS1</th>\n",
       "      <th>UPOS2</th>\n",
       "      <th>XPOS1</th>\n",
       "      <th>XPOS2</th>\n",
       "      <th>...</th>\n",
       "      <th>pmi_triu</th>\n",
       "      <th>pmi_tril</th>\n",
       "      <th>pmi_edge_sum</th>\n",
       "      <th>pmi_edge_nonproj_sum</th>\n",
       "      <th>pmi_edge_triu</th>\n",
       "      <th>pmi_edge_nonproj_triu</th>\n",
       "      <th>pmi_edge_tril</th>\n",
       "      <th>pmi_edge_nonproj_tril</th>\n",
       "      <th>pmi_edge_none</th>\n",
       "      <th>pmi_edge_nonproj_none</th>\n",
       "    </tr>\n",
       "  </thead>\n",
       "  <tbody>\n",
       "    <tr>\n",
       "      <th>595</th>\n",
       "      <td>1</td>\n",
       "      <td>0</td>\n",
       "      <td>1</td>\n",
       "      <td>1</td>\n",
       "      <td>The</td>\n",
       "      <td>bill</td>\n",
       "      <td>DET</td>\n",
       "      <td>NOUN</td>\n",
       "      <td>DT</td>\n",
       "      <td>NN</td>\n",
       "      <td>...</td>\n",
       "      <td>3.14639</td>\n",
       "      <td>0.710405</td>\n",
       "      <td>True</td>\n",
       "      <td>True</td>\n",
       "      <td>True</td>\n",
       "      <td>True</td>\n",
       "      <td>True</td>\n",
       "      <td>False</td>\n",
       "      <td>True</td>\n",
       "      <td>True</td>\n",
       "    </tr>\n",
       "  </tbody>\n",
       "</table>\n",
       "<p>1 rows × 23 columns</p>\n",
       "</div>"
      ],
      "text/plain": [
       "     sentence_index  i1  i2  lin_dist   w1    w2 UPOS1 UPOS2 XPOS1 XPOS2  ...  \\\n",
       "595               1   0   1         1  The  bill   DET  NOUN    DT    NN  ...   \n",
       "\n",
       "     pmi_triu  pmi_tril  pmi_edge_sum  pmi_edge_nonproj_sum  pmi_edge_triu  \\\n",
       "595   3.14639  0.710405          True                  True           True   \n",
       "\n",
       "     pmi_edge_nonproj_triu  pmi_edge_tril  pmi_edge_nonproj_tril  \\\n",
       "595                   True           True                  False   \n",
       "\n",
       "     pmi_edge_none  pmi_edge_nonproj_none  \n",
       "595           True                   True  \n",
       "\n",
       "[1 rows x 23 columns]"
      ]
     },
     "execution_count": 774,
     "metadata": {},
     "output_type": "execute_result"
    }
   ],
   "source": [
    "# !run cell at bottom to get observations first\n",
    "av_sparseness = []\n",
    "av_entropyabs = []\n",
    "for i, obs in enumerate(tqdm(OBSERVATIONS)):\n",
    "    sentence = str(' '.join(obs.sentence))\n",
    "    matrix = matrices_npz[sentence]\n",
    "    pseudo_loglik = logliks_npz[sentence]\n",
    "    \n",
    "    matrix = matrix + np.transpose(matrix) # symmetrize\n",
    "    row_sparseness = []\n",
    "    row_entropyabs = []\n",
    "    peakiness1 = np.apply_along_axis(peakiness_sparseness, axis=1, arr=matrix)\n",
    "    peakiness2 = np.apply_along_axis(peakiness_entropy_abs, axis=1, arr=matrix)\n",
    "\n",
    "scores[\"av_sparseness\"] = av_sparseness\n",
    "scores[\"av_entropyabs\"] = av_entropyabs"
   ]
  },
  {
   "cell_type": "markdown",
   "metadata": {},
   "source": [
    "# Extra stuff : reading data"
   ]
  },
  {
   "cell_type": "code",
   "execution_count": null,
   "metadata": {},
   "outputs": [],
   "source": [
    "from collections import namedtuple\n",
    "class CONLLReader():\n",
    "    def __init__(self, conll_cols, additional_field_name=None):\n",
    "        if additional_field_name:\n",
    "            conll_cols += [additional_field_name]\n",
    "        self.conll_cols = conll_cols\n",
    "        self.observation_class = namedtuple(\"Observation\", conll_cols)\n",
    "        self.additional_field_name = additional_field_name\n",
    "\n",
    "    # Data input\n",
    "    @staticmethod\n",
    "    def generate_lines_for_sent(lines):\n",
    "        '''Yields batches of lines describing a sentence in conllx.\n",
    "\n",
    "        Args:\n",
    "            lines: Each line of a conllx file.\n",
    "        Yields:\n",
    "            a list of lines describing a single sentence in conllx.\n",
    "        '''\n",
    "        buf = []\n",
    "        for line in lines:\n",
    "            if line.startswith('#'):\n",
    "                continue\n",
    "            if not line.strip():\n",
    "                if buf:\n",
    "                    yield buf\n",
    "                    buf = []\n",
    "                else:\n",
    "                    continue\n",
    "            else:\n",
    "                buf.append(line.strip())\n",
    "        if buf:\n",
    "            yield buf\n",
    "\n",
    "    def load_conll_dataset(self, filepath):\n",
    "        '''Reads in a conllx file; generates Observation objects\n",
    "\n",
    "        For each sentence in a conllx file, generates a single Observation\n",
    "        object.\n",
    "\n",
    "        Args:\n",
    "            filepath: the filesystem path to the conll dataset\n",
    "            observation_class: namedtuple for observations\n",
    "\n",
    "        Returns:\n",
    "        A list of Observations\n",
    "        '''\n",
    "        observations = []\n",
    "        lines = (x for x in open(filepath))\n",
    "        for buf in self.generate_lines_for_sent(lines):\n",
    "            conllx_lines = []\n",
    "            for line in buf:\n",
    "                conllx_lines.append(line.strip().split('\\t'))\n",
    "            if self.additional_field_name:\n",
    "                newfield = [None for x in range(len(conllx_lines))]\n",
    "                observation = self.observation_class(\n",
    "                    *zip(*conllx_lines), newfield)\n",
    "            else:\n",
    "                observation = self.observation_class(\n",
    "                    *zip(*conllx_lines))\n",
    "            observations.append(observation)\n",
    "        return observations\n",
    "\n",
    "CONLL_COLS = ['index',\n",
    "              'sentence',\n",
    "              'lemma_sentence',\n",
    "              'upos_sentence',\n",
    "              'xpos_sentence',\n",
    "              'morph',\n",
    "              'head_indices',\n",
    "              'governance_relations',\n",
    "              'secondary_relations',\n",
    "              'extra_info']\n",
    "\n",
    "OBSERVATIONS = CONLLReader(CONLL_COLS).load_conll_dataset(\n",
    "    'ptb3-wsj-data/ptb3-wsj-dev.conllx')"
   ]
  },
  {
   "cell_type": "markdown",
   "metadata": {},
   "source": [
    "Note, there are duplicate sentences."
   ]
  },
  {
   "cell_type": "code",
   "execution_count": 644,
   "metadata": {},
   "outputs": [
    {
     "data": {
      "text/html": [
       "<style  type=\"text/css\" >\n",
       "    #T_7bf18240_d018_11ea_80f6_a45e60e8e6cd th {\n",
       "          text-align: left;\n",
       "    }    #T_7bf18240_d018_11ea_80f6_a45e60e8e6cdrow0_col0 {\n",
       "            text-align:  left;\n",
       "            display.max_colwidth:  -1;\n",
       "        }    #T_7bf18240_d018_11ea_80f6_a45e60e8e6cdrow0_col1 {\n",
       "            text-align:  left;\n",
       "            display.max_colwidth:  -1;\n",
       "        }    #T_7bf18240_d018_11ea_80f6_a45e60e8e6cdrow1_col0 {\n",
       "            text-align:  left;\n",
       "            display.max_colwidth:  -1;\n",
       "        }    #T_7bf18240_d018_11ea_80f6_a45e60e8e6cdrow1_col1 {\n",
       "            text-align:  left;\n",
       "            display.max_colwidth:  -1;\n",
       "        }    #T_7bf18240_d018_11ea_80f6_a45e60e8e6cdrow2_col0 {\n",
       "            text-align:  left;\n",
       "            display.max_colwidth:  -1;\n",
       "        }    #T_7bf18240_d018_11ea_80f6_a45e60e8e6cdrow2_col1 {\n",
       "            text-align:  left;\n",
       "            display.max_colwidth:  -1;\n",
       "        }    #T_7bf18240_d018_11ea_80f6_a45e60e8e6cdrow3_col0 {\n",
       "            text-align:  left;\n",
       "            display.max_colwidth:  -1;\n",
       "        }    #T_7bf18240_d018_11ea_80f6_a45e60e8e6cdrow3_col1 {\n",
       "            text-align:  left;\n",
       "            display.max_colwidth:  -1;\n",
       "        }    #T_7bf18240_d018_11ea_80f6_a45e60e8e6cdrow4_col0 {\n",
       "            text-align:  left;\n",
       "            display.max_colwidth:  -1;\n",
       "        }    #T_7bf18240_d018_11ea_80f6_a45e60e8e6cdrow4_col1 {\n",
       "            text-align:  left;\n",
       "            display.max_colwidth:  -1;\n",
       "        }    #T_7bf18240_d018_11ea_80f6_a45e60e8e6cdrow5_col0 {\n",
       "            text-align:  left;\n",
       "            display.max_colwidth:  -1;\n",
       "        }    #T_7bf18240_d018_11ea_80f6_a45e60e8e6cdrow5_col1 {\n",
       "            text-align:  left;\n",
       "            display.max_colwidth:  -1;\n",
       "        }    #T_7bf18240_d018_11ea_80f6_a45e60e8e6cdrow6_col0 {\n",
       "            text-align:  left;\n",
       "            display.max_colwidth:  -1;\n",
       "        }    #T_7bf18240_d018_11ea_80f6_a45e60e8e6cdrow6_col1 {\n",
       "            text-align:  left;\n",
       "            display.max_colwidth:  -1;\n",
       "        }    #T_7bf18240_d018_11ea_80f6_a45e60e8e6cdrow7_col0 {\n",
       "            text-align:  left;\n",
       "            display.max_colwidth:  -1;\n",
       "        }    #T_7bf18240_d018_11ea_80f6_a45e60e8e6cdrow7_col1 {\n",
       "            text-align:  left;\n",
       "            display.max_colwidth:  -1;\n",
       "        }</style><table id=\"T_7bf18240_d018_11ea_80f6_a45e60e8e6cd\" ><thead>    <tr>        <th class=\"blank level0\" ></th>        <th class=\"col_heading level0 col0\" >indices</th>        <th class=\"col_heading level0 col1\" >sentence</th>    </tr></thead><tbody>\n",
       "                <tr>\n",
       "                        <th id=\"T_7bf18240_d018_11ea_80f6_a45e60e8e6cdlevel0_row0\" class=\"row_heading level0 row0\" >0</th>\n",
       "                        <td id=\"T_7bf18240_d018_11ea_80f6_a45e60e8e6cdrow0_col0\" class=\"data row0 col0\" >[202, 1546]</td>\n",
       "                        <td id=\"T_7bf18240_d018_11ea_80f6_a45e60e8e6cdrow0_col1\" class=\"data row0 col1\" >Then , nine minutes later , Wall Street suddenly rebounded to a gain on the day .</td>\n",
       "            </tr>\n",
       "            <tr>\n",
       "                        <th id=\"T_7bf18240_d018_11ea_80f6_a45e60e8e6cdlevel0_row1\" class=\"row_heading level0 row1\" >1</th>\n",
       "                        <td id=\"T_7bf18240_d018_11ea_80f6_a45e60e8e6cdrow1_col0\" class=\"data row1 col0\" >[825, 1556]</td>\n",
       "                        <td id=\"T_7bf18240_d018_11ea_80f6_a45e60e8e6cdrow1_col1\" class=\"data row1 col1\" >Among Big Board specialists , the cry was `` Pull your offers '' -- meaning that specialists soon expected to get higher prices for their shares .</td>\n",
       "            </tr>\n",
       "            <tr>\n",
       "                        <th id=\"T_7bf18240_d018_11ea_80f6_a45e60e8e6cdlevel0_row2\" class=\"row_heading level0 row2\" >2</th>\n",
       "                        <td id=\"T_7bf18240_d018_11ea_80f6_a45e60e8e6cdrow2_col0\" class=\"data row2 col0\" >[826, 1557]</td>\n",
       "                        <td id=\"T_7bf18240_d018_11ea_80f6_a45e60e8e6cdrow2_col1\" class=\"data row2 col1\" >`` It was bedlam on the upside , '' said one Big Board specialist .</td>\n",
       "            </tr>\n",
       "            <tr>\n",
       "                        <th id=\"T_7bf18240_d018_11ea_80f6_a45e60e8e6cdlevel0_row3\" class=\"row_heading level0 row3\" >3</th>\n",
       "                        <td id=\"T_7bf18240_d018_11ea_80f6_a45e60e8e6cdrow3_col0\" class=\"data row3 col0\" >[828, 1564]</td>\n",
       "                        <td id=\"T_7bf18240_d018_11ea_80f6_a45e60e8e6cdrow3_col1\" class=\"data row3 col1\" >The carnage on the Chicago Board Options Exchange , the nation 's major options market , was heavy after the trading in S&P 100 stock-index options was halted Friday .</td>\n",
       "            </tr>\n",
       "            <tr>\n",
       "                        <th id=\"T_7bf18240_d018_11ea_80f6_a45e60e8e6cdlevel0_row4\" class=\"row_heading level0 row4\" >4</th>\n",
       "                        <td id=\"T_7bf18240_d018_11ea_80f6_a45e60e8e6cdrow4_col0\" class=\"data row4 col0\" >[829, 1565]</td>\n",
       "                        <td id=\"T_7bf18240_d018_11ea_80f6_a45e60e8e6cdrow4_col1\" class=\"data row4 col1\" >Many market makers in the S&P 100 index options contract had bullish positions Friday , and when the shutdown came they were frozen with huge losses .</td>\n",
       "            </tr>\n",
       "            <tr>\n",
       "                        <th id=\"T_7bf18240_d018_11ea_80f6_a45e60e8e6cdlevel0_row5\" class=\"row_heading level0 row5\" >5</th>\n",
       "                        <td id=\"T_7bf18240_d018_11ea_80f6_a45e60e8e6cdrow5_col0\" class=\"data row5 col0\" >[830, 1566]</td>\n",
       "                        <td id=\"T_7bf18240_d018_11ea_80f6_a45e60e8e6cdrow5_col1\" class=\"data row5 col1\" >Over the weekend , clearing firms told the Chicago market makers to get out of their positions at any cost Monday morning .</td>\n",
       "            </tr>\n",
       "            <tr>\n",
       "                        <th id=\"T_7bf18240_d018_11ea_80f6_a45e60e8e6cdlevel0_row6\" class=\"row_heading level0 row6\" >6</th>\n",
       "                        <td id=\"T_7bf18240_d018_11ea_80f6_a45e60e8e6cdrow6_col0\" class=\"data row6 col0\" >[831, 1567]</td>\n",
       "                        <td id=\"T_7bf18240_d018_11ea_80f6_a45e60e8e6cdrow6_col1\" class=\"data row6 col1\" >`` They were absolutely killed , slaughtered , '' said one Chicago-based options trader .</td>\n",
       "            </tr>\n",
       "            <tr>\n",
       "                        <th id=\"T_7bf18240_d018_11ea_80f6_a45e60e8e6cdlevel0_row7\" class=\"row_heading level0 row7\" >7</th>\n",
       "                        <td id=\"T_7bf18240_d018_11ea_80f6_a45e60e8e6cdrow7_col0\" class=\"data row7 col0\" >[1276, 1278]</td>\n",
       "                        <td id=\"T_7bf18240_d018_11ea_80f6_a45e60e8e6cdrow7_col1\" class=\"data row7 col1\" >Source : Telerate Systems Inc .</td>\n",
       "            </tr>\n",
       "    </tbody></table>"
      ],
      "text/plain": [
       "<pandas.io.formats.style.Styler at 0x7fc098ced090>"
      ]
     },
     "execution_count": 644,
     "metadata": {},
     "output_type": "execute_result"
    }
   ],
   "source": [
    "from collections import defaultdict\n",
    "\n",
    "def list_duplicates(triple):\n",
    "    tally = defaultdict(list)\n",
    "    for i,sent,_ in triple:\n",
    "        tally[sent].append(i)\n",
    "    return ((locs,key) for key,locs in tally.items() \n",
    "                            if len(locs)>1)\n",
    "\n",
    "pd.DataFrame(\n",
    "    list_duplicates(idx_sentence_matrix_triples),\n",
    "    columns=['indices','sentence']).style.set_properties(\n",
    "    **{'text-align': 'left', 'display.max_colwidth': -1}).set_table_styles(\n",
    "    [ dict(selector='th', props=[('text-align', 'left')] ) ])"
   ]
  },
  {
   "cell_type": "code",
   "execution_count": null,
   "metadata": {},
   "outputs": [],
   "source": []
  }
 ],
 "metadata": {
  "kernelspec": {
   "display_name": "Python [conda env:pmienv] *",
   "language": "python",
   "name": "conda-env-pmienv-py"
  },
  "language_info": {
   "codemirror_mode": {
    "name": "ipython",
    "version": 3
   },
   "file_extension": ".py",
   "mimetype": "text/x-python",
   "name": "python",
   "nbconvert_exporter": "python",
   "pygments_lexer": "ipython3",
   "version": "3.7.7"
  }
 },
 "nbformat": 4,
 "nbformat_minor": 4
}
