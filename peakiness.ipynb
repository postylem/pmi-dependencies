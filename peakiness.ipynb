{
 "cells": [
  {
   "cell_type": "code",
   "execution_count": 11,
   "metadata": {},
   "outputs": [],
   "source": [
    "import numpy as np\n",
    "from scipy.stats import entropy\n",
    "from IPython.display import display, Math"
   ]
  },
  {
   "cell_type": "markdown",
   "metadata": {},
   "source": [
    "We want to look at the 'peakiness' of the distribution of PMI values for a given word.  Given a PMI matrix, where each row corresponds the the PMI of a given word with all the other words in the sentence, define peakiness as a function of a row of PMI values:\n",
    "$$\\text{peakiness}(\\text{row}) = 1- \\frac{S(\\text{row}) }{ \\log_2(\\text{sentence length}) }$$\n",
    "where $$S(\\text{row}) = -\\sum_{i \\in \\hat{\\text{row}}} i \\log_2(i),$$ the entropy of the row, normalized, treated as a probability vector."
   ]
  },
  {
   "cell_type": "code",
   "execution_count": 184,
   "metadata": {},
   "outputs": [
    {
     "data": {
      "text/latex": [
       "$\\displaystyle \\text{peakiness}: V \\to \\mathbb{R}[0,1]$"
      ],
      "text/plain": [
       "<IPython.core.display.Math object>"
      ]
     },
     "metadata": {},
     "output_type": "display_data"
    },
    {
     "data": {
      "text/latex": [
       "$\\displaystyle [1, 0, 0, 0] \\mapsto 1.0$"
      ],
      "text/plain": [
       "<IPython.core.display.Math object>"
      ]
     },
     "metadata": {},
     "output_type": "display_data"
    },
    {
     "data": {
      "text/latex": [
       "$\\displaystyle [0, 1, 1, 1] \\mapsto 0.20751874963942196$"
      ],
      "text/plain": [
       "<IPython.core.display.Math object>"
      ]
     },
     "metadata": {},
     "output_type": "display_data"
    },
    {
     "data": {
      "text/latex": [
       "$\\displaystyle [1, 1, 1, 1] \\mapsto 0.0$"
      ],
      "text/plain": [
       "<IPython.core.display.Math object>"
      ]
     },
     "metadata": {},
     "output_type": "display_data"
    }
   ],
   "source": [
    "# examples\n",
    "def peakiness(vec):\n",
    "    return 1 - entropy(vec, base=2)/np.log2(len(vec))\n",
    "examples = ([1,0,0,0],[0,1,1,1],[1,1,1,1])\n",
    "display(Math(r\"\\text{peakiness}: V \\to \\mathbb{R}[0,1]\"))\n",
    "for row in examples:\n",
    "    display(Math(rf\"{row} \\mapsto {peakiness(row)}\"))"
   ]
  },
  {
   "cell_type": "code",
   "execution_count": null,
   "metadata": {},
   "outputs": [],
   "source": []
  },
  {
   "cell_type": "markdown",
   "metadata": {},
   "source": [
    "One issue, however, if we are going to treat a sequence of PMI scores as a probability vector, is that PMI may be negative.  An intuitive way to do this still eludes me.  Shifting the values by the minimum value will not preserve the intuitive peakiness (for instance, taking $[0,0,0,1,-1] \\to [1,1,1,2,0]$ becomes much 'flatter' than it should).  Taking the absolute value also doesn't seem right, since the distinction between positive and negative is meaningful (in takin $[0,0,0,1,-1] \\to [0,0,0,1,1]$, we lose the information that the penultimate position has the maximum PMI).\n",
    "\n",
    "Perhaps we should use some notion of total variation to measure peakiness?"
   ]
  },
  {
   "cell_type": "code",
   "execution_count": 155,
   "metadata": {},
   "outputs": [
    {
     "name": "stdout",
     "output_type": "stream",
     "text": [
      "We 're about to see if advertising works .\n",
      "0.5184355844078246\n",
      "0.2486014563695923\n",
      "0.15419496887546558\n",
      "0.3623848885319584\n",
      "0.29113989940705765\n",
      "0.2479175793387406\n",
      "0.18143920109804623\n",
      "0.2830238145592764\n",
      "0.21864999485332337\n",
      "\n",
      "Odds and Ends\n",
      "0.02699802995067968\n",
      "0.016740503786128125\n",
      "0.0825769775345\n",
      "\n",
      "Not his autograph ; power-hitter McGwire 's .\n",
      "0.11545121521735024\n",
      "0.13459092655179405\n",
      "0.15198408157112553\n",
      "0.24378931866111697\n",
      "0.13362304303492478\n",
      "0.2600062100941012\n",
      "0.15749299334349165\n",
      "0.10205521779744886\n",
      "\n",
      "FRANKFURT :\n",
      "nan\n",
      "nan\n",
      "\n",
      "Other brokerage firms , including Merrill Lynch & Co. , were plotting out potential new ad strategies .\n",
      "0.1143776777044534\n",
      "0.05777756483148322\n",
      "0.1082898765501169\n",
      "0.26014044565979433\n",
      "0.11820719121620504\n",
      "0.16943801238939205\n",
      "0.07416295604587408\n",
      "0.10607769499187591\n",
      "0.10876216521325721\n",
      "0.09359218548666293\n",
      "0.19446574654765514\n",
      "0.3242239425304474\n",
      "0.4385697938472425\n",
      "0.23936938034928645\n",
      "0.07590997982803793\n",
      "0.031906424758163854\n",
      "0.042134580538705\n",
      "0.059202807821267966\n",
      "\n"
     ]
    }
   ],
   "source": [
    "# example\n",
    "RESULTS_DIR = \"results/distilbert-base-cased(5)_pad10_2020-06-30-13-43/\" \n",
    "npz = np.load(RESULTS_DIR + 'pmi_matrices.npz')\n",
    "\n",
    "for sentence, matrix in npz.items():\n",
    "    print(sentence)\n",
    "    matrix = matrix + np.transpose(matrix) # symmetrize\n",
    "    for i, row in enumerate(matrix):\n",
    "        row -= min(row) # shift to remove negative values\n",
    "        row = row[np.arange(len(row))!=i] # remove diagonal\n",
    "        print(peakiness(row))\n",
    "    print()"
   ]
  },
  {
   "cell_type": "code",
   "execution_count": null,
   "metadata": {},
   "outputs": [],
   "source": []
  }
 ],
 "metadata": {
  "kernelspec": {
   "display_name": "Python [conda env:pmienv] *",
   "language": "python",
   "name": "conda-env-pmienv-py"
  },
  "language_info": {
   "codemirror_mode": {
    "name": "ipython",
    "version": 3
   },
   "file_extension": ".py",
   "mimetype": "text/x-python",
   "name": "python",
   "nbconvert_exporter": "python",
   "pygments_lexer": "ipython3",
   "version": "3.7.7"
  }
 },
 "nbformat": 4,
 "nbformat_minor": 4
}
