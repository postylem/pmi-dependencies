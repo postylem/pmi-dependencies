{
  "cells": [
    {
      "cell_type": "code",
      "source": [
        "with \"results-azure/bert-base-uncased.ckpt-1000k\\(500\\)_pad60_2020-05-16-16-34/scores_bert-base-uncased.ckpt-1000k\\(500\\)_pad60_2020-05-16-16-34.csv\" as csvfile:\n",
        "  csv.readline"
      ],
      "outputs": [
        {
          "output_type": "stream",
          "name": "stdout",
          "text": [
            "\u001b[1m\u001b[36mR\u001b[m\u001b[m                                  requirements.txt\r\n",
            "README.md                          \u001b[1m\u001b[36mresults\u001b[m\u001b[m\r\n",
            "\u001b[1m\u001b[36mSyntaxGym_test_suites\u001b[m\u001b[m              \u001b[1m\u001b[36mresults-azure\u001b[m\u001b[m\r\n",
            "checkpoints.ipynb                  \u001b[1m\u001b[36mresults-cluster\u001b[m\u001b[m\r\n",
            "\u001b[1m\u001b[36mcpllab-syntactic-generalization\u001b[m\u001b[m    \u001b[31mrun_batch.sh\u001b[m\u001b[m\r\n",
            "example-bert-large-60-proj.sum.pdf \u001b[1m\u001b[36mscripts\u001b[m\u001b[m\r\n",
            "\u001b[31mget-xlnet.sh\u001b[m\u001b[m                       \u001b[1m\u001b[36mslurm\u001b[m\u001b[m\r\n",
            "\u001b[1m\u001b[36mhewitt-repo\u001b[m\u001b[m                        stanford_dependencies_manual.pdf\r\n",
            "\u001b[1m\u001b[36mlatex-plotting\u001b[m\u001b[m                     syntaxgym-pmi.ipynb\r\n",
            "out.log                            \u001b[31msyntaxgym.sh\u001b[m\u001b[m\r\n",
            "\u001b[1m\u001b[36mpmi-accuracy\u001b[m\u001b[m                       \u001b[1m\u001b[36mtikz_examples\u001b[m\u001b[m\r\n",
            "\u001b[1m\u001b[36mptb3-wsj-data\u001b[m\u001b[m                      \u001b[1m\u001b[36mto-ignore\u001b[m\u001b[m\r\n"
          ]
        }
      ],
      "execution_count": 1,
      "metadata": {
        "execution": {
          "iopub.status.busy": "2020-06-17T02:29:23.876Z",
          "iopub.execute_input": "2020-06-17T02:29:23.878Z",
          "shell.execute_reply": "2020-06-17T02:29:23.976Z",
          "iopub.status.idle": "2020-06-17T02:29:23.980Z"
        }
      }
    },
    {
      "cell_type": "code",
      "source": [],
      "outputs": [],
      "execution_count": 235,
      "metadata": {}
    },
    {
      "cell_type": "code",
      "source": [],
      "outputs": [],
      "execution_count": null,
      "metadata": {}
    }
  ],
  "metadata": {
    "kernelspec": {
      "display_name": "Python 3",
      "language": "python",
      "name": "python3"
    },
    "language_info": {
      "name": "python",
      "version": "3.7.7",
      "mimetype": "text/x-python",
      "codemirror_mode": {
        "name": "ipython",
        "version": 3
      },
      "pygments_lexer": "ipython3",
      "nbconvert_exporter": "python",
      "file_extension": ".py"
    },
    "nteract": {
      "version": "0.23.3"
    }
  },
  "nbformat": 4,
  "nbformat_minor": 4
}