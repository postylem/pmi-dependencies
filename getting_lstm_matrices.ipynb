{
 "cells": [
  {
   "cell_type": "code",
   "execution_count": 2,
   "metadata": {},
   "outputs": [],
   "source": [
    "import numpy as np\n",
    "import os\n",
    "import pandas as pd\n",
    "import itertools\n",
    "\n",
    "from collections import OrderedDict\n",
    "from tqdm.notebook import tqdm\n",
    "\n",
    "# import pmi_accuracy.parser as parser\n",
    "from pmi_accuracy.conll_data import CONLLReader, EXCLUDED_PUNCTUATION, CONLL_COLS"
   ]
  },
  {
   "cell_type": "code",
   "execution_count": 31,
   "metadata": {},
   "outputs": [
    {
     "name": "stdout",
     "output_type": "stream",
     "text": [
      "['/Users/j/McGill/PhD-miasma/pmi-dependencies', '/Users/j/anaconda3/envs/pmienv/lib/python37.zip', '/Users/j/anaconda3/envs/pmienv/lib/python3.7', '/Users/j/anaconda3/envs/pmienv/lib/python3.7/lib-dynload', '', '/Users/j/.local/lib/python3.7/site-packages', '/Users/j/anaconda3/envs/pmienv/lib/python3.7/site-packages', '/Users/j/anaconda3/envs/pmienv/lib/python3.7/site-packages/IPython/extensions', '/Users/j/.ipython']\n"
     ]
    }
   ],
   "source": [
    "import sys\n",
    "print(sys.path)"
   ]
  },
  {
   "cell_type": "code",
   "execution_count": 3,
   "metadata": {},
   "outputs": [],
   "source": [
    "lstm_logp_matrices = np.load('lstm-vs-onlstm/lstm_logp_matrices.npz')\n",
    "onlstm_logp_matrices = np.load('lstm-vs-onlstm/onlstm_logp_matrices.npz')\n",
    "onlstm_syd_logp_matrices = np.load('lstm-vs-onlstm/onlstm_syd_logp_matrices.npz')"
   ]
  },
  {
   "cell_type": "markdown",
   "metadata": {},
   "source": [
    "We are calculating pmi matrix, where this is\n",
    "\n",
    "$$\\mathrm{PMI}({\\bf w}_I;{\\bf w}_J\\mid {\\bf w}_{0:J-1,J+1:I-1}) = \n",
    "\\log \\frac{p({\\bf w}_I\\mid  {\\bf w}_{0:I-1})}\n",
    "          {p({\\bf w}_I\\mid {\\bf w}_{0:J-1,J+1:I-1})} = \\log(unmasked) - \\log(masked)$$\n",
    "where ${\\bf w}_{0:J-1,J+1:I-1}$ is the sentence up to ${\\bf w}_I$, without ${\\bf w}_J$.\n",
    "\n",
    "--\n",
    "\n",
    "The logp matrices are interpreted as follows: the value in row $r$, column $c$ is the estimated logp of word c+1 when word $r$ is masked.\n",
    "\n",
    "that is\n",
    "\n",
    "- in row $r$ we have masked the token in position $r$.\n",
    "- in column $c$ are logprobabilities for the word in position $c+1$ (so there is one fewer columns than rows).\n",
    "- if sentence length (without punctuation) $=n$ tokens, then the logp matrix is of size $(n+2)$-by-$(n+1)$, because an `<eos>` token is appended to the beginning and end of the sentence.\n",
    "\n",
    "\n",
    "So, the final row in the logp matrix is the row of logps with _no masking_ (bc it is masking last element, which isn't seen by model).  So this is our pmi numerator. The entry at position $r,c$ is the logp of word at position $c+1$ when word at position $r$ is masked, so that gives the numerator for PMI.  Also, summin across this row of logps gives an pseudo loglikelihood for the sentence.\n",
    "\n",
    "Note we don't care about masking of `<eos>`, so we will ignore the first row, as well as the last, and we don't care about predictions of `<eos>`, so we'll aslo drop the the last column.\n",
    "\n",
    "**For consistency with the other PMI matrices, where rows correspond to target word, columns to masked word, we will transpose this result (so bottom triangle is nonzero).**"
   ]
  },
  {
   "cell_type": "code",
   "execution_count": 7,
   "metadata": {},
   "outputs": [],
   "source": [
    "def pmi_matrix_from_logp_matrix(input_logp_matrix, transpose=True):\n",
    "    \"\"\"Convert nparray of logps to pmi matrix\"\"\"\n",
    "    logp_matrix = input_logp_matrix[:, :-1]  # drop last column\n",
    "    logp_unmasked = logp_matrix[-1]  # last row is unmasked logps\n",
    "    # dropping first and last row, subtract from unmasked logps\n",
    "    pmimat = logp_unmasked - logp_matrix[1:-1]\n",
    "    if transpose:\n",
    "        pmimat = pmimat.T\n",
    "    return pmimat\n",
    "\n",
    "\n",
    "# print('for example')\n",
    "# with np.printoptions(precision=2, suppress=True):\n",
    "#     testsen = lstm_logp_matrices.files[1276]\n",
    "#     testmat = lstm_logp_matrices[testsen]\n",
    "#     testpmimat = pmi_matrix_from_logp_matrix(testmat)\n",
    "#     print(\n",
    "#         testsen,\n",
    "#         pmi_matrix_from_logp_matrix(testmat),\n",
    "#         sep='\\n')"
   ]
  },
  {
   "cell_type": "code",
   "execution_count": 6,
   "metadata": {},
   "outputs": [],
   "source": [
    "# counter = 0\n",
    "# for i_sen in lstm_logp_matrices:\n",
    "#     if len(i_sen.split(' ')) < 6 or len(i_sen.split(' ')) > 7:\n",
    "#         continue\n",
    "#     counter += 1\n",
    "#     logp_matrix = lstm_logp_matrices[i_sen]\n",
    "#     print(logp_matrix.shape)\n",
    "#     pmi_matrix = pmi_matrix_from_logp_matrix(logp_matrix)\n",
    "#     with np.printoptions(precision=2, suppress=True):\n",
    "#         print(pmi_matrix, i_sen)\n",
    "#     if counter == 4:\n",
    "#         break"
   ]
  },
  {
   "cell_type": "markdown",
   "metadata": {},
   "source": [
    "\n",
    "# Alignment...\n",
    "We've got to align these results with the dependency information from the conll files."
   ]
  },
  {
   "cell_type": "code",
   "execution_count": 8,
   "metadata": {},
   "outputs": [],
   "source": [
    "CONNLX_FILE = 'ptb3-wsj-data/ptb3-wsj-dev.conllx'\n",
    "OBSERVATIONS = CONLLReader(CONLL_COLS).load_conll_dataset(CONNLX_FILE)"
   ]
  },
  {
   "cell_type": "code",
   "execution_count": 11,
   "metadata": {
    "scrolled": true
   },
   "outputs": [
    {
     "name": "stdout",
     "output_type": "stream",
     "text": [
      "128 Revenue fell 1 % to $ 1.39 billion from $ 1.41 billion .\n",
      "128 <eos> revenue fell N % to N.N billion from N.N billion <eos>\n",
      "1276 Source : Telerate Systems Inc .\n",
      "1276 <eos> source telerate systems inc <eos>\n",
      "1185 Other components of the long leading indicator include a ratio of prices to unit labor costs in manufacturing industries , the M2 version of the money supply , adjusted for inflation , and the volume of new home-building permits .\n",
      "1185 <eos> other components of the long leading indicator include a ratio of prices to unit labor costs in manufacturing industries the mN version of the money supply adjusted for inflation and the volume of new home-building permits <eos>\n"
     ]
    }
   ],
   "source": [
    "# for example, see how they differ from the XLNet sentences:\n",
    "XLNET = \"results-clean/contextual_embedding_models/xlnet-base-cased_pad30_2020-08-07-09-12/\"\n",
    "XLNET_mats = np.load(os.path.join(XLNET, 'pmi_matrices.npz')) # just for comparison\n",
    "\n",
    "for i in [128,1276,1185]:\n",
    "    print(XLNET_mats.files[i]) # same as print(i, ' '.join(OBSERVATIONS[i].sentence))\n",
    "    print(onlstm_syd_logp_matrices.files[i])"
   ]
  },
  {
   "cell_type": "code",
   "execution_count": 12,
   "metadata": {},
   "outputs": [],
   "source": [
    "def matches(PTB_word, simple_word):\n",
    "    simple_word = simple_word.replace(\"\\\\/\", \"/\")\n",
    "    if PTB_word.lower() == simple_word:\n",
    "        return True\n",
    "    Nified_PTB_word = ''.join(\n",
    "        'N' if b else \"\".join(x)\n",
    "        for b, x in itertools.groupby(\n",
    "            PTB_word.lower(), key=str.isdigit))\n",
    "    if simple_word == Nified_PTB_word:\n",
    "        return True\n",
    "    else:\n",
    "        return False\n",
    "\n",
    "\n",
    "def realign_to_ptb(observation, sent_simple, pmi_matrix_simple):\n",
    "    count = 0\n",
    "    new_lstm_sent = []\n",
    "    for j, w in enumerate(observation.sentence):\n",
    "        match = ''\n",
    "        if count >= len(sent_simple):\n",
    "            pass\n",
    "        elif matches(w, sent_simple[count]):\n",
    "            match = sent_simple[count]\n",
    "            count += 1\n",
    "        new_lstm_sent.append(match)\n",
    "\n",
    "    extra_slots = [i for i, x in enumerate(new_lstm_sent) if x == '']\n",
    "    new_observation = observation\n",
    "    new_observation = new_observation._replace(\n",
    "        extra_info = observation.sentence,\n",
    "        sentence = new_lstm_sent)\n",
    "\n",
    "    # insert NaNs in the rows and columns where blanks are\n",
    "    new_pmi_matrix = pmi_matrix_simple\n",
    "    for k in extra_slots:\n",
    "        for axis in [0, 1]:\n",
    "            new_pmi_matrix = np.insert(\n",
    "                arr=new_pmi_matrix, obj=k, values=np.NaN,\n",
    "                axis=axis)\n",
    "\n",
    "    return new_pmi_matrix, new_observation"
   ]
  },
  {
   "cell_type": "code",
   "execution_count": 14,
   "metadata": {
    "scrolled": false
   },
   "outputs": [],
   "source": [
    "# # Looking at some examples\n",
    "# for i in [128, 1276, 1185]:\n",
    "#     obs_i = OBSERVATIONS[i]\n",
    "#     simplesent_i = lstm_logp_matrices.files[i].split(' ')[2:-1]\n",
    "#     simplemat_i = pmi_matrix_from_logp_matrix(\n",
    "#         lstm_logp_matrices[lstm_logp_matrices.files[i]])\n",
    "\n",
    "#     newmat, newobs = realign_to_ptb(obs_i, simplesent_i, simplemat_i)\n",
    "#     print(newobs.sentence)\n",
    "#     blanked_sent = ['' if w==None else w for w in newobs.sentence]\n",
    "#     mstparser1 = parser.DepParse('mst', newmat, newobs.sentence)\n",
    "#     mstparser2 = parser.DepParse('mst', newmat, blanked_sent)\n",
    "    \n",
    "#     df = pd.DataFrame(newobs).T\n",
    "#     df.columns = CONLL_COLS\n",
    "#     display(df)\n",
    "#     print(newmat.shape)"
   ]
  },
  {
   "cell_type": "markdown",
   "metadata": {},
   "source": [
    "Note that if we use the original sentence, we get edges between words which are `$`, since I treated this as a word, and the LSTM code treats it as a punctuation and does not train on it.  So we should get the gold score including `$` in the list of excluded punctuation. To do this, I've replaced the `sentence` field with the blanked-out sentence, and put the original sentence in `extra_info`."
   ]
  },
  {
   "cell_type": "markdown",
   "metadata": {},
   "source": [
    "# Export new matrices"
   ]
  },
  {
   "cell_type": "code",
   "execution_count": 15,
   "metadata": {},
   "outputs": [],
   "source": [
    "def get_aligned_pmi_matrices_from_logp(logp_matrices, observations):\n",
    "    matrices_orddict = OrderedDict()\n",
    "    loglik_orddict = OrderedDict()\n",
    "    for sent_key in tqdm(logp_matrices.files):\n",
    "        i = int(sent_key.split(' ')[0])\n",
    "        logp_matrix = logp_matrices[sent_key]\n",
    "        simple_sent = sent_key.split(' ')[2:-1]\n",
    "        simple_pmis = pmi_matrix_from_logp_matrix(logp_matrix)\n",
    "        obs = observations[i]\n",
    "        spaced_pmis, spaced_obs = realign_to_ptb(\n",
    "            obs, simple_sent, simple_pmis)\n",
    "#         key_i = str(' '.join([str(i), *spaced_obs.sentence]))\n",
    "        key_i = str(' '.join([str(i), *obs.sentence]))\n",
    "        matrices_orddict[key_i] = spaced_pmis\n",
    "        pseudo_loglik = np.sum(logp_matrix[-1])\n",
    "        loglik_orddict[key_i] = pseudo_loglik\n",
    "        if spaced_pmis.shape[0]!=len(obs.sentence):\n",
    "            print(\"mismatch at\",i,\n",
    "                  f\"{spaced_pmis.shape[0]}!={len(obs.sentence)}\")\n",
    "    return(matrices_orddict, loglik_orddict)\n",
    "#         with np.printoptions(precision=1, suppress=True):\n",
    "#             print(simple_sent,simple_pmis,\n",
    "#                   spaced_obs.sentence,spaced_pmis,sep='\\n')"
   ]
  },
  {
   "cell_type": "code",
   "execution_count": 20,
   "metadata": {
    "scrolled": true
   },
   "outputs": [
    {
     "data": {
      "application/vnd.jupyter.widget-view+json": {
       "model_id": "82e427bf36784307a512e5a9789ee86f",
       "version_major": 2,
       "version_minor": 0
      },
      "text/plain": [
       "HBox(children=(FloatProgress(value=0.0, max=1700.0), HTML(value='')))"
      ]
     },
     "metadata": {},
     "output_type": "display_data"
    },
    {
     "name": "stdout",
     "output_type": "stream",
     "text": [
      "\n"
     ]
    },
    {
     "data": {
      "application/vnd.jupyter.widget-view+json": {
       "model_id": "5544c81063bf4ed7b28c065f467f02dc",
       "version_major": 2,
       "version_minor": 0
      },
      "text/plain": [
       "HBox(children=(FloatProgress(value=0.0, max=1700.0), HTML(value='')))"
      ]
     },
     "metadata": {},
     "output_type": "display_data"
    },
    {
     "name": "stdout",
     "output_type": "stream",
     "text": [
      "\n"
     ]
    },
    {
     "data": {
      "application/vnd.jupyter.widget-view+json": {
       "model_id": "809300b467b242c6bfbc677a3f851d08",
       "version_major": 2,
       "version_minor": 0
      },
      "text/plain": [
       "HBox(children=(FloatProgress(value=0.0, max=1700.0), HTML(value='')))"
      ]
     },
     "metadata": {},
     "output_type": "display_data"
    },
    {
     "name": "stdout",
     "output_type": "stream",
     "text": [
      "\n"
     ]
    }
   ],
   "source": [
    "lstm_pmi_matrices, lstm_pmi_logliks = get_aligned_pmi_matrices_from_logp(\n",
    "    lstm_logp_matrices, OBSERVATIONS)\n",
    "onlstm_pmi_matrices, onlstm_pmi_logliks = get_aligned_pmi_matrices_from_logp(\n",
    "    onlstm_logp_matrices, OBSERVATIONS)\n",
    "onlstm_syd_pmi_matrices, onlstm_syd_pmi_logliks = get_aligned_pmi_matrices_from_logp(\n",
    "    onlstm_syd_logp_matrices, OBSERVATIONS)"
   ]
  },
  {
   "cell_type": "code",
   "execution_count": 101,
   "metadata": {},
   "outputs": [],
   "source": []
  },
  {
   "cell_type": "code",
   "execution_count": 29,
   "metadata": {},
   "outputs": [
    {
     "name": "stdout",
     "output_type": "stream",
     "text": [
      "NPZs written to lstm-vs-onlstm/lstm/\n",
      "NPZs written to lstm-vs-onlstm/lstm/\n",
      "NPZs written to lstm-vs-onlstm/onlstm/\n",
      "NPZs written to lstm-vs-onlstm/onlstm/\n",
      "NPZs written to lstm-vs-onlstm/onlstm_syd/\n",
      "NPZs written to lstm-vs-onlstm/onlstm_syd/\n"
     ]
    }
   ],
   "source": [
    "def write_npz(\n",
    "        ordered_dict, resultsdir,\n",
    "        outfilename='saved.npz'):\n",
    "    save_filepath = os.path.join(resultsdir, outfilename)\n",
    "    np.savez(save_filepath, **ordered_dict)\n",
    "\n",
    "npzs_dirs = [\n",
    "    [lstm_pmi_matrices, 'lstm-vs-onlstm/lstm/', \"pmi_matrices.npz\"],\n",
    "    [lstm_pmi_logliks, 'lstm-vs-onlstm/lstm/', \"pseudo_logliks.npz\"],\n",
    "    [onlstm_pmi_matrices, 'lstm-vs-onlstm/onlstm/', \"pmi_matrices.npz\"],\n",
    "    [onlstm_pmi_logliks, 'lstm-vs-onlstm/onlstm/', \"pseudo_logliks.npz\"],\n",
    "    [onlstm_syd_pmi_matrices, 'lstm-vs-onlstm/onlstm_syd/', \"pmi_matrices.npz\"],\n",
    "    [onlstm_syd_pmi_logliks, 'lstm-vs-onlstm/onlstm_syd/', \"pseudo_logliks.npz\"]]\n",
    "\n",
    "for i in npzs_dirs:\n",
    "    write_npz(i[0], i[1], outfilename=i[2])\n",
    "    print(\"NPZs written to\",i[1])"
   ]
  },
  {
   "cell_type": "markdown",
   "metadata": {},
   "source": [
    "# Analysis"
   ]
  },
  {
   "cell_type": "code",
   "execution_count": 51,
   "metadata": {
    "scrolled": false
   },
   "outputs": [
    {
     "data": {
      "text/html": [
       "<div>\n",
       "<style scoped>\n",
       "    .dataframe tbody tr th:only-of-type {\n",
       "        vertical-align: middle;\n",
       "    }\n",
       "\n",
       "    .dataframe tbody tr th {\n",
       "        vertical-align: top;\n",
       "    }\n",
       "\n",
       "    .dataframe thead tr th {\n",
       "        text-align: left;\n",
       "    }\n",
       "\n",
       "    .dataframe thead tr:last-of-type th {\n",
       "        text-align: right;\n",
       "    }\n",
       "</style>\n",
       "<table border=\"1\" class=\"dataframe\">\n",
       "  <thead>\n",
       "    <tr>\n",
       "      <th>absolute_value</th>\n",
       "      <th colspan=\"2\" halign=\"left\">False</th>\n",
       "      <th colspan=\"2\" halign=\"left\">True</th>\n",
       "    </tr>\n",
       "    <tr>\n",
       "      <th>algorithm</th>\n",
       "      <th>nonproj</th>\n",
       "      <th>proj</th>\n",
       "      <th>nonproj</th>\n",
       "      <th>proj</th>\n",
       "    </tr>\n",
       "    <tr>\n",
       "      <th>model</th>\n",
       "      <th></th>\n",
       "      <th></th>\n",
       "      <th></th>\n",
       "      <th></th>\n",
       "    </tr>\n",
       "  </thead>\n",
       "  <tbody>\n",
       "    <tr>\n",
       "      <th>lstm</th>\n",
       "      <td>0.420</td>\n",
       "      <td>0.458</td>\n",
       "      <td>0.435</td>\n",
       "      <td>0.469</td>\n",
       "    </tr>\n",
       "    <tr>\n",
       "      <th>onlstm</th>\n",
       "      <td>0.425</td>\n",
       "      <td>0.461</td>\n",
       "      <td>0.439</td>\n",
       "      <td>0.472</td>\n",
       "    </tr>\n",
       "    <tr>\n",
       "      <th>onlstm_syd</th>\n",
       "      <td>0.428</td>\n",
       "      <td>0.464</td>\n",
       "      <td>0.442</td>\n",
       "      <td>0.475</td>\n",
       "    </tr>\n",
       "  </tbody>\n",
       "</table>\n",
       "</div>"
      ],
      "text/plain": [
       "absolute_value   False          True        \n",
       "algorithm      nonproj   proj nonproj   proj\n",
       "model                                       \n",
       "lstm             0.420  0.458   0.435  0.469\n",
       "onlstm           0.425  0.461   0.439  0.472\n",
       "onlstm_syd       0.428  0.464   0.442  0.475"
      ]
     },
     "execution_count": 51,
     "metadata": {},
     "output_type": "execute_result"
    }
   ],
   "source": [
    "import pandas as pd\n",
    "results_df = pd.read_csv('lstm-vs-onlstm/results.csv') # entered by hand.\n",
    "pd.pivot_table(\n",
    "    results_df, \n",
    "    values='uuas', index=['model'], columns=['absolute_value','algorithm'])"
   ]
  },
  {
   "cell_type": "code",
   "execution_count": 52,
   "metadata": {},
   "outputs": [
    {
     "data": {
      "image/png": "[encoded data removed]",
      "text/plain": [
       "<Figure size 505.75x216 with 2 Axes>"
      ]
     },
     "metadata": {
      "needs_background": "light"
     },
     "output_type": "display_data"
    }
   ],
   "source": [
    "import seaborn as sns\n",
    "g = sns.FacetGrid(results_df, col=\"absolute_value\", hue=\"algorithm\")\n",
    "g = (g.map(plt.scatter, \"model\", \"uuas\").add_legend())"
   ]
  },
  {
   "cell_type": "markdown",
   "metadata": {
    "heading_collapsed": true
   },
   "source": [
    "## Looking at the sentences"
   ]
  },
  {
   "cell_type": "code",
   "execution_count": 175,
   "metadata": {
    "hidden": true
   },
   "outputs": [
    {
     "data": {
      "text/html": [
       "<div>\n",
       "<style scoped>\n",
       "    .dataframe tbody tr th:only-of-type {\n",
       "        vertical-align: middle;\n",
       "    }\n",
       "\n",
       "    .dataframe tbody tr th {\n",
       "        vertical-align: top;\n",
       "    }\n",
       "\n",
       "    .dataframe thead th {\n",
       "        text-align: right;\n",
       "    }\n",
       "</style>\n",
       "<table border=\"1\" class=\"dataframe\">\n",
       "  <thead>\n",
       "    <tr style=\"text-align: right;\">\n",
       "      <th></th>\n",
       "      <th>simplified</th>\n",
       "      <th>not simplified</th>\n",
       "    </tr>\n",
       "  </thead>\n",
       "  <tbody>\n",
       "    <tr>\n",
       "      <th>0</th>\n",
       "      <td>0 &lt;eos&gt; influential members of the house ways and means committee introduced legislation that would restrict how the new savings-and-loan bailout agency can raise capital creating another potential obstacle to the government 's sale of sick thrifts &lt;eos&gt;</td>\n",
       "      <td>0 Influential members of the House Ways and Means Committee introduced legislation that would restrict how the new savings-and-loan bailout agency can raise capital , creating another potential obstacle to the government 's sale of sick thrifts .</td>\n",
       "    </tr>\n",
       "    <tr>\n",
       "      <th>1</th>\n",
       "      <td>1 &lt;eos&gt; the bill whose backers include chairman dan rostenkowski d. ill. would prevent the resolution trust corp. from raising temporary working capital by having an rtc-owned bank or thrift issue debt that would n't be counted on the federal budget &lt;eos&gt;</td>\n",
       "      <td>1 The bill , whose backers include Chairman Dan Rostenkowski -LRB- D. , Ill. -RRB- , would prevent the Resolution Trust Corp. from raising temporary working capital by having an RTC-owned bank or thrift issue debt that would n't be counted on the federal budget .</td>\n",
       "    </tr>\n",
       "    <tr>\n",
       "      <th>2</th>\n",
       "      <td>2 &lt;eos&gt; the bill intends to restrict the rtc to treasury borrowings only unless the agency receives specific congressional authorization &lt;eos&gt;</td>\n",
       "      <td>2 The bill intends to restrict the RTC to Treasury borrowings only , unless the agency receives specific congressional authorization .</td>\n",
       "    </tr>\n",
       "    <tr>\n",
       "      <th>3</th>\n",
       "      <td>3 &lt;eos&gt; such agency self-help borrowing is unauthorized and expensive far more expensive than direct treasury borrowing said rep. fortney stark d. calif. the bill 's chief sponsor &lt;eos&gt;</td>\n",
       "      <td>3 `` Such agency ` self-help ' borrowing is unauthorized and expensive , far more expensive than direct Treasury borrowing , '' said Rep. Fortney Stark -LRB- D. , Calif. -RRB- , the bill 's chief sponsor .</td>\n",
       "    </tr>\n",
       "    <tr>\n",
       "      <th>4</th>\n",
       "      <td>4 &lt;eos&gt; the complex financing plan in the s&amp;l bailout law includes raising N billion from debt issued by the newly created rtc &lt;eos&gt;</td>\n",
       "      <td>4 The complex financing plan in the S&amp;L bailout law includes raising $ 30 billion from debt issued by the newly created RTC .</td>\n",
       "    </tr>\n",
       "  </tbody>\n",
       "</table>\n",
       "</div>"
      ],
      "text/plain": [
       "                                                                                                                                                                                                                                                        simplified  \\\n",
       "0   0 <eos> influential members of the house ways and means committee introduced legislation that would restrict how the new savings-and-loan bailout agency can raise capital creating another potential obstacle to the government 's sale of sick thrifts <eos>   \n",
       "1  1 <eos> the bill whose backers include chairman dan rostenkowski d. ill. would prevent the resolution trust corp. from raising temporary working capital by having an rtc-owned bank or thrift issue debt that would n't be counted on the federal budget <eos>   \n",
       "2                                                                                                                   2 <eos> the bill intends to restrict the rtc to treasury borrowings only unless the agency receives specific congressional authorization <eos>   \n",
       "3                                                                        3 <eos> such agency self-help borrowing is unauthorized and expensive far more expensive than direct treasury borrowing said rep. fortney stark d. calif. the bill 's chief sponsor <eos>   \n",
       "4                                                                                                                             4 <eos> the complex financing plan in the s&l bailout law includes raising N billion from debt issued by the newly created rtc <eos>   \n",
       "\n",
       "                                                                                                                                                                                                                                                            not simplified  \n",
       "0                   0 Influential members of the House Ways and Means Committee introduced legislation that would restrict how the new savings-and-loan bailout agency can raise capital , creating another potential obstacle to the government 's sale of sick thrifts .  \n",
       "1  1 The bill , whose backers include Chairman Dan Rostenkowski -LRB- D. , Ill. -RRB- , would prevent the Resolution Trust Corp. from raising temporary working capital by having an RTC-owned bank or thrift issue debt that would n't be counted on the federal budget .  \n",
       "2                                                                                                                                   2 The bill intends to restrict the RTC to Treasury borrowings only , unless the agency receives specific congressional authorization .  \n",
       "3                                                            3 `` Such agency ` self-help ' borrowing is unauthorized and expensive , far more expensive than direct Treasury borrowing , '' said Rep. Fortney Stark -LRB- D. , Calif. -RRB- , the bill 's chief sponsor .  \n",
       "4                                                                                                                                            4 The complex financing plan in the S&L bailout law includes raising $ 30 billion from debt issued by the newly created RTC .  "
      ]
     },
     "execution_count": 175,
     "metadata": {},
     "output_type": "execute_result"
    }
   ],
   "source": [
    "s1 = pd.Series(lstm_logp_matrices.files, name='simplified')\n",
    "s2 = pd.Series(xlnet_pmi_matrices.files, name='not simplified')\n",
    "sent_comparison = pd.concat([s1, s2], axis=1)\n",
    "pd.set_option('display.max_colwidth', None)\n",
    "sent_comparison.head()"
   ]
  },
  {
   "cell_type": "code",
   "execution_count": 177,
   "metadata": {
    "hidden": true
   },
   "outputs": [
    {
     "data": {
      "text/html": [
       "<div>\n",
       "<style scoped>\n",
       "    .dataframe tbody tr th:only-of-type {\n",
       "        vertical-align: middle;\n",
       "    }\n",
       "\n",
       "    .dataframe tbody tr th {\n",
       "        vertical-align: top;\n",
       "    }\n",
       "\n",
       "    .dataframe thead th {\n",
       "        text-align: right;\n",
       "    }\n",
       "</style>\n",
       "<table border=\"1\" class=\"dataframe\">\n",
       "  <thead>\n",
       "    <tr style=\"text-align: right;\">\n",
       "      <th></th>\n",
       "      <th>simplified</th>\n",
       "      <th>not simplified</th>\n",
       "    </tr>\n",
       "  </thead>\n",
       "  <tbody>\n",
       "    <tr>\n",
       "      <th>396</th>\n",
       "      <td>396 &lt;eos&gt; bsn corp. said it will begin an offer tomorrow to exchange up to one million of its common shares and all of its N.N million in N N\\/N % convertible debentures due N for a package of new debt and common stock warrants &lt;eos&gt;</td>\n",
       "      <td>396 BSN Corp. said it will begin an offer tomorrow to exchange up to one million of its common shares and all of its $ 16.6 million in 7 3/4 % convertible debentures due 2001 for a package of new debt and common stock warrants .</td>\n",
       "    </tr>\n",
       "    <tr>\n",
       "      <th>397</th>\n",
       "      <td>397 &lt;eos&gt; under terms of the offer the sporting goods maker will swap N face amount of N N\\/N % subordinated notes due N and one warrant for each common share &lt;eos&gt;</td>\n",
       "      <td>397 Under terms of the offer , the sporting goods maker will swap $ 9 face amount of 9 1/4 % subordinated notes due 1996 and one warrant for each common share .</td>\n",
       "    </tr>\n",
       "    <tr>\n",
       "      <th>398</th>\n",
       "      <td>398 &lt;eos&gt; each warrant allows the holder to buy one bsn share for N.N a share at any time over the next seven years &lt;eos&gt;</td>\n",
       "      <td>398 Each warrant allows the holder to buy one BSN share for $ 10.75 a share at any time over the next seven years .</td>\n",
       "    </tr>\n",
       "    <tr>\n",
       "      <th>399</th>\n",
       "      <td>399 &lt;eos&gt; bsn currently has N.N million common shares outstanding &lt;eos&gt;</td>\n",
       "      <td>399 BSN currently has 4.6 million common shares outstanding .</td>\n",
       "    </tr>\n",
       "    <tr>\n",
       "      <th>400</th>\n",
       "      <td>400 &lt;eos&gt; bsn also is offering N face amount of new notes and N common-stock warrants for each N,N face amount of its convertible debt outstanding &lt;eos&gt;</td>\n",
       "      <td>400 BSN also is offering $ 850 face amount of new notes and 64 common-stock warrants for each $ 1,000 face amount of its convertible debt outstanding .</td>\n",
       "    </tr>\n",
       "  </tbody>\n",
       "</table>\n",
       "</div>"
      ],
      "text/plain": [
       "                                                                                                                                                                                                                                    simplified  \\\n",
       "396  396 <eos> bsn corp. said it will begin an offer tomorrow to exchange up to one million of its common shares and all of its N.N million in N N\\/N % convertible debentures due N for a package of new debt and common stock warrants <eos>   \n",
       "397                                                                       397 <eos> under terms of the offer the sporting goods maker will swap N face amount of N N\\/N % subordinated notes due N and one warrant for each common share <eos>   \n",
       "398                                                                                                                  398 <eos> each warrant allows the holder to buy one bsn share for N.N a share at any time over the next seven years <eos>   \n",
       "399                                                                                                                                                                    399 <eos> bsn currently has N.N million common shares outstanding <eos>   \n",
       "400                                                                                   400 <eos> bsn also is offering N face amount of new notes and N common-stock warrants for each N,N face amount of its convertible debt outstanding <eos>   \n",
       "\n",
       "                                                                                                                                                                                                                           not simplified  \n",
       "396  396 BSN Corp. said it will begin an offer tomorrow to exchange up to one million of its common shares and all of its $ 16.6 million in 7 3/4 % convertible debentures due 2001 for a package of new debt and common stock warrants .  \n",
       "397                                                                      397 Under terms of the offer , the sporting goods maker will swap $ 9 face amount of 9 1/4 % subordinated notes due 1996 and one warrant for each common share .  \n",
       "398                                                                                                                   398 Each warrant allows the holder to buy one BSN share for $ 10.75 a share at any time over the next seven years .  \n",
       "399                                                                                                                                                                         399 BSN currently has 4.6 million common shares outstanding .  \n",
       "400                                                                               400 BSN also is offering $ 850 face amount of new notes and 64 common-stock warrants for each $ 1,000 face amount of its convertible debt outstanding .  "
      ]
     },
     "execution_count": 177,
     "metadata": {},
     "output_type": "execute_result"
    }
   ],
   "source": [
    "sent_comparison.loc[396:400]"
   ]
  },
  {
   "cell_type": "code",
   "execution_count": 176,
   "metadata": {
    "hidden": true,
    "scrolled": false
   },
   "outputs": [
    {
     "data": {
      "text/html": [
       "<div>\n",
       "<style scoped>\n",
       "    .dataframe tbody tr th:only-of-type {\n",
       "        vertical-align: middle;\n",
       "    }\n",
       "\n",
       "    .dataframe tbody tr th {\n",
       "        vertical-align: top;\n",
       "    }\n",
       "\n",
       "    .dataframe thead th {\n",
       "        text-align: right;\n",
       "    }\n",
       "</style>\n",
       "<table border=\"1\" class=\"dataframe\">\n",
       "  <thead>\n",
       "    <tr style=\"text-align: right;\">\n",
       "      <th></th>\n",
       "      <th>simplified</th>\n",
       "      <th>not simplified</th>\n",
       "    </tr>\n",
       "  </thead>\n",
       "  <tbody>\n",
       "    <tr>\n",
       "      <th>127</th>\n",
       "      <td>127 &lt;eos&gt; average shares outstanding dropped to N.N million from N.N million &lt;eos&gt;</td>\n",
       "      <td>127 Average shares outstanding dropped to 75.8 million from 82.1 million .</td>\n",
       "    </tr>\n",
       "    <tr>\n",
       "      <th>128</th>\n",
       "      <td>128 &lt;eos&gt; revenue fell N % to N.N billion from N.N billion &lt;eos&gt;</td>\n",
       "      <td>128 Revenue fell 1 % to $ 1.39 billion from $ 1.41 billion .</td>\n",
       "    </tr>\n",
       "    <tr>\n",
       "      <th>129</th>\n",
       "      <td>129 &lt;eos&gt; the computer maker which sells more than half its goods outside the u.s. also said the negative effect of a stronger u.s. dollar will adversely affect its fourth-quarter performance and make it difficult to better N results &lt;eos&gt;</td>\n",
       "      <td>129 The computer maker , which sells more than half its goods outside the U.S. , also said the negative effect of a stronger U.S. dollar will `` adversely affect '' its fourth-quarter performance and `` make it difficult '' to better 1988 results .</td>\n",
       "    </tr>\n",
       "    <tr>\n",
       "      <th>130</th>\n",
       "      <td>130 &lt;eos&gt; ncr said revenue declined both in the u.s. and overseas reflecting a world-wide softening of the computer markets &lt;eos&gt;</td>\n",
       "      <td>130 NCR said revenue declined both in the U.S. and overseas , reflecting a world-wide softening of the computer markets .</td>\n",
       "    </tr>\n",
       "  </tbody>\n",
       "</table>\n",
       "</div>"
      ],
      "text/plain": [
       "                                                                                                                                                                                                                                          simplified  \\\n",
       "127                                                                                                                                                               127 <eos> average shares outstanding dropped to N.N million from N.N million <eos>   \n",
       "128                                                                                                                                                                                 128 <eos> revenue fell N % to N.N billion from N.N billion <eos>   \n",
       "129  129 <eos> the computer maker which sells more than half its goods outside the u.s. also said the negative effect of a stronger u.s. dollar will adversely affect its fourth-quarter performance and make it difficult to better N results <eos>   \n",
       "130                                                                                                                130 <eos> ncr said revenue declined both in the u.s. and overseas reflecting a world-wide softening of the computer markets <eos>   \n",
       "\n",
       "                                                                                                                                                                                                                                               not simplified  \n",
       "127                                                                                                                                                                                127 Average shares outstanding dropped to 75.8 million from 82.1 million .  \n",
       "128                                                                                                                                                                                              128 Revenue fell 1 % to $ 1.39 billion from $ 1.41 billion .  \n",
       "129  129 The computer maker , which sells more than half its goods outside the U.S. , also said the negative effect of a stronger U.S. dollar will `` adversely affect '' its fourth-quarter performance and `` make it difficult '' to better 1988 results .  \n",
       "130                                                                                                                                 130 NCR said revenue declined both in the U.S. and overseas , reflecting a world-wide softening of the computer markets .  "
      ]
     },
     "execution_count": 176,
     "metadata": {},
     "output_type": "execute_result"
    }
   ],
   "source": [
    "sent_comparison.loc[127:130]"
   ]
  },
  {
   "cell_type": "code",
   "execution_count": 178,
   "metadata": {
    "hidden": true
   },
   "outputs": [
    {
     "data": {
      "text/html": [
       "<div>\n",
       "<style scoped>\n",
       "    .dataframe tbody tr th:only-of-type {\n",
       "        vertical-align: middle;\n",
       "    }\n",
       "\n",
       "    .dataframe tbody tr th {\n",
       "        vertical-align: top;\n",
       "    }\n",
       "\n",
       "    .dataframe thead th {\n",
       "        text-align: right;\n",
       "    }\n",
       "</style>\n",
       "<table border=\"1\" class=\"dataframe\">\n",
       "  <thead>\n",
       "    <tr style=\"text-align: right;\">\n",
       "      <th></th>\n",
       "      <th>simplified</th>\n",
       "      <th>not simplified</th>\n",
       "    </tr>\n",
       "  </thead>\n",
       "  <tbody>\n",
       "    <tr>\n",
       "      <th>150</th>\n",
       "      <td>150 &lt;eos&gt; i had calls all night long from the states he said &lt;eos&gt;</td>\n",
       "      <td>150 `` I had calls all night long from the States , '' he said .</td>\n",
       "    </tr>\n",
       "    <tr>\n",
       "      <th>151</th>\n",
       "      <td>151 &lt;eos&gt; i was woken up every hour N:N N:N N:N N:N &lt;eos&gt;</td>\n",
       "      <td>151 `` I was woken up every hour -- 1:30 , 2:30 , 3:30 , 4:30 .</td>\n",
       "    </tr>\n",
       "  </tbody>\n",
       "</table>\n",
       "</div>"
      ],
      "text/plain": [
       "                                                             simplified  \\\n",
       "150  150 <eos> i had calls all night long from the states he said <eos>   \n",
       "151           151 <eos> i was woken up every hour N:N N:N N:N N:N <eos>   \n",
       "\n",
       "                                                       not simplified  \n",
       "150  150 `` I had calls all night long from the States , '' he said .  \n",
       "151   151 `` I was woken up every hour -- 1:30 , 2:30 , 3:30 , 4:30 .  "
      ]
     },
     "execution_count": 178,
     "metadata": {},
     "output_type": "execute_result"
    }
   ],
   "source": [
    "sent_comparison.loc[150:151]"
   ]
  },
  {
   "cell_type": "markdown",
   "metadata": {
    "heading_collapsed": true
   },
   "source": [
    "## Plot"
   ]
  },
  {
   "cell_type": "code",
   "execution_count": 24,
   "metadata": {
    "hidden": true
   },
   "outputs": [],
   "source": [
    "import matplotlib\n",
    "import matplotlib.pyplot as plt\n",
    "import matplotlib.colors as colors\n",
    "import matplotlib.ticker as ticker\n",
    "from mpl_toolkits.axes_grid1 import make_axes_locatable\n",
    "\n",
    "def show_pmi_plot(sent, mat, fig=None, ax=None, title=None):\n",
    "    lim = max(abs(np.min(mat)), abs(np.max(mat)))\n",
    "    if ax is None:\n",
    "        fig, ax = plt.subplots()\n",
    "    cax = ax.matshow(\n",
    "        mat, cmap='PuOr',\n",
    "        norm=colors.TwoSlopeNorm(vcenter=0, vmin=-lim, vmax=lim))\n",
    "    divider = make_axes_locatable(ax)\n",
    "    cax1 = divider.append_axes(\"right\", size=\"5%\", pad=0.05)\n",
    "    fig.colorbar(cax, cax=cax1)\n",
    "    ax.xaxis.set_major_locator(ticker.FixedLocator(range(len(sent))))\n",
    "    ax.yaxis.set_major_locator(ticker.FixedLocator(range(len(sent))))\n",
    "    ax.xaxis.set_major_formatter(ticker.FixedFormatter(sent))\n",
    "    ax.yaxis.set_major_formatter(ticker.FixedFormatter(sent))\n",
    "    ax.tick_params(axis=\"x\", labelrotation=40)\n",
    "    ax.set_xlabel('w2 (masked/unmasked conditioner)')\n",
    "    ax.set_ylabel('w1 (target)')\n",
    "    ax.yaxis.set_label_position(\"left\")\n",
    "    if title is not None:\n",
    "        ax.set_title(title)\n",
    "    plt.setp(ax.get_xticklabels(), rotation=35,\n",
    "             ha=\"left\", rotation_mode=\"anchor\")\n",
    "    plt.setp(ax.get_yticklabels(), rotation=35,\n",
    "             ha=\"right\", rotation_mode=\"anchor\")\n",
    "    plt.show()\n",
    "    \n",
    "def plot_pmi_matrix(key_sen,pmi_matrix):\n",
    "    sentence = key_sen.split(' ')[1:]\n",
    "    print(sentence)\n",
    "    show_pmi_plot(sent=sentence, mat=pmi_matrix)"
   ]
  },
  {
   "cell_type": "code",
   "execution_count": 26,
   "metadata": {
    "hidden": true,
    "scrolled": false
   },
   "outputs": [
    {
     "name": "stdout",
     "output_type": "stream",
     "text": [
      "lstm\n",
      "['The', 'complex', 'financing', 'plan', 'in', 'the', 'S&L', 'bailout', 'law', 'includes', 'raising', '$', '30', 'billion', 'from', 'debt', 'issued', 'by', 'the', 'newly', 'created', 'RTC', '.']\n"
     ]
    },
    {
     "data": {
      "image/png": "[encoded data removed]",
      "text/plain": [
       "<Figure size 432x288 with 2 Axes>"
      ]
     },
     "metadata": {
      "needs_background": "light"
     },
     "output_type": "display_data"
    },
    {
     "name": "stdout",
     "output_type": "stream",
     "text": [
      "onlstm\n",
      "['The', 'complex', 'financing', 'plan', 'in', 'the', 'S&L', 'bailout', 'law', 'includes', 'raising', '$', '30', 'billion', 'from', 'debt', 'issued', 'by', 'the', 'newly', 'created', 'RTC', '.']\n"
     ]
    },
    {
     "data": {
      "image/png": "[encoded data removed]",
      "text/plain": [
       "<Figure size 432x288 with 2 Axes>"
      ]
     },
     "metadata": {
      "needs_background": "light"
     },
     "output_type": "display_data"
    },
    {
     "name": "stdout",
     "output_type": "stream",
     "text": [
      "onlstm_syd\n",
      "['The', 'complex', 'financing', 'plan', 'in', 'the', 'S&L', 'bailout', 'law', 'includes', 'raising', '$', '30', 'billion', 'from', 'debt', 'issued', 'by', 'the', 'newly', 'created', 'RTC', '.']\n"
     ]
    },
    {
     "data": {
      "image/png": "[encoded data removed]",
      "text/plain": [
       "<Figure size 432x288 with 2 Axes>"
      ]
     },
     "metadata": {
      "needs_background": "light"
     },
     "output_type": "display_data"
    },
    {
     "name": "stdout",
     "output_type": "stream",
     "text": [
      "onlstm_syd_mat - lstm_mat\n",
      "['The', 'complex', 'financing', 'plan', 'in', 'the', 'S&L', 'bailout', 'law', 'includes', 'raising', '$', '30', 'billion', 'from', 'debt', 'issued', 'by', 'the', 'newly', 'created', 'RTC', '.']\n"
     ]
    },
    {
     "data": {
      "image/png": "[encoded data removed]",
      "text/plain": [
       "<Figure size 432x288 with 2 Axes>"
      ]
     },
     "metadata": {
      "needs_background": "light"
     },
     "output_type": "display_data"
    },
    {
     "name": "stdout",
     "output_type": "stream",
     "text": [
      "onlstm_syd_mat - onlstm_mat\n",
      "['The', 'complex', 'financing', 'plan', 'in', 'the', 'S&L', 'bailout', 'law', 'includes', 'raising', '$', '30', 'billion', 'from', 'debt', 'issued', 'by', 'the', 'newly', 'created', 'RTC', '.']\n"
     ]
    },
    {
     "data": {
      "image/png": "[encoded data removed]",
      "text/plain": [
       "<Figure size 432x288 with 2 Axes>"
      ]
     },
     "metadata": {
      "needs_background": "light"
     },
     "output_type": "display_data"
    }
   ],
   "source": [
    "i=4\n",
    "key = list(lstm_pmi_matrices.keys())[i]\n",
    "lstm_mat = np.nan_to_num(lstm_pmi_matrices[key])\n",
    "onlstm_mat = np.nan_to_num(onlstm_pmi_matrices[key])\n",
    "onlstm_syd_mat = np.nan_to_num(onlstm_syd_pmi_matrices[key])\n",
    "print('lstm')\n",
    "plot_pmi_matrix(key, lstm_mat)\n",
    "print('onlstm')\n",
    "plot_pmi_matrix(key, onlstm_mat)\n",
    "print('onlstm_syd')\n",
    "plot_pmi_matrix(key, onlstm_syd_mat)\n",
    "print('onlstm_syd_mat - lstm_mat')\n",
    "plot_pmi_matrix(key, onlstm_syd_mat - lstm_mat)\n",
    "print('onlstm_syd_mat - onlstm_mat')\n",
    "plot_pmi_matrix(key, onlstm_syd_mat - onlstm_mat)"
   ]
  }
 ],
 "metadata": {
  "kernelspec": {
   "display_name": "Python [conda env:pmienv] *",
   "language": "python",
   "name": "conda-env-pmienv-py"
  },
  "language_info": {
   "codemirror_mode": {
    "name": "ipython",
    "version": 3
   },
   "file_extension": ".py",
   "mimetype": "text/x-python",
   "name": "python",
   "nbconvert_exporter": "python",
   "pygments_lexer": "ipython3",
   "version": "3.7.6"
  },
  "toc": {
   "base_numbering": 1,
   "nav_menu": {},
   "number_sections": true,
   "sideBar": true,
   "skip_h1_title": false,
   "title_cell": "Table of Contents",
   "title_sidebar": "Contents",
   "toc_cell": false,
   "toc_position": {},
   "toc_section_display": true,
   "toc_window_display": false
  },
  "varInspector": {
   "cols": {
    "lenName": 16,
    "lenType": 16,
    "lenVar": 40
   },
   "kernels_config": {
    "python": {
     "delete_cmd_postfix": "",
     "delete_cmd_prefix": "del ",
     "library": "var_list.py",
     "varRefreshCmd": "print(var_dic_list())"
    },
    "r": {
     "delete_cmd_postfix": ") ",
     "delete_cmd_prefix": "rm(",
     "library": "var_list.r",
     "varRefreshCmd": "cat(var_dic_list()) "
    }
   },
   "position": {
    "height": "681px",
    "left": "1282px",
    "right": "20px",
    "top": "120px",
    "width": "327px"
   },
   "types_to_exclude": [
    "module",
    "function",
    "builtin_function_or_method",
    "instance",
    "_Feature"
   ],
   "window_display": false
  }
 },
 "nbformat": 4,
 "nbformat_minor": 4
}
