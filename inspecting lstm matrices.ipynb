{
 "cells": [
  {
   "cell_type": "code",
   "execution_count": 190,
   "metadata": {},
   "outputs": [],
   "source": [
    "import numpy as np\n",
    "import os\n",
    "import pandas as pd\n",
    "from pmi_accuracy import parser"
   ]
  },
  {
   "cell_type": "code",
   "execution_count": 6,
   "metadata": {},
   "outputs": [],
   "source": [
    "RESULTS_DIR = \"results-clean/xlnet-base-cased_pad30_2020-08-07-09-12/\"\n",
    "xlnet_pmi_matrices = np.load(os.path.join(RESULTS_DIR, 'pmi_matrices.npz'))\n",
    "lstm_logp_matrices = np.load('lstm_logp_matrices.npz')\n",
    "onlstm_logp_matrices = np.load('onlstm_logp_matrices.npz')\n",
    "\n",
    "assert len(xlnet_pmi_matrices) == len(\n",
    "    lstm_logp_matrices) == len(onlstm_logp_matrices)"
   ]
  },
  {
   "cell_type": "markdown",
   "metadata": {},
   "source": [
    "We are calculating pmi matrix, where this is\n",
    "\n",
    "$$\\mathrm{PMI}({\\bf w}_I;{\\bf w}_J\\mid {\\bf w}_{0:J-1,J+1:I-1}) = \n",
    "\\log \\frac{p({\\bf w}_I\\mid  {\\bf w}_{0:I-1})}\n",
    "          {p({\\bf w}_I\\mid {\\bf w}_{0:J-1,J+1:I-1})} = \\log(unmasked) - \\log(masked)$$\n",
    "where ${\\bf w}_{0:J-1,J+1:I-1}$ is the sentence up to ${\\bf w}_I$, without ${\\bf w}_J$.\n",
    "\n",
    "--\n",
    "\n",
    "The logp matrices are interpreted as follows: the value in row $r$, column $c$ is the estimated logp of word c+1 when word $r$ is masked.\n",
    "\n",
    "that is\n",
    "\n",
    "- in row $r$ we have masked the token in position $r$.\n",
    "- in column $c$ are logprobabilities for the word in position $c+1$ (so there is one fewer columns than rows).\n",
    "- if sentence length (without punctuation) $=n$ tokens, then the logp matrix is of size $(n+2)$-by-$(n+1)$, because an `<eos>` token is appended to the beginning and end of the sentence.\n",
    "\n",
    "\n",
    "So, the final row in the logp matrix is the row of logps with _no masking_ (bc it is masking last element, which isn't seen by model).  So this is our pmi numerator. The entry at position $r,c$ is the logp of word at position $c+1$ when word at position $r$ is masked, so that gives the numerator for PMI. Note we don't care about predictions of `<eos>`, or masking of `<eos>`, so we will ignore the first row, as well as the last, and also the last column.\n",
    "\n",
    "**For consistency with the other PMI matrices, where rows correspond to target word, columns to masked word, we will transpose this result (so bottom triangle is nonzero).**"
   ]
  },
  {
   "cell_type": "code",
   "execution_count": 79,
   "metadata": {},
   "outputs": [
    {
     "name": "stdout",
     "output_type": "stream",
     "text": [
      "for example\n",
      "1276 <eos> source telerate systems inc <eos>\n",
      "[[ 0.    0.    0.    0.  ]\n",
      " [-0.06  0.    0.    0.  ]\n",
      " [ 0.35  3.09  0.    0.  ]\n",
      " [ 0.68  2.35  2.42  0.  ]]\n"
     ]
    }
   ],
   "source": [
    "def pmi_matrix_from_logp_matrix(input_logp_matrix, transpose=True):\n",
    "    \"\"\"Convert nparray of logps to pmi matrix\"\"\"\n",
    "    logp_matrix = input_logp_matrix[:, :-1]  # drop last column\n",
    "    logp_unmasked = logp_matrix[-1]  # last row is unmasked logps\n",
    "    # dropping first and last row, subtract from unmasked logps\n",
    "    pmimat = logp_unmasked - logp_matrix[1:-1]\n",
    "    if transpose:\n",
    "        pmimat = pmimat.T\n",
    "    return(pmimat)\n",
    "\n",
    "\n",
    "print('for example')\n",
    "with np.printoptions(precision=2, suppress=True):\n",
    "    testsen = lstm_logp_matrices.files[1276]\n",
    "    testmat = lstm_logp_matrices[testsen]\n",
    "    print(\n",
    "        testsen,\n",
    "        pmi_matrix_from_logp_matrix(testmat),\n",
    "        sep='\\n')"
   ]
  },
  {
   "cell_type": "code",
   "execution_count": 107,
   "metadata": {},
   "outputs": [
    {
     "name": "stdout",
     "output_type": "stream",
     "text": [
      "(6, 5)\n",
      "[[0.   0.   0.   0.  ]\n",
      " [1.82 0.   0.   0.  ]\n",
      " [1.16 3.27 0.   0.  ]\n",
      " [2.44 3.46 4.05 0.  ]] 69 <eos> terms were n't disclosed <eos>\n",
      "(6, 5)\n",
      "[[ 0.    0.    0.    0.  ]\n",
      " [ 3.74  0.    0.    0.  ]\n",
      " [-0.59 -0.47  0.    0.  ]\n",
      " [ 0.13 -0.05  0.2   0.  ]] 102 <eos> i love 'em both <eos>\n",
      "(5, 4)\n",
      "[[ 0.    0.    0.  ]\n",
      " [ 0.54  0.    0.  ]\n",
      " [-1.49 -0.11  0.  ]] 123 <eos> that 's baseball <eos>\n",
      "(6, 5)\n",
      "[[0.   0.   0.   0.  ]\n",
      " [1.91 0.   0.   0.  ]\n",
      " [2.4  2.   0.   0.  ]\n",
      " [0.52 0.53 1.25 0.  ]] 179 <eos> it 's very frustrating <eos>\n"
     ]
    }
   ],
   "source": [
    "counter = 0\n",
    "for i_sen in lstm_logp_matrices:\n",
    "    if len(i_sen.split(' ')) < 6 or len(i_sen.split(' ')) > 7:\n",
    "        continue\n",
    "    counter += 1\n",
    "    logp_matrix = lstm_logp_matrices[i_sen]\n",
    "    print(logp_matrix.shape)\n",
    "    pmi_matrix = pmi_matrix_from_logp_matrix(logp_matrix)\n",
    "    with np.printoptions(precision=2, suppress=True):\n",
    "        print(pmi_matrix, i_sen)\n",
    "    if counter == 4:\n",
    "        break"
   ]
  },
  {
   "cell_type": "markdown",
   "metadata": {},
   "source": [
    "\n",
    "# Alignment...\n",
    "We've got to align these results with the "
   ]
  },
  {
   "cell_type": "code",
   "execution_count": 191,
   "metadata": {},
   "outputs": [],
   "source": [
    "mstparser = parser.DepParse('mst', testmat, testsen.split(' '))"
   ]
  },
  {
   "cell_type": "code",
   "execution_count": null,
   "metadata": {},
   "outputs": [],
   "source": []
  },
  {
   "cell_type": "code",
   "execution_count": 175,
   "metadata": {},
   "outputs": [
    {
     "data": {
      "text/html": [
       "<div>\n",
       "<style scoped>\n",
       "    .dataframe tbody tr th:only-of-type {\n",
       "        vertical-align: middle;\n",
       "    }\n",
       "\n",
       "    .dataframe tbody tr th {\n",
       "        vertical-align: top;\n",
       "    }\n",
       "\n",
       "    .dataframe thead th {\n",
       "        text-align: right;\n",
       "    }\n",
       "</style>\n",
       "<table border=\"1\" class=\"dataframe\">\n",
       "  <thead>\n",
       "    <tr style=\"text-align: right;\">\n",
       "      <th></th>\n",
       "      <th>simplified</th>\n",
       "      <th>not simplified</th>\n",
       "    </tr>\n",
       "  </thead>\n",
       "  <tbody>\n",
       "    <tr>\n",
       "      <th>0</th>\n",
       "      <td>0 &lt;eos&gt; influential members of the house ways and means committee introduced legislation that would restrict how the new savings-and-loan bailout agency can raise capital creating another potential obstacle to the government 's sale of sick thrifts &lt;eos&gt;</td>\n",
       "      <td>0 Influential members of the House Ways and Means Committee introduced legislation that would restrict how the new savings-and-loan bailout agency can raise capital , creating another potential obstacle to the government 's sale of sick thrifts .</td>\n",
       "    </tr>\n",
       "    <tr>\n",
       "      <th>1</th>\n",
       "      <td>1 &lt;eos&gt; the bill whose backers include chairman dan rostenkowski d. ill. would prevent the resolution trust corp. from raising temporary working capital by having an rtc-owned bank or thrift issue debt that would n't be counted on the federal budget &lt;eos&gt;</td>\n",
       "      <td>1 The bill , whose backers include Chairman Dan Rostenkowski -LRB- D. , Ill. -RRB- , would prevent the Resolution Trust Corp. from raising temporary working capital by having an RTC-owned bank or thrift issue debt that would n't be counted on the federal budget .</td>\n",
       "    </tr>\n",
       "    <tr>\n",
       "      <th>2</th>\n",
       "      <td>2 &lt;eos&gt; the bill intends to restrict the rtc to treasury borrowings only unless the agency receives specific congressional authorization &lt;eos&gt;</td>\n",
       "      <td>2 The bill intends to restrict the RTC to Treasury borrowings only , unless the agency receives specific congressional authorization .</td>\n",
       "    </tr>\n",
       "    <tr>\n",
       "      <th>3</th>\n",
       "      <td>3 &lt;eos&gt; such agency self-help borrowing is unauthorized and expensive far more expensive than direct treasury borrowing said rep. fortney stark d. calif. the bill 's chief sponsor &lt;eos&gt;</td>\n",
       "      <td>3 `` Such agency ` self-help ' borrowing is unauthorized and expensive , far more expensive than direct Treasury borrowing , '' said Rep. Fortney Stark -LRB- D. , Calif. -RRB- , the bill 's chief sponsor .</td>\n",
       "    </tr>\n",
       "    <tr>\n",
       "      <th>4</th>\n",
       "      <td>4 &lt;eos&gt; the complex financing plan in the s&amp;l bailout law includes raising N billion from debt issued by the newly created rtc &lt;eos&gt;</td>\n",
       "      <td>4 The complex financing plan in the S&amp;L bailout law includes raising $ 30 billion from debt issued by the newly created RTC .</td>\n",
       "    </tr>\n",
       "  </tbody>\n",
       "</table>\n",
       "</div>"
      ],
      "text/plain": [
       "                                                                                                                                                                                                                                                        simplified  \\\n",
       "0   0 <eos> influential members of the house ways and means committee introduced legislation that would restrict how the new savings-and-loan bailout agency can raise capital creating another potential obstacle to the government 's sale of sick thrifts <eos>   \n",
       "1  1 <eos> the bill whose backers include chairman dan rostenkowski d. ill. would prevent the resolution trust corp. from raising temporary working capital by having an rtc-owned bank or thrift issue debt that would n't be counted on the federal budget <eos>   \n",
       "2                                                                                                                   2 <eos> the bill intends to restrict the rtc to treasury borrowings only unless the agency receives specific congressional authorization <eos>   \n",
       "3                                                                        3 <eos> such agency self-help borrowing is unauthorized and expensive far more expensive than direct treasury borrowing said rep. fortney stark d. calif. the bill 's chief sponsor <eos>   \n",
       "4                                                                                                                             4 <eos> the complex financing plan in the s&l bailout law includes raising N billion from debt issued by the newly created rtc <eos>   \n",
       "\n",
       "                                                                                                                                                                                                                                                            not simplified  \n",
       "0                   0 Influential members of the House Ways and Means Committee introduced legislation that would restrict how the new savings-and-loan bailout agency can raise capital , creating another potential obstacle to the government 's sale of sick thrifts .  \n",
       "1  1 The bill , whose backers include Chairman Dan Rostenkowski -LRB- D. , Ill. -RRB- , would prevent the Resolution Trust Corp. from raising temporary working capital by having an RTC-owned bank or thrift issue debt that would n't be counted on the federal budget .  \n",
       "2                                                                                                                                   2 The bill intends to restrict the RTC to Treasury borrowings only , unless the agency receives specific congressional authorization .  \n",
       "3                                                            3 `` Such agency ` self-help ' borrowing is unauthorized and expensive , far more expensive than direct Treasury borrowing , '' said Rep. Fortney Stark -LRB- D. , Calif. -RRB- , the bill 's chief sponsor .  \n",
       "4                                                                                                                                            4 The complex financing plan in the S&L bailout law includes raising $ 30 billion from debt issued by the newly created RTC .  "
      ]
     },
     "execution_count": 175,
     "metadata": {},
     "output_type": "execute_result"
    }
   ],
   "source": [
    "s1 = pd.Series(lstm_logp_matrices.files, name='simplified')\n",
    "s2 = pd.Series(xlnet_pmi_matrices.files, name='not simplified')\n",
    "sent_comparison = pd.concat([s1, s2], axis=1)\n",
    "pd.set_option('display.max_colwidth', None)\n",
    "sent_comparison.head()"
   ]
  },
  {
   "cell_type": "code",
   "execution_count": 177,
   "metadata": {},
   "outputs": [
    {
     "data": {
      "text/html": [
       "<div>\n",
       "<style scoped>\n",
       "    .dataframe tbody tr th:only-of-type {\n",
       "        vertical-align: middle;\n",
       "    }\n",
       "\n",
       "    .dataframe tbody tr th {\n",
       "        vertical-align: top;\n",
       "    }\n",
       "\n",
       "    .dataframe thead th {\n",
       "        text-align: right;\n",
       "    }\n",
       "</style>\n",
       "<table border=\"1\" class=\"dataframe\">\n",
       "  <thead>\n",
       "    <tr style=\"text-align: right;\">\n",
       "      <th></th>\n",
       "      <th>simplified</th>\n",
       "      <th>not simplified</th>\n",
       "    </tr>\n",
       "  </thead>\n",
       "  <tbody>\n",
       "    <tr>\n",
       "      <th>396</th>\n",
       "      <td>396 &lt;eos&gt; bsn corp. said it will begin an offer tomorrow to exchange up to one million of its common shares and all of its N.N million in N N\\/N % convertible debentures due N for a package of new debt and common stock warrants &lt;eos&gt;</td>\n",
       "      <td>396 BSN Corp. said it will begin an offer tomorrow to exchange up to one million of its common shares and all of its $ 16.6 million in 7 3/4 % convertible debentures due 2001 for a package of new debt and common stock warrants .</td>\n",
       "    </tr>\n",
       "    <tr>\n",
       "      <th>397</th>\n",
       "      <td>397 &lt;eos&gt; under terms of the offer the sporting goods maker will swap N face amount of N N\\/N % subordinated notes due N and one warrant for each common share &lt;eos&gt;</td>\n",
       "      <td>397 Under terms of the offer , the sporting goods maker will swap $ 9 face amount of 9 1/4 % subordinated notes due 1996 and one warrant for each common share .</td>\n",
       "    </tr>\n",
       "    <tr>\n",
       "      <th>398</th>\n",
       "      <td>398 &lt;eos&gt; each warrant allows the holder to buy one bsn share for N.N a share at any time over the next seven years &lt;eos&gt;</td>\n",
       "      <td>398 Each warrant allows the holder to buy one BSN share for $ 10.75 a share at any time over the next seven years .</td>\n",
       "    </tr>\n",
       "    <tr>\n",
       "      <th>399</th>\n",
       "      <td>399 &lt;eos&gt; bsn currently has N.N million common shares outstanding &lt;eos&gt;</td>\n",
       "      <td>399 BSN currently has 4.6 million common shares outstanding .</td>\n",
       "    </tr>\n",
       "    <tr>\n",
       "      <th>400</th>\n",
       "      <td>400 &lt;eos&gt; bsn also is offering N face amount of new notes and N common-stock warrants for each N,N face amount of its convertible debt outstanding &lt;eos&gt;</td>\n",
       "      <td>400 BSN also is offering $ 850 face amount of new notes and 64 common-stock warrants for each $ 1,000 face amount of its convertible debt outstanding .</td>\n",
       "    </tr>\n",
       "  </tbody>\n",
       "</table>\n",
       "</div>"
      ],
      "text/plain": [
       "                                                                                                                                                                                                                                    simplified  \\\n",
       "396  396 <eos> bsn corp. said it will begin an offer tomorrow to exchange up to one million of its common shares and all of its N.N million in N N\\/N % convertible debentures due N for a package of new debt and common stock warrants <eos>   \n",
       "397                                                                       397 <eos> under terms of the offer the sporting goods maker will swap N face amount of N N\\/N % subordinated notes due N and one warrant for each common share <eos>   \n",
       "398                                                                                                                  398 <eos> each warrant allows the holder to buy one bsn share for N.N a share at any time over the next seven years <eos>   \n",
       "399                                                                                                                                                                    399 <eos> bsn currently has N.N million common shares outstanding <eos>   \n",
       "400                                                                                   400 <eos> bsn also is offering N face amount of new notes and N common-stock warrants for each N,N face amount of its convertible debt outstanding <eos>   \n",
       "\n",
       "                                                                                                                                                                                                                           not simplified  \n",
       "396  396 BSN Corp. said it will begin an offer tomorrow to exchange up to one million of its common shares and all of its $ 16.6 million in 7 3/4 % convertible debentures due 2001 for a package of new debt and common stock warrants .  \n",
       "397                                                                      397 Under terms of the offer , the sporting goods maker will swap $ 9 face amount of 9 1/4 % subordinated notes due 1996 and one warrant for each common share .  \n",
       "398                                                                                                                   398 Each warrant allows the holder to buy one BSN share for $ 10.75 a share at any time over the next seven years .  \n",
       "399                                                                                                                                                                         399 BSN currently has 4.6 million common shares outstanding .  \n",
       "400                                                                               400 BSN also is offering $ 850 face amount of new notes and 64 common-stock warrants for each $ 1,000 face amount of its convertible debt outstanding .  "
      ]
     },
     "execution_count": 177,
     "metadata": {},
     "output_type": "execute_result"
    }
   ],
   "source": [
    "sent_comparison.loc[396:400]"
   ]
  },
  {
   "cell_type": "code",
   "execution_count": 176,
   "metadata": {
    "scrolled": false
   },
   "outputs": [
    {
     "data": {
      "text/html": [
       "<div>\n",
       "<style scoped>\n",
       "    .dataframe tbody tr th:only-of-type {\n",
       "        vertical-align: middle;\n",
       "    }\n",
       "\n",
       "    .dataframe tbody tr th {\n",
       "        vertical-align: top;\n",
       "    }\n",
       "\n",
       "    .dataframe thead th {\n",
       "        text-align: right;\n",
       "    }\n",
       "</style>\n",
       "<table border=\"1\" class=\"dataframe\">\n",
       "  <thead>\n",
       "    <tr style=\"text-align: right;\">\n",
       "      <th></th>\n",
       "      <th>simplified</th>\n",
       "      <th>not simplified</th>\n",
       "    </tr>\n",
       "  </thead>\n",
       "  <tbody>\n",
       "    <tr>\n",
       "      <th>127</th>\n",
       "      <td>127 &lt;eos&gt; average shares outstanding dropped to N.N million from N.N million &lt;eos&gt;</td>\n",
       "      <td>127 Average shares outstanding dropped to 75.8 million from 82.1 million .</td>\n",
       "    </tr>\n",
       "    <tr>\n",
       "      <th>128</th>\n",
       "      <td>128 &lt;eos&gt; revenue fell N % to N.N billion from N.N billion &lt;eos&gt;</td>\n",
       "      <td>128 Revenue fell 1 % to $ 1.39 billion from $ 1.41 billion .</td>\n",
       "    </tr>\n",
       "    <tr>\n",
       "      <th>129</th>\n",
       "      <td>129 &lt;eos&gt; the computer maker which sells more than half its goods outside the u.s. also said the negative effect of a stronger u.s. dollar will adversely affect its fourth-quarter performance and make it difficult to better N results &lt;eos&gt;</td>\n",
       "      <td>129 The computer maker , which sells more than half its goods outside the U.S. , also said the negative effect of a stronger U.S. dollar will `` adversely affect '' its fourth-quarter performance and `` make it difficult '' to better 1988 results .</td>\n",
       "    </tr>\n",
       "    <tr>\n",
       "      <th>130</th>\n",
       "      <td>130 &lt;eos&gt; ncr said revenue declined both in the u.s. and overseas reflecting a world-wide softening of the computer markets &lt;eos&gt;</td>\n",
       "      <td>130 NCR said revenue declined both in the U.S. and overseas , reflecting a world-wide softening of the computer markets .</td>\n",
       "    </tr>\n",
       "  </tbody>\n",
       "</table>\n",
       "</div>"
      ],
      "text/plain": [
       "                                                                                                                                                                                                                                          simplified  \\\n",
       "127                                                                                                                                                               127 <eos> average shares outstanding dropped to N.N million from N.N million <eos>   \n",
       "128                                                                                                                                                                                 128 <eos> revenue fell N % to N.N billion from N.N billion <eos>   \n",
       "129  129 <eos> the computer maker which sells more than half its goods outside the u.s. also said the negative effect of a stronger u.s. dollar will adversely affect its fourth-quarter performance and make it difficult to better N results <eos>   \n",
       "130                                                                                                                130 <eos> ncr said revenue declined both in the u.s. and overseas reflecting a world-wide softening of the computer markets <eos>   \n",
       "\n",
       "                                                                                                                                                                                                                                               not simplified  \n",
       "127                                                                                                                                                                                127 Average shares outstanding dropped to 75.8 million from 82.1 million .  \n",
       "128                                                                                                                                                                                              128 Revenue fell 1 % to $ 1.39 billion from $ 1.41 billion .  \n",
       "129  129 The computer maker , which sells more than half its goods outside the U.S. , also said the negative effect of a stronger U.S. dollar will `` adversely affect '' its fourth-quarter performance and `` make it difficult '' to better 1988 results .  \n",
       "130                                                                                                                                 130 NCR said revenue declined both in the U.S. and overseas , reflecting a world-wide softening of the computer markets .  "
      ]
     },
     "execution_count": 176,
     "metadata": {},
     "output_type": "execute_result"
    }
   ],
   "source": [
    "sent_comparison.loc[127:130]"
   ]
  },
  {
   "cell_type": "code",
   "execution_count": 178,
   "metadata": {},
   "outputs": [
    {
     "data": {
      "text/html": [
       "<div>\n",
       "<style scoped>\n",
       "    .dataframe tbody tr th:only-of-type {\n",
       "        vertical-align: middle;\n",
       "    }\n",
       "\n",
       "    .dataframe tbody tr th {\n",
       "        vertical-align: top;\n",
       "    }\n",
       "\n",
       "    .dataframe thead th {\n",
       "        text-align: right;\n",
       "    }\n",
       "</style>\n",
       "<table border=\"1\" class=\"dataframe\">\n",
       "  <thead>\n",
       "    <tr style=\"text-align: right;\">\n",
       "      <th></th>\n",
       "      <th>simplified</th>\n",
       "      <th>not simplified</th>\n",
       "    </tr>\n",
       "  </thead>\n",
       "  <tbody>\n",
       "    <tr>\n",
       "      <th>150</th>\n",
       "      <td>150 &lt;eos&gt; i had calls all night long from the states he said &lt;eos&gt;</td>\n",
       "      <td>150 `` I had calls all night long from the States , '' he said .</td>\n",
       "    </tr>\n",
       "    <tr>\n",
       "      <th>151</th>\n",
       "      <td>151 &lt;eos&gt; i was woken up every hour N:N N:N N:N N:N &lt;eos&gt;</td>\n",
       "      <td>151 `` I was woken up every hour -- 1:30 , 2:30 , 3:30 , 4:30 .</td>\n",
       "    </tr>\n",
       "  </tbody>\n",
       "</table>\n",
       "</div>"
      ],
      "text/plain": [
       "                                                             simplified  \\\n",
       "150  150 <eos> i had calls all night long from the states he said <eos>   \n",
       "151           151 <eos> i was woken up every hour N:N N:N N:N N:N <eos>   \n",
       "\n",
       "                                                       not simplified  \n",
       "150  150 `` I had calls all night long from the States , '' he said .  \n",
       "151   151 `` I was woken up every hour -- 1:30 , 2:30 , 3:30 , 4:30 .  "
      ]
     },
     "execution_count": 178,
     "metadata": {},
     "output_type": "execute_result"
    }
   ],
   "source": [
    "sent_comparison.loc[150:151]"
   ]
  },
  {
   "cell_type": "markdown",
   "metadata": {},
   "source": [
    "## Plot"
   ]
  },
  {
   "cell_type": "code",
   "execution_count": 181,
   "metadata": {},
   "outputs": [],
   "source": [
    "import matplotlib\n",
    "import matplotlib.pyplot as plt\n",
    "import matplotlib.colors as colors\n",
    "import matplotlib.ticker as ticker\n",
    "from mpl_toolkits.axes_grid1 import make_axes_locatable\n",
    "\n",
    "\n",
    "def show_pmi_plot(sent, mat, fig=None, ax=None, title=None):\n",
    "    lim = max(abs(np.min(mat)), abs(np.max(mat)))\n",
    "    if ax is None:\n",
    "        fig, ax = plt.subplots()\n",
    "    cax = ax.matshow(\n",
    "        mat, cmap='PuOr',\n",
    "        norm=colors.TwoSlopeNorm(vcenter=0, vmin=-lim, vmax=lim))\n",
    "    divider = make_axes_locatable(ax)\n",
    "    cax1 = divider.append_axes(\"right\", size=\"5%\", pad=0.05)\n",
    "    fig.colorbar(cax, cax=cax1)\n",
    "    ax.xaxis.set_major_locator(ticker.FixedLocator(range(len(sent))))\n",
    "    ax.yaxis.set_major_locator(ticker.FixedLocator(range(len(sent))))\n",
    "    ax.xaxis.set_major_formatter(ticker.FixedFormatter(sent))\n",
    "    ax.yaxis.set_major_formatter(ticker.FixedFormatter(sent))\n",
    "    ax.tick_params(axis=\"x\", labelrotation=40)\n",
    "    ax.set_xlabel('w2 (masked/unmasked conditioner)')\n",
    "    ax.set_ylabel('w1 (target)')\n",
    "    ax.yaxis.set_label_position(\"left\")\n",
    "    if title is not None:\n",
    "        ax.set_title(title)\n",
    "    plt.setp(ax.get_xticklabels(), rotation=35,\n",
    "             ha=\"left\", rotation_mode=\"anchor\")\n",
    "    plt.setp(ax.get_yticklabels(), rotation=35,\n",
    "             ha=\"right\", rotation_mode=\"anchor\")\n",
    "    \n",
    "def plot_from_logp_matrix(i_sen,logp_matrix):\n",
    "    pmi_matrix = pmi_matrix_from_logp_matrix(logp_matrix)\n",
    "    sentence = i_sen.split(' ')[2:-1]\n",
    "    show_pmi_plot(sent=sentence, mat=pmi_matrix)\n",
    "    \n",
    "i_sen_tuples = list(lstm_logp_matrices.items())"
   ]
  },
  {
   "cell_type": "code",
   "execution_count": 183,
   "metadata": {},
   "outputs": [
    {
     "data": {
      "image/png": "[encoded data removed]",
      "text/plain": [
       "<Figure size 432x288 with 2 Axes>"
      ]
     },
     "metadata": {
      "needs_background": "light"
     },
     "output_type": "display_data"
    }
   ],
   "source": [
    "plot_from_logp_matrix(*i_sen_tuples[33])"
   ]
  },
  {
   "cell_type": "code",
   "execution_count": 182,
   "metadata": {},
   "outputs": [
    {
     "data": {
      "image/png": "[encoded data removed]",
      "text/plain": [
       "<Figure size 432x288 with 2 Axes>"
      ]
     },
     "metadata": {
      "needs_background": "light"
     },
     "output_type": "display_data"
    },
    {
     "data": {
      "image/png": "[encoded data removed]",
      "text/plain": [
       "<Figure size 432x288 with 2 Axes>"
      ]
     },
     "metadata": {
      "needs_background": "light"
     },
     "output_type": "display_data"
    }
   ],
   "source": [
    "counter = 0\n",
    "for i_sen in lstm_logp_matrices:\n",
    "    sen_len = len(i_sen.split(' ')) - 2\n",
    "    if sen_len < 9 or sen_len > 10:\n",
    "        continue\n",
    "    counter += 1\n",
    "    plot_from_logp_matrix(i_sen,lstm_logp_matrices[i_sen])\n",
    "    if counter == 2:\n",
    "        break"
   ]
  },
  {
   "cell_type": "code",
   "execution_count": null,
   "metadata": {},
   "outputs": [],
   "source": []
  }
 ],
 "metadata": {
  "kernelspec": {
   "display_name": "Python [conda env:pmienv] *",
   "language": "python",
   "name": "conda-env-pmienv-py"
  },
  "language_info": {
   "codemirror_mode": {
    "name": "ipython",
    "version": 3
   },
   "file_extension": ".py",
   "mimetype": "text/x-python",
   "name": "python",
   "nbconvert_exporter": "python",
   "pygments_lexer": "ipython3",
   "version": "3.7.7"
  },
  "toc": {
   "base_numbering": 1,
   "nav_menu": {},
   "number_sections": true,
   "sideBar": true,
   "skip_h1_title": false,
   "title_cell": "Table of Contents",
   "title_sidebar": "Contents",
   "toc_cell": false,
   "toc_position": {},
   "toc_section_display": true,
   "toc_window_display": false
  },
  "varInspector": {
   "cols": {
    "lenName": 16,
    "lenType": 16,
    "lenVar": 40
   },
   "kernels_config": {
    "python": {
     "delete_cmd_postfix": "",
     "delete_cmd_prefix": "del ",
     "library": "var_list.py",
     "varRefreshCmd": "print(var_dic_list())"
    },
    "r": {
     "delete_cmd_postfix": ") ",
     "delete_cmd_prefix": "rm(",
     "library": "var_list.r",
     "varRefreshCmd": "cat(var_dic_list()) "
    }
   },
   "types_to_exclude": [
    "module",
    "function",
    "builtin_function_or_method",
    "instance",
    "_Feature"
   ],
   "window_display": false
  }
 },
 "nbformat": 4,
 "nbformat_minor": 4
}
