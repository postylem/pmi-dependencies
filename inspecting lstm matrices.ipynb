{
 "cells": [
  {
   "cell_type": "code",
   "execution_count": 109,
   "metadata": {},
   "outputs": [],
   "source": [
    "import numpy as np\n",
    "import os\n",
    "import pandas as pd"
   ]
  },
  {
   "cell_type": "code",
   "execution_count": 6,
   "metadata": {},
   "outputs": [],
   "source": [
    "RESULTS_DIR = \"results-clean/xlnet-base-cased_pad30_2020-08-07-09-12/\"\n",
    "xlnet_pmi_matrices = np.load(os.path.join(RESULTS_DIR, 'pmi_matrices.npz'))\n",
    "lstm_logp_matrices = np.load('lstm_logp_matrices.npz')\n",
    "onlstm_logp_matrices = np.load('onlstm_logp_matrices.npz')\n",
    "\n",
    "assert len(xlnet_pmi_matrices) == len(lstm_logp_matrices) == len(onlstm_logp_matrices)"
   ]
  },
  {
   "cell_type": "markdown",
   "metadata": {},
   "source": [
    "We are calculating pmi matrix, where this is\n",
    "\n",
    "$$\\mathrm{PMI}({\\bf w}_I;{\\bf w}_J\\mid {\\bf w}_{0:J-1,J+1:I-1}) = \n",
    "\\log \\frac{p({\\bf w}_I\\mid  {\\bf w}_{0:I-1})}\n",
    "          {p({\\bf w}_I\\mid {\\bf w}_{0:J-1,J+1:I-1})} = \\log(unmasked) - \\log(masked)$$\n",
    "where ${\\bf w}_{0:J-1,J+1:I-1}$ is the sentence up to ${\\bf w}_I$, without ${\\bf w}_J$.\n",
    "\n",
    "--\n",
    "\n",
    "The logp matrices are interpreted as follows: the value in row $r$, column $c$ is the estimated logp of word c+1 when word $r$ is masked.\n",
    "\n",
    "that is\n",
    "\n",
    "- in row $r$ we have masked the token in position $r$.\n",
    "- in column $c$ are logprobabilities for the word in position $c+1$ (so there is one fewer columns than rows).\n",
    "- if sentence length (without punctuation) $=n$ tokens, then the logp matrix is of size $(n+2)$-by-$(n+1)$, because an `<eos>` token is appended to the beginning and end of the sentence.\n",
    "\n",
    "\n",
    "So, the final row in the logp matrix is the row of logps with _no masking_ (bc it is masking last element, which isn't seen by model).  So this is our pmi numerator. The entry at position $r,c$ is the logp of word at position $c+1$ when word at position $r$ is masked, so that gives the numerator for PMI. Note we don't care about predictions of `<eos>`, or masking of `<eos>`, so we will ignore the first row, as well as the last, and also the last column.\n",
    "\n",
    "For consistency with the other PMI matrices, where rows correspond to target word, columns to masked word, we should transpose this result (so bottom triangle is nonzero)."
   ]
  },
  {
   "cell_type": "code",
   "execution_count": 79,
   "metadata": {},
   "outputs": [
    {
     "name": "stdout",
     "output_type": "stream",
     "text": [
      "for example\n",
      "1276 <eos> source telerate systems inc <eos>\n",
      "[[ 0.    0.    0.    0.  ]\n",
      " [-0.06  0.    0.    0.  ]\n",
      " [ 0.35  3.09  0.    0.  ]\n",
      " [ 0.68  2.35  2.42  0.  ]]\n"
     ]
    }
   ],
   "source": [
    "def pmi_matrix_from_logp_matrix(input_logp_matrix, transpose=True):\n",
    "    \"\"\"Convert nparray of logps to pmi matrix\"\"\"\n",
    "    logp_matrix = input_logp_matrix[:,:-1] # drop last column\n",
    "    logp_unmasked = logp_matrix[-1] # last row is unmasked logps\n",
    "    # dropping first and last row, subtract from unmasked logps\n",
    "    pmimat = logp_unmasked - logp_matrix[1:-1]\n",
    "    if transpose:\n",
    "        pmimat = pmimat.T\n",
    "    return(pmimat)\n",
    "\n",
    "print('for example')\n",
    "with np.printoptions(precision=2, suppress=True):\n",
    "    testsen = lstm_logp_matrices.files[1276]\n",
    "    testmat = lstm_logp_matrices[testsen]\n",
    "    print(\n",
    "        testsen, \n",
    "        pmi_matrix_from_logp_matrix(testmat), \n",
    "        sep='\\n')"
   ]
  },
  {
   "cell_type": "code",
   "execution_count": 107,
   "metadata": {},
   "outputs": [
    {
     "name": "stdout",
     "output_type": "stream",
     "text": [
      "(6, 5)\n",
      "[[0.   0.   0.   0.  ]\n",
      " [1.82 0.   0.   0.  ]\n",
      " [1.16 3.27 0.   0.  ]\n",
      " [2.44 3.46 4.05 0.  ]] 69 <eos> terms were n't disclosed <eos>\n",
      "(6, 5)\n",
      "[[ 0.    0.    0.    0.  ]\n",
      " [ 3.74  0.    0.    0.  ]\n",
      " [-0.59 -0.47  0.    0.  ]\n",
      " [ 0.13 -0.05  0.2   0.  ]] 102 <eos> i love 'em both <eos>\n",
      "(5, 4)\n",
      "[[ 0.    0.    0.  ]\n",
      " [ 0.54  0.    0.  ]\n",
      " [-1.49 -0.11  0.  ]] 123 <eos> that 's baseball <eos>\n",
      "(6, 5)\n",
      "[[0.   0.   0.   0.  ]\n",
      " [1.91 0.   0.   0.  ]\n",
      " [2.4  2.   0.   0.  ]\n",
      " [0.52 0.53 1.25 0.  ]] 179 <eos> it 's very frustrating <eos>\n"
     ]
    }
   ],
   "source": [
    "counter=0\n",
    "for i_sen in lstm_logp_matrices:\n",
    "    if len(i_sen.split(' ')) < 6 or len(i_sen.split(' ')) > 7:\n",
    "        continue\n",
    "    counter+=1\n",
    "    logp_matrix = lstm_logp_matrices[i_sen]\n",
    "    print(logp_matrix.shape)\n",
    "    pmi_matrix = pmi_matrix_from_logp_matrix(logp_matrix)\n",
    "    with np.printoptions(precision=2, suppress=True):\n",
    "        print(pmi_matrix, i_sen)\n",
    "    if counter==4:\n",
    "        break"
   ]
  },
  {
   "cell_type": "code",
   "execution_count": 96,
   "metadata": {},
   "outputs": [
    {
     "name": "stdout",
     "output_type": "stream",
     "text": [
      "Dev sentence number 1276 \n",
      "\n",
      "1276 <eos> source telerate systems inc <eos>\n",
      "(6, 5)\n",
      "[[ -9.82 -11.66  -5.44  -2.26  -9.53]\n",
      " [-10.4  -11.27  -5.67  -2.9   -7.43]\n",
      " [-10.4  -11.33  -8.41  -4.57  -7.85]\n",
      " [-10.4  -11.33  -5.33  -4.64  -8.2 ]\n",
      " [-10.4  -11.33  -5.33  -2.21  -3.51]\n",
      " [-10.4  -11.33  -5.33  -2.21  -9.55]]\n",
      "\n",
      "1276 <eos> source telerate systems inc <eos>\n",
      "(6, 5)\n",
      "[[ -9.82 -11.66  -5.44  -2.26  -9.53]\n",
      " [-10.4  -11.27  -5.67  -2.9   -7.43]\n",
      " [-10.4  -11.33  -8.41  -4.57  -7.85]\n",
      " [-10.4  -11.33  -5.33  -4.64  -8.2 ]\n",
      " [-10.4  -11.33  -5.33  -2.21  -3.51]\n",
      " [-10.4  -11.33  -5.33  -2.21  -9.55]]\n",
      "\n"
     ]
    }
   ],
   "source": [
    "i=1276\n",
    "print(\"Dev sentence number\", i, '\\n')\n",
    "with np.printoptions(precision=2, suppress=True):\n",
    "    for npz in [lstm_logp_matrices, lstm_logp_matrices]:\n",
    "        sentence = npz.files[i]\n",
    "        idx = sentence.split(' ')[0]\n",
    "        assert int(idx) == i\n",
    "        matrix = npz[sentence]\n",
    "        print(sentence, np.shape(matrix), matrix, sep='\\n')\n",
    "        print()"
   ]
  },
  {
   "cell_type": "code",
   "execution_count": 125,
   "metadata": {},
   "outputs": [
    {
     "data": {
      "text/html": [
       "<div>\n",
       "<style scoped>\n",
       "    .dataframe tbody tr th:only-of-type {\n",
       "        vertical-align: middle;\n",
       "    }\n",
       "\n",
       "    .dataframe tbody tr th {\n",
       "        vertical-align: top;\n",
       "    }\n",
       "\n",
       "    .dataframe thead th {\n",
       "        text-align: right;\n",
       "    }\n",
       "</style>\n",
       "<table border=\"1\" class=\"dataframe\">\n",
       "  <thead>\n",
       "    <tr style=\"text-align: right;\">\n",
       "      <th></th>\n",
       "      <th>simplified</th>\n",
       "      <th>not simplified</th>\n",
       "    </tr>\n",
       "  </thead>\n",
       "  <tbody>\n",
       "    <tr>\n",
       "      <th>390</th>\n",
       "      <td>390 &lt;eos&gt; the fdic which in N provided N milli...</td>\n",
       "      <td>390 The FDIC , which in 1986 provided $ 130 mi...</td>\n",
       "    </tr>\n",
       "    <tr>\n",
       "      <th>391</th>\n",
       "      <td>391 &lt;eos&gt; in exchange for the other N million ...</td>\n",
       "      <td>391 In exchange for the other $ 40 million , t...</td>\n",
       "    </tr>\n",
       "    <tr>\n",
       "      <th>392</th>\n",
       "      <td>392 &lt;eos&gt; in exchange for the N million they a...</td>\n",
       "      <td>392 In exchange for the $ 76 million they are ...</td>\n",
       "    </tr>\n",
       "    <tr>\n",
       "      <th>393</th>\n",
       "      <td>393 &lt;eos&gt; also under the agreement debenture h...</td>\n",
       "      <td>393 Also under the agreement , debenture holde...</td>\n",
       "    </tr>\n",
       "    <tr>\n",
       "      <th>394</th>\n",
       "      <td>394 &lt;eos&gt; bear stearns 's chief economist lawr...</td>\n",
       "      <td>394 Bear Stearns 's chief economist , Lawrence...</td>\n",
       "    </tr>\n",
       "    <tr>\n",
       "      <th>395</th>\n",
       "      <td>395 &lt;eos&gt; were it true that a weak currency pa...</td>\n",
       "      <td>395 Were it true that a weak currency paves th...</td>\n",
       "    </tr>\n",
       "    <tr>\n",
       "      <th>396</th>\n",
       "      <td>396 &lt;eos&gt; bsn corp. said it will begin an offe...</td>\n",
       "      <td>396 BSN Corp. said it will begin an offer tomo...</td>\n",
       "    </tr>\n",
       "    <tr>\n",
       "      <th>397</th>\n",
       "      <td>397 &lt;eos&gt; under terms of the offer the sportin...</td>\n",
       "      <td>397 Under terms of the offer , the sporting go...</td>\n",
       "    </tr>\n",
       "    <tr>\n",
       "      <th>398</th>\n",
       "      <td>398 &lt;eos&gt; each warrant allows the holder to bu...</td>\n",
       "      <td>398 Each warrant allows the holder to buy one ...</td>\n",
       "    </tr>\n",
       "    <tr>\n",
       "      <th>399</th>\n",
       "      <td>399 &lt;eos&gt; bsn currently has N.N million common...</td>\n",
       "      <td>399 BSN currently has 4.6 million common share...</td>\n",
       "    </tr>\n",
       "    <tr>\n",
       "      <th>400</th>\n",
       "      <td>400 &lt;eos&gt; bsn also is offering N face amount o...</td>\n",
       "      <td>400 BSN also is offering $ 850 face amount of ...</td>\n",
       "    </tr>\n",
       "  </tbody>\n",
       "</table>\n",
       "</div>"
      ],
      "text/plain": [
       "                                            simplified  \\\n",
       "390  390 <eos> the fdic which in N provided N milli...   \n",
       "391  391 <eos> in exchange for the other N million ...   \n",
       "392  392 <eos> in exchange for the N million they a...   \n",
       "393  393 <eos> also under the agreement debenture h...   \n",
       "394  394 <eos> bear stearns 's chief economist lawr...   \n",
       "395  395 <eos> were it true that a weak currency pa...   \n",
       "396  396 <eos> bsn corp. said it will begin an offe...   \n",
       "397  397 <eos> under terms of the offer the sportin...   \n",
       "398  398 <eos> each warrant allows the holder to bu...   \n",
       "399  399 <eos> bsn currently has N.N million common...   \n",
       "400  400 <eos> bsn also is offering N face amount o...   \n",
       "\n",
       "                                        not simplified  \n",
       "390  390 The FDIC , which in 1986 provided $ 130 mi...  \n",
       "391  391 In exchange for the other $ 40 million , t...  \n",
       "392  392 In exchange for the $ 76 million they are ...  \n",
       "393  393 Also under the agreement , debenture holde...  \n",
       "394  394 Bear Stearns 's chief economist , Lawrence...  \n",
       "395  395 Were it true that a weak currency paves th...  \n",
       "396  396 BSN Corp. said it will begin an offer tomo...  \n",
       "397  397 Under terms of the offer , the sporting go...  \n",
       "398  398 Each warrant allows the holder to buy one ...  \n",
       "399  399 BSN currently has 4.6 million common share...  \n",
       "400  400 BSN also is offering $ 850 face amount of ...  "
      ]
     },
     "execution_count": 125,
     "metadata": {},
     "output_type": "execute_result"
    }
   ],
   "source": [
    "s1 = pd.Series(lstm_logp_matrices.files, name='simplified')\n",
    "s2 = pd.Series(xlnet_pmi_matrices.files, name='not simplified')\n",
    "sent_comparison = pd.concat([s1, s2], axis=1)\n",
    "sent_comparison.loc[390:400]"
   ]
  },
  {
   "cell_type": "code",
   "execution_count": null,
   "metadata": {},
   "outputs": [],
   "source": []
  },
  {
   "cell_type": "code",
   "execution_count": null,
   "metadata": {},
   "outputs": [],
   "source": []
  },
  {
   "cell_type": "code",
   "execution_count": null,
   "metadata": {},
   "outputs": [],
   "source": []
  }
 ],
 "metadata": {
  "kernelspec": {
   "display_name": "Python [conda env:pmienv] *",
   "language": "python",
   "name": "conda-env-pmienv-py"
  },
  "language_info": {
   "codemirror_mode": {
    "name": "ipython",
    "version": 3
   },
   "file_extension": ".py",
   "mimetype": "text/x-python",
   "name": "python",
   "nbconvert_exporter": "python",
   "pygments_lexer": "ipython3",
   "version": "3.7.7"
  },
  "toc": {
   "base_numbering": 1,
   "nav_menu": {},
   "number_sections": true,
   "sideBar": true,
   "skip_h1_title": false,
   "title_cell": "Table of Contents",
   "title_sidebar": "Contents",
   "toc_cell": false,
   "toc_position": {},
   "toc_section_display": true,
   "toc_window_display": false
  },
  "varInspector": {
   "cols": {
    "lenName": 16,
    "lenType": 16,
    "lenVar": 40
   },
   "kernels_config": {
    "python": {
     "delete_cmd_postfix": "",
     "delete_cmd_prefix": "del ",
     "library": "var_list.py",
     "varRefreshCmd": "print(var_dic_list())"
    },
    "r": {
     "delete_cmd_postfix": ") ",
     "delete_cmd_prefix": "rm(",
     "library": "var_list.r",
     "varRefreshCmd": "cat(var_dic_list()) "
    }
   },
   "types_to_exclude": [
    "module",
    "function",
    "builtin_function_or_method",
    "instance",
    "_Feature"
   ],
   "window_display": false
  }
 },
 "nbformat": 4,
 "nbformat_minor": 4
}
